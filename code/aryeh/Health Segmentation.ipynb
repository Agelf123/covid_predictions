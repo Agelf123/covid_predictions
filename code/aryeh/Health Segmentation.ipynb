{
 "cells": [
  {
   "cell_type": "code",
   "execution_count": 2,
   "metadata": {},
   "outputs": [
    {
     "name": "stderr",
     "output_type": "stream",
     "text": [
      "/Users/aryehgelfand/opt/anaconda3/lib/python3.7/site-packages/IPython/core/interactiveshell.py:3063: DtypeWarning: Columns (10) have mixed types.Specify dtype option on import or set low_memory=False.\n",
      "  interactivity=interactivity, compiler=compiler, result=result)\n"
     ]
    }
   ],
   "source": [
    "import pandas as pd\n",
    "\n",
    "df = pd.read_csv('health.csv')"
   ]
  },
  {
   "cell_type": "code",
   "execution_count": 3,
   "metadata": {},
   "outputs": [],
   "source": [
    "df.drop(columns=('Unnamed: 0'),inplace=True)"
   ]
  },
  {
   "cell_type": "code",
   "execution_count": 4,
   "metadata": {},
   "outputs": [],
   "source": [
    "df = df.loc[:, df.isnull().mean() <= .9]"
   ]
  },
  {
   "cell_type": "code",
   "execution_count": 5,
   "metadata": {},
   "outputs": [
    {
     "data": {
      "text/plain": [
       "(3140, 1086)"
      ]
     },
     "execution_count": 5,
     "metadata": {},
     "output_type": "execute_result"
    }
   ],
   "source": [
    "df.shape"
   ]
  },
  {
   "cell_type": "code",
   "execution_count": 6,
   "metadata": {},
   "outputs": [],
   "source": [
    "total = df.loc[:, df.columns.str.contains('Total')]\n",
    "beds = df.loc[:, df.columns.str.contains('Beds')]\n",
    "MD = df.loc[:, df.columns.str.contains('M.D')]\n",
    "hos =  df.loc[:, df.columns.str.contains('Hosp')]\n",
    "PA = df.loc[:, df.columns.str.contains('Physician Assistants')]\n",
    "nurses = df.loc[:, df.columns.str.contains('Nurses')]\n",
    "nurse = df.loc[:, df.columns.str.contains('Nurse')]\n",
    "DO = df.loc[:, df.columns.str.contains('DO')]\n",
    "surgery = df.loc[:, df.columns.str.contains('Surgery')]\n",
    "rt = df.loc[:, df.columns.str.contains('Respiratory Therapists')]\n",
    "psych = df.loc[:, df.columns.str.contains('Psychiatry')]\n",
    "nur = df.loc[:, df.columns.str.contains('Nurs')]\n"
   ]
  },
  {
   "cell_type": "code",
   "execution_count": 7,
   "metadata": {},
   "outputs": [
    {
     "data": {
      "text/plain": [
       "(3140, 1086)"
      ]
     },
     "execution_count": 7,
     "metadata": {},
     "output_type": "execute_result"
    }
   ],
   "source": [
    "df.shape\n"
   ]
  },
  {
   "cell_type": "code",
   "execution_count": 8,
   "metadata": {},
   "outputs": [
    {
     "data": {
      "text/plain": [
       "(3140, 7)"
      ]
     },
     "execution_count": 8,
     "metadata": {},
     "output_type": "execute_result"
    }
   ],
   "source": [
    "health_final = df[['County','total_covid','countyFIPS','cases','deaths','hospital_beds','# hospitals']]\n",
    "health_final.shape\n"
   ]
  },
  {
   "cell_type": "code",
   "execution_count": 9,
   "metadata": {},
   "outputs": [
    {
     "data": {
      "text/plain": [
       "(3140, 17)"
      ]
     },
     "execution_count": 9,
     "metadata": {},
     "output_type": "execute_result"
    }
   ],
   "source": [
    "total = df.loc[:, df.columns.str.contains('Total')]\n",
    "beds = df.loc[:, df.columns.str.contains('Beds')]\n",
    "MD = df.loc[:, df.columns.str.contains('M.D')]\n",
    "hos =  df.loc[:, df.columns.str.contains('Hosp')]\n",
    "PA = df.loc[:, df.columns.str.contains('Physician Assistants')]\n",
    "nurses = df.loc[:, df.columns.str.contains('Nurses')]\n",
    "nurse = df.loc[:, df.columns.str.contains('Nurse')]\n",
    "DO = df.loc[:, df.columns.str.contains('DO')]\n",
    "surgery = df.loc[:, df.columns.str.contains('Surgery')]\n",
    "rt = df.loc[:, df.columns.str.contains('Respiratory Therapists')]\n",
    "psych = df.loc[:, df.columns.str.contains('Psychiatry')]\n",
    "nur = df.loc[:, df.columns.str.contains('Nurs')]\n",
    "MD.shape"
   ]
  },
  {
   "cell_type": "code",
   "execution_count": 10,
   "metadata": {},
   "outputs": [],
   "source": [
    "df1 = health_final.merge(\n",
    "        total, how=\"left\", left_index=True, right_index=True\n",
    "    )\n",
    "df2 = df1.merge(\n",
    "        beds, how=\"left\", left_index=True, right_index=True\n",
    "    )\n",
    "df3 = df2.merge(\n",
    "        MD, how=\"left\", left_index=True, right_index=True\n",
    "    )\n",
    "df4 = df3.merge(\n",
    "        hos, how=\"left\", left_index=True, right_index=True\n",
    "    )\n",
    "df5 = df4.merge(\n",
    "        PA, how=\"left\", left_index=True, right_index=True\n",
    "    )\n",
    "df6 = df5.merge(\n",
    "        nurses, how=\"left\", left_index=True, right_index=True\n",
    "    )\n",
    "df7= df6.merge(\n",
    "        nurse, how=\"left\", left_index=True, right_index=True\n",
    "    )\n",
    "df8= df7.merge(\n",
    "        DO, how=\"left\", left_index=True, right_index=True\n",
    "    )\n",
    "df9= df8.merge(\n",
    "        surgery, how=\"left\", left_index=True, right_index=True\n",
    "    )\n",
    "df10= df9.merge(\n",
    "        rt, how=\"left\", left_index=True, right_index=True\n",
    "    )\n",
    "df11= df10.merge(\n",
    "        psych, how=\"left\", left_index=True, right_index=True\n",
    "    )\n",
    "df13= df11.merge(\n",
    "        nur, how=\"left\", left_index=True, right_index=True\n",
    "    )"
   ]
  },
  {
   "cell_type": "code",
   "execution_count": 11,
   "metadata": {},
   "outputs": [
    {
     "data": {
      "text/plain": [
       "(3140, 754)"
      ]
     },
     "execution_count": 11,
     "metadata": {},
     "output_type": "execute_result"
    }
   ],
   "source": [
    "health_final = df13\n",
    "health_final.shape"
   ]
  },
  {
   "cell_type": "code",
   "execution_count": 12,
   "metadata": {},
   "outputs": [],
   "source": [
    "health_final.drop_duplicates(inplace=True)"
   ]
  },
  {
   "cell_type": "code",
   "execution_count": 13,
   "metadata": {},
   "outputs": [
    {
     "data": {
      "text/plain": [
       "(3140, 754)"
      ]
     },
     "execution_count": 13,
     "metadata": {},
     "output_type": "execute_result"
    }
   ],
   "source": [
    "health_final.shape"
   ]
  },
  {
   "cell_type": "code",
   "execution_count": 14,
   "metadata": {},
   "outputs": [],
   "source": [
    "health_final.fillna(0,inplace=True)\n"
   ]
  },
  {
   "cell_type": "code",
   "execution_count": 15,
   "metadata": {},
   "outputs": [],
   "source": [
    "health_final = health_final.loc[:,~health_final.columns.duplicated()]"
   ]
  },
  {
   "cell_type": "code",
   "execution_count": 16,
   "metadata": {},
   "outputs": [
    {
     "data": {
      "text/plain": [
       "(3140, 752)"
      ]
     },
     "execution_count": 16,
     "metadata": {},
     "output_type": "execute_result"
    }
   ],
   "source": [
    "health_final.shape"
   ]
  },
  {
   "cell_type": "code",
   "execution_count": 17,
   "metadata": {},
   "outputs": [
    {
     "name": "stderr",
     "output_type": "stream",
     "text": [
      "/Users/aryehgelfand/opt/anaconda3/lib/python3.7/site-packages/pandas/core/series.py:4494: SettingWithCopyWarning: \n",
      "A value is trying to be set on a copy of a slice from a DataFrame\n",
      "\n",
      "See the caveats in the documentation: https://pandas.pydata.org/pandas-docs/stable/user_guide/indexing.html#returning-a-view-versus-a-copy\n",
      "  self._update_inplace(result)\n"
     ]
    }
   ],
   "source": [
    "health_final['County'].dropna(inplace=True)"
   ]
  },
  {
   "cell_type": "code",
   "execution_count": 18,
   "metadata": {},
   "outputs": [],
   "source": [
    "health_final.to_csv('health_resources.csv')\n"
   ]
  },
  {
   "cell_type": "code",
   "execution_count": 19,
   "metadata": {},
   "outputs": [
    {
     "data": {
      "text/plain": [
       "(3140, 752)"
      ]
     },
     "execution_count": 19,
     "metadata": {},
     "output_type": "execute_result"
    }
   ],
   "source": [
    "health_final.shape"
   ]
  },
  {
   "cell_type": "code",
   "execution_count": 21,
   "metadata": {},
   "outputs": [
    {
     "data": {
      "text/plain": [
       "0.0       3093\n",
       "34.0         3\n",
       "50.0         2\n",
       "6.0          1\n",
       "30.0         1\n",
       "141.0        1\n",
       "904.0        1\n",
       "653.0        1\n",
       "181.0        1\n",
       "225.0        1\n",
       "256.0        1\n",
       "36.0         1\n",
       "17.0         1\n",
       "28.0         1\n",
       "552.0        1\n",
       "32.0         1\n",
       "13.0         1\n",
       "14.0         1\n",
       "12.0         1\n",
       "19.0         1\n",
       "40.0         1\n",
       "83.0         1\n",
       "149.0        1\n",
       "151.0        1\n",
       "2150.0       1\n",
       "174.0        1\n",
       "105.0        1\n",
       "87.0         1\n",
       "783.0        1\n",
       "806.0        1\n",
       "173.0        1\n",
       "465.0        1\n",
       "1618.0       1\n",
       "41.0         1\n",
       "1120.0       1\n",
       "824.0        1\n",
       "47.0         1\n",
       "282.0        1\n",
       "43.0         1\n",
       "332.0        1\n",
       "78.0         1\n",
       "461.0        1\n",
       "4942.0       1\n",
       "708.0        1\n",
       "1467.0       1\n",
       "Name: Aerospace Med, Total Patn Care, dtype: int64"
      ]
     },
     "execution_count": 21,
     "metadata": {},
     "output_type": "execute_result"
    }
   ],
   "source": [
    "health_final['Aerospace Med, Total Patn Care'].value_counts()"
   ]
  },
  {
   "cell_type": "code",
   "execution_count": null,
   "metadata": {},
   "outputs": [],
   "source": []
  }
 ],
 "metadata": {
  "kernelspec": {
   "display_name": "Python 3",
   "language": "python",
   "name": "python3"
  },
  "language_info": {
   "codemirror_mode": {
    "name": "ipython",
    "version": 3
   },
   "file_extension": ".py",
   "mimetype": "text/x-python",
   "name": "python",
   "nbconvert_exporter": "python",
   "pygments_lexer": "ipython3",
   "version": "3.7.4"
  }
 },
 "nbformat": 4,
 "nbformat_minor": 2
}
