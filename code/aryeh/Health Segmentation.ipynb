{
 "cells": [
  {
   "cell_type": "code",
   "execution_count": 174,
   "metadata": {},
   "outputs": [
    {
     "name": "stderr",
     "output_type": "stream",
     "text": [
      "/Users/aryehgelfand/opt/anaconda3/lib/python3.7/site-packages/IPython/core/interactiveshell.py:3063: DtypeWarning: Columns (10) have mixed types.Specify dtype option on import or set low_memory=False.\n",
      "  interactivity=interactivity, compiler=compiler, result=result)\n"
     ]
    }
   ],
   "source": [
    "import pandas as pd\n",
    "\n",
    "df = pd.read_csv('health.csv')"
   ]
  },
  {
   "cell_type": "code",
   "execution_count": 175,
   "metadata": {},
   "outputs": [],
   "source": [
    "df.drop(columns=('Unnamed: 0'),inplace=True)"
   ]
  },
  {
   "cell_type": "code",
   "execution_count": 176,
   "metadata": {},
   "outputs": [],
   "source": [
    "df = df.loc[:, df.isnull().mean() <= .9]"
   ]
  },
  {
   "cell_type": "code",
   "execution_count": 177,
   "metadata": {},
   "outputs": [
    {
     "data": {
      "text/plain": [
       "(3140, 1086)"
      ]
     },
     "execution_count": 177,
     "metadata": {},
     "output_type": "execute_result"
    }
   ],
   "source": [
    "df.shape"
   ]
  },
  {
   "cell_type": "code",
   "execution_count": 178,
   "metadata": {},
   "outputs": [],
   "source": [
    "total = df.loc[:, df.columns.str.contains('Total')]\n",
    "beds = df.loc[:, df.columns.str.contains('Beds')]\n",
    "MD = df.loc[:, df.columns.str.contains('M.D')]\n",
    "hos =  df.loc[:, df.columns.str.contains('Hosp')]\n",
    "PA = df.loc[:, df.columns.str.contains('Physician Assistants')]\n",
    "nurses = df.loc[:, df.columns.str.contains('Nurses')]\n",
    "nurse = df.loc[:, df.columns.str.contains('Nurse')]\n",
    "DO = df.loc[:, df.columns.str.contains('DO')]\n",
    "surgery = df.loc[:, df.columns.str.contains('Surgery')]\n",
    "rt = df.loc[:, df.columns.str.contains('Respiratory Therapists')]\n",
    "psych = df.loc[:, df.columns.str.contains('Psychiatry')]\n",
    "nur = df.loc[:, df.columns.str.contains('Nurs')]\n"
   ]
  },
  {
   "cell_type": "code",
   "execution_count": 179,
   "metadata": {},
   "outputs": [
    {
     "data": {
      "text/plain": [
       "(3140, 1086)"
      ]
     },
     "execution_count": 179,
     "metadata": {},
     "output_type": "execute_result"
    }
   ],
   "source": [
    "df.shape\n"
   ]
  },
  {
   "cell_type": "code",
   "execution_count": 180,
   "metadata": {},
   "outputs": [
    {
     "data": {
      "text/plain": [
       "(3140, 7)"
      ]
     },
     "execution_count": 180,
     "metadata": {},
     "output_type": "execute_result"
    }
   ],
   "source": [
    "health_final = df[['County','total_covid','countyFIPS','cases','deaths','hospital_beds','# hospitals']]\n",
    "health_final.shape\n"
   ]
  },
  {
   "cell_type": "code",
   "execution_count": 143,
   "metadata": {},
   "outputs": [
    {
     "data": {
      "text/plain": [
       "(3140, 17)"
      ]
     },
     "execution_count": 143,
     "metadata": {},
     "output_type": "execute_result"
    }
   ],
   "source": [
    "total = df.loc[:, df.columns.str.contains('Total')]\n",
    "beds = df.loc[:, df.columns.str.contains('Beds')]\n",
    "MD = df.loc[:, df.columns.str.contains('M.D')]\n",
    "hos =  df.loc[:, df.columns.str.contains('Hosp')]\n",
    "PA = df.loc[:, df.columns.str.contains('Physician Assistants')]\n",
    "nurses = df.loc[:, df.columns.str.contains('Nurses')]\n",
    "nurse = df.loc[:, df.columns.str.contains('Nurse')]\n",
    "DO = df.loc[:, df.columns.str.contains('DO')]\n",
    "surgery = df.loc[:, df.columns.str.contains('Surgery')]\n",
    "rt = df.loc[:, df.columns.str.contains('Respiratory Therapists')]\n",
    "psych = df.loc[:, df.columns.str.contains('Psychiatry')]\n",
    "nur = df.loc[:, df.columns.str.contains('Nurs')]\n",
    "MD.shape"
   ]
  },
  {
   "cell_type": "code",
   "execution_count": 208,
   "metadata": {},
   "outputs": [],
   "source": [
    "df1 = health_final.merge(\n",
    "        total, how=\"left\", left_index=True, right_index=True\n",
    "    )\n",
    "df2 = df1.merge(\n",
    "        beds, how=\"left\", left_index=True, right_index=True\n",
    "    )\n",
    "df3 = df2.merge(\n",
    "        MD, how=\"left\", left_index=True, right_index=True\n",
    "    )\n",
    "df4 = df3.merge(\n",
    "        hos, how=\"left\", left_index=True, right_index=True\n",
    "    )\n",
    "df5 = df4.merge(\n",
    "        PA, how=\"left\", left_index=True, right_index=True\n",
    "    )\n",
    "df6 = df5.merge(\n",
    "        nurses, how=\"left\", left_index=True, right_index=True\n",
    "    )\n",
    "df7= df6.merge(\n",
    "        nurse, how=\"left\", left_index=True, right_index=True\n",
    "    )\n",
    "df8= df7.merge(\n",
    "        DO, how=\"left\", left_index=True, right_index=True\n",
    "    )\n",
    "df9= df8.merge(\n",
    "        surgery, how=\"left\", left_index=True, right_index=True\n",
    "    )\n",
    "df10= df9.merge(\n",
    "        rt, how=\"left\", left_index=True, right_index=True\n",
    "    )\n",
    "df11= df10.merge(\n",
    "        psych, how=\"left\", left_index=True, right_index=True\n",
    "    )\n",
    "df13= df11.merge(\n",
    "        nur, how=\"left\", left_index=True, right_index=True\n",
    "    )"
   ]
  },
  {
   "cell_type": "code",
   "execution_count": 209,
   "metadata": {},
   "outputs": [
    {
     "data": {
      "text/plain": [
       "(3110, 754)"
      ]
     },
     "execution_count": 209,
     "metadata": {},
     "output_type": "execute_result"
    }
   ],
   "source": [
    "health_final = df13\n",
    "health_final.shape"
   ]
  },
  {
   "cell_type": "code",
   "execution_count": 210,
   "metadata": {},
   "outputs": [],
   "source": [
    "health_final.drop_duplicates(inplace=True)"
   ]
  },
  {
   "cell_type": "code",
   "execution_count": 211,
   "metadata": {},
   "outputs": [
    {
     "data": {
      "text/plain": [
       "(3110, 754)"
      ]
     },
     "execution_count": 211,
     "metadata": {},
     "output_type": "execute_result"
    }
   ],
   "source": [
    "health_final.shape"
   ]
  },
  {
   "cell_type": "code",
   "execution_count": 212,
   "metadata": {},
   "outputs": [],
   "source": [
    "health_final.fillna(0,inplace=True)\n"
   ]
  },
  {
   "cell_type": "code",
   "execution_count": 213,
   "metadata": {},
   "outputs": [],
   "source": [
    "health_final = health_final.loc[:,~health_final.columns.duplicated()]"
   ]
  },
  {
   "cell_type": "code",
   "execution_count": 214,
   "metadata": {},
   "outputs": [
    {
     "data": {
      "text/plain": [
       "(3110, 752)"
      ]
     },
     "execution_count": 214,
     "metadata": {},
     "output_type": "execute_result"
    }
   ],
   "source": [
    "health_final.shape"
   ]
  },
  {
   "cell_type": "code",
   "execution_count": 215,
   "metadata": {},
   "outputs": [
    {
     "name": "stderr",
     "output_type": "stream",
     "text": [
      "/Users/aryehgelfand/opt/anaconda3/lib/python3.7/site-packages/pandas/core/series.py:4494: SettingWithCopyWarning: \n",
      "A value is trying to be set on a copy of a slice from a DataFrame\n",
      "\n",
      "See the caveats in the documentation: https://pandas.pydata.org/pandas-docs/stable/user_guide/indexing.html#returning-a-view-versus-a-copy\n",
      "  self._update_inplace(result)\n"
     ]
    }
   ],
   "source": [
    "health_final['County'].dropna(inplace=True)"
   ]
  },
  {
   "cell_type": "code",
   "execution_count": 216,
   "metadata": {},
   "outputs": [],
   "source": [
    "health_final.to_csv('health_resources.csv')\n"
   ]
  },
  {
   "cell_type": "code",
   "execution_count": 217,
   "metadata": {},
   "outputs": [
    {
     "data": {
      "text/plain": [
       "(3110, 752)"
      ]
     },
     "execution_count": 217,
     "metadata": {},
     "output_type": "execute_result"
    }
   ],
   "source": [
    "health_final.shape"
   ]
  },
  {
   "cell_type": "code",
   "execution_count": 218,
   "metadata": {},
   "outputs": [
    {
     "data": {
      "text/plain": [
       "Index(['County', 'total_covid', 'countyFIPS', 'cases', 'deaths',\n",
       "       'hospital_beds', '# hospitals', 'Colon/Rectal Srg, Total Ptn Cr',\n",
       "       'Ophthalmolgy, Total Patn Care', 'M.D.'s, Total Other_x',\n",
       "       ...\n",
       "       'Clinical Nurse Specialist w/NPI_y', 'Nurse Practitioners w/NPI_y',\n",
       "       'Skilled Nurs Care, Beds Set Up_y', 'Nurse Practitioners, Fmle w/NPI_y',\n",
       "       'Clin Nurs Specialist,Male w/NPI', '# Nursing Facilities',\n",
       "       'Cert Nurse Midwvs,FT Oth EmpTyp_y', 'Nursing Facilities Total Beds',\n",
       "       'Nurse Practitioners_y', 'AdvPractNurs Midwve,Male w/NPI'],\n",
       "      dtype='object', length=752)"
      ]
     },
     "execution_count": 218,
     "metadata": {},
     "output_type": "execute_result"
    }
   ],
   "source": [
    "health_final.columns"
   ]
  },
  {
   "cell_type": "code",
   "execution_count": null,
   "metadata": {},
   "outputs": [],
   "source": []
  }
 ],
 "metadata": {
  "kernelspec": {
   "display_name": "Python 3",
   "language": "python",
   "name": "python3"
  },
  "language_info": {
   "codemirror_mode": {
    "name": "ipython",
    "version": 3
   },
   "file_extension": ".py",
   "mimetype": "text/x-python",
   "name": "python",
   "nbconvert_exporter": "python",
   "pygments_lexer": "ipython3",
   "version": "3.7.4"
  }
 },
 "nbformat": 4,
 "nbformat_minor": 2
}
