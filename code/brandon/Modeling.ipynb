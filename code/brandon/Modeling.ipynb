{
 "cells": [
  {
   "cell_type": "code",
   "execution_count": 120,
   "metadata": {},
   "outputs": [],
   "source": [
    "import pandas as pd\n",
    "import numpy as np\n",
    "import seaborn as sns\n",
    "import matplotlib.pyplot as plt\n",
    "import datetime as dt\n",
    "import time\n",
    "\n",
    "from sklearn.model_selection import train_test_split, GridSearchCV, cross_val_score\n",
    "from sklearn.naive_bayes import MultinomialNB, GaussianNB\n",
    "from sklearn.neighbors import KNeighborsClassifier\n",
    "from sklearn.pipeline import Pipeline\n",
    "from sklearn.linear_model import LogisticRegression\n",
    "from sklearn.svm import LinearSVC, SVC\n",
    "from sklearn.metrics import accuracy_score, confusion_matrix, plot_confusion_matrix\n",
    "from sklearn.base import TransformerMixin\n",
    "\n",
    "import regex as re\n",
    "\n",
    "random_state = 11"
   ]
  },
  {
   "cell_type": "code",
   "execution_count": 100,
   "metadata": {},
   "outputs": [],
   "source": [
    "master = pd.read_csv('~/downloads/new_beds.csv')"
   ]
  },
  {
   "cell_type": "code",
   "execution_count": 101,
   "metadata": {},
   "outputs": [],
   "source": [
    "master = master.drop(columns = 'Unnamed: 0')"
   ]
  },
  {
   "cell_type": "code",
   "execution_count": 102,
   "metadata": {},
   "outputs": [
    {
     "data": {
      "text/html": [
       "<div>\n",
       "<style scoped>\n",
       "    .dataframe tbody tr th:only-of-type {\n",
       "        vertical-align: middle;\n",
       "    }\n",
       "\n",
       "    .dataframe tbody tr th {\n",
       "        vertical-align: top;\n",
       "    }\n",
       "\n",
       "    .dataframe thead th {\n",
       "        text-align: right;\n",
       "    }\n",
       "</style>\n",
       "<table border=\"1\" class=\"dataframe\">\n",
       "  <thead>\n",
       "    <tr style=\"text-align: right;\">\n",
       "      <th></th>\n",
       "      <th>county_x</th>\n",
       "      <th>state</th>\n",
       "      <th>id</th>\n",
       "      <th>population</th>\n",
       "      <th>estimate!!race!!total population!!one race</th>\n",
       "      <th>estimate!!race!!total population!!two or more races</th>\n",
       "      <th>estimate!!race!!total population!!one race.1</th>\n",
       "      <th>estimate!!race!!total population!!one race!!white</th>\n",
       "      <th>estimate!!race!!total population!!one race!!black or african american</th>\n",
       "      <th>estimate!!race!!total population!!one race!!american indian and alaska native</th>\n",
       "      <th>...</th>\n",
       "      <th>cert nurse midwvs,ft oth emptyp_y</th>\n",
       "      <th>nursing facilities total beds</th>\n",
       "      <th>nurse practitioners_y</th>\n",
       "      <th>advpractnurs midwve,male w/npi</th>\n",
       "      <th>st_num</th>\n",
       "      <th>countyfips</th>\n",
       "      <th>beds</th>\n",
       "      <th>case_per_pop</th>\n",
       "      <th>beds_per_pop</th>\n",
       "      <th>beds_per_case</th>\n",
       "    </tr>\n",
       "  </thead>\n",
       "  <tbody>\n",
       "    <tr>\n",
       "      <th>0</th>\n",
       "      <td>autauga county</td>\n",
       "      <td>AL</td>\n",
       "      <td>1001</td>\n",
       "      <td>55200</td>\n",
       "      <td>54170</td>\n",
       "      <td>1030</td>\n",
       "      <td>54170</td>\n",
       "      <td>42437</td>\n",
       "      <td>10565</td>\n",
       "      <td>159</td>\n",
       "      <td>...</td>\n",
       "      <td>0.0</td>\n",
       "      <td>0.0</td>\n",
       "      <td>0.0</td>\n",
       "      <td>0.0</td>\n",
       "      <td>1</td>\n",
       "      <td>1001</td>\n",
       "      <td>85.0</td>\n",
       "      <td>0.001214</td>\n",
       "      <td>0.001540</td>\n",
       "      <td>1.268657</td>\n",
       "    </tr>\n",
       "    <tr>\n",
       "      <th>1</th>\n",
       "      <td>baldwin county</td>\n",
       "      <td>AL</td>\n",
       "      <td>1003</td>\n",
       "      <td>208107</td>\n",
       "      <td>204535</td>\n",
       "      <td>3572</td>\n",
       "      <td>204535</td>\n",
       "      <td>179526</td>\n",
       "      <td>19764</td>\n",
       "      <td>1522</td>\n",
       "      <td>...</td>\n",
       "      <td>0.0</td>\n",
       "      <td>0.0</td>\n",
       "      <td>0.0</td>\n",
       "      <td>0.0</td>\n",
       "      <td>1</td>\n",
       "      <td>1003</td>\n",
       "      <td>386.0</td>\n",
       "      <td>0.000999</td>\n",
       "      <td>0.001855</td>\n",
       "      <td>1.855769</td>\n",
       "    </tr>\n",
       "    <tr>\n",
       "      <th>2</th>\n",
       "      <td>barbour county</td>\n",
       "      <td>AL</td>\n",
       "      <td>1005</td>\n",
       "      <td>25782</td>\n",
       "      <td>25429</td>\n",
       "      <td>353</td>\n",
       "      <td>25429</td>\n",
       "      <td>12216</td>\n",
       "      <td>12266</td>\n",
       "      <td>72</td>\n",
       "      <td>...</td>\n",
       "      <td>0.0</td>\n",
       "      <td>0.0</td>\n",
       "      <td>0.0</td>\n",
       "      <td>0.0</td>\n",
       "      <td>1</td>\n",
       "      <td>1005</td>\n",
       "      <td>74.0</td>\n",
       "      <td>0.002056</td>\n",
       "      <td>0.002870</td>\n",
       "      <td>1.396226</td>\n",
       "    </tr>\n",
       "    <tr>\n",
       "      <th>3</th>\n",
       "      <td>bibb county</td>\n",
       "      <td>AL</td>\n",
       "      <td>1007</td>\n",
       "      <td>22527</td>\n",
       "      <td>22340</td>\n",
       "      <td>187</td>\n",
       "      <td>22340</td>\n",
       "      <td>17268</td>\n",
       "      <td>5018</td>\n",
       "      <td>8</td>\n",
       "      <td>...</td>\n",
       "      <td>0.0</td>\n",
       "      <td>0.0</td>\n",
       "      <td>0.0</td>\n",
       "      <td>0.0</td>\n",
       "      <td>1</td>\n",
       "      <td>1007</td>\n",
       "      <td>35.0</td>\n",
       "      <td>0.001953</td>\n",
       "      <td>0.001554</td>\n",
       "      <td>0.795455</td>\n",
       "    </tr>\n",
       "    <tr>\n",
       "      <th>4</th>\n",
       "      <td>blount county</td>\n",
       "      <td>AL</td>\n",
       "      <td>1009</td>\n",
       "      <td>57645</td>\n",
       "      <td>56710</td>\n",
       "      <td>935</td>\n",
       "      <td>56710</td>\n",
       "      <td>55054</td>\n",
       "      <td>862</td>\n",
       "      <td>141</td>\n",
       "      <td>...</td>\n",
       "      <td>0.0</td>\n",
       "      <td>0.0</td>\n",
       "      <td>0.0</td>\n",
       "      <td>0.0</td>\n",
       "      <td>1</td>\n",
       "      <td>1009</td>\n",
       "      <td>25.0</td>\n",
       "      <td>0.000763</td>\n",
       "      <td>0.000434</td>\n",
       "      <td>0.568182</td>\n",
       "    </tr>\n",
       "  </tbody>\n",
       "</table>\n",
       "<p>5 rows × 848 columns</p>\n",
       "</div>"
      ],
      "text/plain": [
       "         county_x state    id  population  \\\n",
       "0  autauga county    AL  1001       55200   \n",
       "1  baldwin county    AL  1003      208107   \n",
       "2  barbour county    AL  1005       25782   \n",
       "3     bibb county    AL  1007       22527   \n",
       "4   blount county    AL  1009       57645   \n",
       "\n",
       "   estimate!!race!!total population!!one race  \\\n",
       "0                                       54170   \n",
       "1                                      204535   \n",
       "2                                       25429   \n",
       "3                                       22340   \n",
       "4                                       56710   \n",
       "\n",
       "   estimate!!race!!total population!!two or more races  \\\n",
       "0                                               1030     \n",
       "1                                               3572     \n",
       "2                                                353     \n",
       "3                                                187     \n",
       "4                                                935     \n",
       "\n",
       "   estimate!!race!!total population!!one race.1  \\\n",
       "0                                         54170   \n",
       "1                                        204535   \n",
       "2                                         25429   \n",
       "3                                         22340   \n",
       "4                                         56710   \n",
       "\n",
       "   estimate!!race!!total population!!one race!!white  \\\n",
       "0                                              42437   \n",
       "1                                             179526   \n",
       "2                                              12216   \n",
       "3                                              17268   \n",
       "4                                              55054   \n",
       "\n",
       "   estimate!!race!!total population!!one race!!black or african american  \\\n",
       "0                                              10565                       \n",
       "1                                              19764                       \n",
       "2                                              12266                       \n",
       "3                                               5018                       \n",
       "4                                                862                       \n",
       "\n",
       "   estimate!!race!!total population!!one race!!american indian and alaska native  \\\n",
       "0                                                159                               \n",
       "1                                               1522                               \n",
       "2                                                 72                               \n",
       "3                                                  8                               \n",
       "4                                                141                               \n",
       "\n",
       "   ...  cert nurse midwvs,ft oth emptyp_y  nursing facilities total beds  \\\n",
       "0  ...                                0.0                            0.0   \n",
       "1  ...                                0.0                            0.0   \n",
       "2  ...                                0.0                            0.0   \n",
       "3  ...                                0.0                            0.0   \n",
       "4  ...                                0.0                            0.0   \n",
       "\n",
       "   nurse practitioners_y  advpractnurs midwve,male w/npi  st_num  countyfips  \\\n",
       "0                    0.0                             0.0       1        1001   \n",
       "1                    0.0                             0.0       1        1003   \n",
       "2                    0.0                             0.0       1        1005   \n",
       "3                    0.0                             0.0       1        1007   \n",
       "4                    0.0                             0.0       1        1009   \n",
       "\n",
       "    beds  case_per_pop  beds_per_pop  beds_per_case  \n",
       "0   85.0      0.001214      0.001540       1.268657  \n",
       "1  386.0      0.000999      0.001855       1.855769  \n",
       "2   74.0      0.002056      0.002870       1.396226  \n",
       "3   35.0      0.001953      0.001554       0.795455  \n",
       "4   25.0      0.000763      0.000434       0.568182  \n",
       "\n",
       "[5 rows x 848 columns]"
      ]
     },
     "execution_count": 102,
     "metadata": {},
     "output_type": "execute_result"
    }
   ],
   "source": [
    "master.head()"
   ]
  },
  {
   "cell_type": "code",
   "execution_count": 103,
   "metadata": {},
   "outputs": [
    {
     "data": {
      "text/plain": [
       "(array([3.051e+03, 4.200e+01, 1.100e+01, 1.000e+00, 2.000e+00, 0.000e+00,\n",
       "        0.000e+00, 0.000e+00, 0.000e+00, 1.000e+00]),\n",
       " array([0.        , 0.01415439, 0.02830879, 0.04246318, 0.05661757,\n",
       "        0.07077196, 0.08492636, 0.09908075, 0.11323514, 0.12738953,\n",
       "        0.14154393]),\n",
       " <a list of 10 Patch objects>)"
      ]
     },
     "execution_count": 103,
     "metadata": {},
     "output_type": "execute_result"
    },
    {
     "data": {
      "image/png": "[encoded data removed]",
      "text/plain": [
       "<Figure size 432x288 with 1 Axes>"
      ]
     },
     "metadata": {
      "needs_background": "light"
     },
     "output_type": "display_data"
    }
   ],
   "source": [
    "plt.hist(master['case_per_pop'])"
   ]
  },
  {
   "cell_type": "code",
   "execution_count": 104,
   "metadata": {},
   "outputs": [
    {
     "data": {
      "text/plain": [
       "count    3108.000000\n",
       "mean        0.001994\n",
       "std         0.004738\n",
       "min         0.000000\n",
       "25%         0.000333\n",
       "50%         0.000784\n",
       "75%         0.001943\n",
       "max         0.141544\n",
       "Name: case_per_pop, dtype: float64"
      ]
     },
     "execution_count": 104,
     "metadata": {},
     "output_type": "execute_result"
    }
   ],
   "source": [
    "master['case_per_pop'].describe()"
   ]
  },
  {
   "cell_type": "code",
   "execution_count": 105,
   "metadata": {},
   "outputs": [
    {
     "data": {
      "text/plain": [
       "0.2375"
      ]
     },
     "execution_count": 105,
     "metadata": {},
     "output_type": "execute_result"
    }
   ],
   "source": [
    ".95/2/2"
   ]
  },
  {
   "cell_type": "code",
   "execution_count": 106,
   "metadata": {},
   "outputs": [
    {
     "data": {
      "text/plain": [
       "738.15"
      ]
     },
     "execution_count": 106,
     "metadata": {},
     "output_type": "execute_result"
    }
   ],
   "source": [
    "master.shape[0] * 0.2375"
   ]
  },
  {
   "cell_type": "code",
   "execution_count": 107,
   "metadata": {},
   "outputs": [
    {
     "data": {
      "text/plain": [
       "2369"
      ]
     },
     "execution_count": 107,
     "metadata": {},
     "output_type": "execute_result"
    }
   ],
   "source": [
    "master.shape[0] - 739"
   ]
  },
  {
   "cell_type": "code",
   "execution_count": 108,
   "metadata": {
    "scrolled": true
   },
   "outputs": [
    {
     "data": {
      "text/plain": [
       "310.8"
      ]
     },
     "execution_count": 108,
     "metadata": {},
     "output_type": "execute_result"
    }
   ],
   "source": [
    "master.shape[0] * .1"
   ]
  },
  {
   "cell_type": "code",
   "execution_count": 109,
   "metadata": {},
   "outputs": [],
   "source": [
    "above_std_1 = master.sort_values(by = 'case_per_pop', ascending = False).head(739)"
   ]
  },
  {
   "cell_type": "code",
   "execution_count": 110,
   "metadata": {},
   "outputs": [],
   "source": [
    "above_std_1['case_per_pop'] = ((above_std_1['case_per_pop'].values *0) +1).astype(int)"
   ]
  },
  {
   "cell_type": "code",
   "execution_count": 111,
   "metadata": {},
   "outputs": [],
   "source": [
    "below = master.sort_values(by = 'case_per_pop', ascending = False).tail(2369)"
   ]
  },
  {
   "cell_type": "code",
   "execution_count": 112,
   "metadata": {},
   "outputs": [],
   "source": [
    "below['case_per_pop'] = ((below['case_per_pop'].values *0)).astype(int)"
   ]
  },
  {
   "cell_type": "code",
   "execution_count": 113,
   "metadata": {
    "scrolled": true
   },
   "outputs": [
    {
     "data": {
      "text/html": [
       "<div>\n",
       "<style scoped>\n",
       "    .dataframe tbody tr th:only-of-type {\n",
       "        vertical-align: middle;\n",
       "    }\n",
       "\n",
       "    .dataframe tbody tr th {\n",
       "        vertical-align: top;\n",
       "    }\n",
       "\n",
       "    .dataframe thead th {\n",
       "        text-align: right;\n",
       "    }\n",
       "</style>\n",
       "<table border=\"1\" class=\"dataframe\">\n",
       "  <thead>\n",
       "    <tr style=\"text-align: right;\">\n",
       "      <th></th>\n",
       "      <th>county_x</th>\n",
       "      <th>state</th>\n",
       "      <th>id</th>\n",
       "      <th>population</th>\n",
       "      <th>estimate!!race!!total population!!one race</th>\n",
       "      <th>estimate!!race!!total population!!two or more races</th>\n",
       "      <th>estimate!!race!!total population!!one race.1</th>\n",
       "      <th>estimate!!race!!total population!!one race!!white</th>\n",
       "      <th>estimate!!race!!total population!!one race!!black or african american</th>\n",
       "      <th>estimate!!race!!total population!!one race!!american indian and alaska native</th>\n",
       "      <th>...</th>\n",
       "      <th>cert nurse midwvs,ft oth emptyp_y</th>\n",
       "      <th>nursing facilities total beds</th>\n",
       "      <th>nurse practitioners_y</th>\n",
       "      <th>advpractnurs midwve,male w/npi</th>\n",
       "      <th>st_num</th>\n",
       "      <th>countyfips</th>\n",
       "      <th>beds</th>\n",
       "      <th>case_per_pop</th>\n",
       "      <th>beds_per_pop</th>\n",
       "      <th>beds_per_case</th>\n",
       "    </tr>\n",
       "  </thead>\n",
       "  <tbody>\n",
       "    <tr>\n",
       "      <th>0</th>\n",
       "      <td>autauga county</td>\n",
       "      <td>AL</td>\n",
       "      <td>1001</td>\n",
       "      <td>55200</td>\n",
       "      <td>54170</td>\n",
       "      <td>1030</td>\n",
       "      <td>54170</td>\n",
       "      <td>42437</td>\n",
       "      <td>10565</td>\n",
       "      <td>159</td>\n",
       "      <td>...</td>\n",
       "      <td>0.0</td>\n",
       "      <td>0.0</td>\n",
       "      <td>0.0</td>\n",
       "      <td>0.0</td>\n",
       "      <td>1</td>\n",
       "      <td>1001</td>\n",
       "      <td>85.0</td>\n",
       "      <td>0</td>\n",
       "      <td>0.001540</td>\n",
       "      <td>1.268657</td>\n",
       "    </tr>\n",
       "    <tr>\n",
       "      <th>1</th>\n",
       "      <td>baldwin county</td>\n",
       "      <td>AL</td>\n",
       "      <td>1003</td>\n",
       "      <td>208107</td>\n",
       "      <td>204535</td>\n",
       "      <td>3572</td>\n",
       "      <td>204535</td>\n",
       "      <td>179526</td>\n",
       "      <td>19764</td>\n",
       "      <td>1522</td>\n",
       "      <td>...</td>\n",
       "      <td>0.0</td>\n",
       "      <td>0.0</td>\n",
       "      <td>0.0</td>\n",
       "      <td>0.0</td>\n",
       "      <td>1</td>\n",
       "      <td>1003</td>\n",
       "      <td>386.0</td>\n",
       "      <td>0</td>\n",
       "      <td>0.001855</td>\n",
       "      <td>1.855769</td>\n",
       "    </tr>\n",
       "    <tr>\n",
       "      <th>2</th>\n",
       "      <td>barbour county</td>\n",
       "      <td>AL</td>\n",
       "      <td>1005</td>\n",
       "      <td>25782</td>\n",
       "      <td>25429</td>\n",
       "      <td>353</td>\n",
       "      <td>25429</td>\n",
       "      <td>12216</td>\n",
       "      <td>12266</td>\n",
       "      <td>72</td>\n",
       "      <td>...</td>\n",
       "      <td>0.0</td>\n",
       "      <td>0.0</td>\n",
       "      <td>0.0</td>\n",
       "      <td>0.0</td>\n",
       "      <td>1</td>\n",
       "      <td>1005</td>\n",
       "      <td>74.0</td>\n",
       "      <td>1</td>\n",
       "      <td>0.002870</td>\n",
       "      <td>1.396226</td>\n",
       "    </tr>\n",
       "    <tr>\n",
       "      <th>3</th>\n",
       "      <td>bibb county</td>\n",
       "      <td>AL</td>\n",
       "      <td>1007</td>\n",
       "      <td>22527</td>\n",
       "      <td>22340</td>\n",
       "      <td>187</td>\n",
       "      <td>22340</td>\n",
       "      <td>17268</td>\n",
       "      <td>5018</td>\n",
       "      <td>8</td>\n",
       "      <td>...</td>\n",
       "      <td>0.0</td>\n",
       "      <td>0.0</td>\n",
       "      <td>0.0</td>\n",
       "      <td>0.0</td>\n",
       "      <td>1</td>\n",
       "      <td>1007</td>\n",
       "      <td>35.0</td>\n",
       "      <td>0</td>\n",
       "      <td>0.001554</td>\n",
       "      <td>0.795455</td>\n",
       "    </tr>\n",
       "    <tr>\n",
       "      <th>4</th>\n",
       "      <td>blount county</td>\n",
       "      <td>AL</td>\n",
       "      <td>1009</td>\n",
       "      <td>57645</td>\n",
       "      <td>56710</td>\n",
       "      <td>935</td>\n",
       "      <td>56710</td>\n",
       "      <td>55054</td>\n",
       "      <td>862</td>\n",
       "      <td>141</td>\n",
       "      <td>...</td>\n",
       "      <td>0.0</td>\n",
       "      <td>0.0</td>\n",
       "      <td>0.0</td>\n",
       "      <td>0.0</td>\n",
       "      <td>1</td>\n",
       "      <td>1009</td>\n",
       "      <td>25.0</td>\n",
       "      <td>0</td>\n",
       "      <td>0.000434</td>\n",
       "      <td>0.568182</td>\n",
       "    </tr>\n",
       "  </tbody>\n",
       "</table>\n",
       "<p>5 rows × 848 columns</p>\n",
       "</div>"
      ],
      "text/plain": [
       "         county_x state    id  population  \\\n",
       "0  autauga county    AL  1001       55200   \n",
       "1  baldwin county    AL  1003      208107   \n",
       "2  barbour county    AL  1005       25782   \n",
       "3     bibb county    AL  1007       22527   \n",
       "4   blount county    AL  1009       57645   \n",
       "\n",
       "   estimate!!race!!total population!!one race  \\\n",
       "0                                       54170   \n",
       "1                                      204535   \n",
       "2                                       25429   \n",
       "3                                       22340   \n",
       "4                                       56710   \n",
       "\n",
       "   estimate!!race!!total population!!two or more races  \\\n",
       "0                                               1030     \n",
       "1                                               3572     \n",
       "2                                                353     \n",
       "3                                                187     \n",
       "4                                                935     \n",
       "\n",
       "   estimate!!race!!total population!!one race.1  \\\n",
       "0                                         54170   \n",
       "1                                        204535   \n",
       "2                                         25429   \n",
       "3                                         22340   \n",
       "4                                         56710   \n",
       "\n",
       "   estimate!!race!!total population!!one race!!white  \\\n",
       "0                                              42437   \n",
       "1                                             179526   \n",
       "2                                              12216   \n",
       "3                                              17268   \n",
       "4                                              55054   \n",
       "\n",
       "   estimate!!race!!total population!!one race!!black or african american  \\\n",
       "0                                              10565                       \n",
       "1                                              19764                       \n",
       "2                                              12266                       \n",
       "3                                               5018                       \n",
       "4                                                862                       \n",
       "\n",
       "   estimate!!race!!total population!!one race!!american indian and alaska native  \\\n",
       "0                                                159                               \n",
       "1                                               1522                               \n",
       "2                                                 72                               \n",
       "3                                                  8                               \n",
       "4                                                141                               \n",
       "\n",
       "   ...  cert nurse midwvs,ft oth emptyp_y  nursing facilities total beds  \\\n",
       "0  ...                                0.0                            0.0   \n",
       "1  ...                                0.0                            0.0   \n",
       "2  ...                                0.0                            0.0   \n",
       "3  ...                                0.0                            0.0   \n",
       "4  ...                                0.0                            0.0   \n",
       "\n",
       "   nurse practitioners_y  advpractnurs midwve,male w/npi  st_num  countyfips  \\\n",
       "0                    0.0                             0.0       1        1001   \n",
       "1                    0.0                             0.0       1        1003   \n",
       "2                    0.0                             0.0       1        1005   \n",
       "3                    0.0                             0.0       1        1007   \n",
       "4                    0.0                             0.0       1        1009   \n",
       "\n",
       "    beds  case_per_pop  beds_per_pop  beds_per_case  \n",
       "0   85.0             0      0.001540       1.268657  \n",
       "1  386.0             0      0.001855       1.855769  \n",
       "2   74.0             1      0.002870       1.396226  \n",
       "3   35.0             0      0.001554       0.795455  \n",
       "4   25.0             0      0.000434       0.568182  \n",
       "\n",
       "[5 rows x 848 columns]"
      ]
     },
     "execution_count": 113,
     "metadata": {},
     "output_type": "execute_result"
    }
   ],
   "source": [
    "master['case_per_pop'] = pd.concat([above_std_1['case_per_pop'],below['case_per_pop']])\n",
    "master.head()"
   ]
  },
  {
   "cell_type": "code",
   "execution_count": 114,
   "metadata": {},
   "outputs": [
    {
     "data": {
      "text/html": [
       "<div>\n",
       "<style scoped>\n",
       "    .dataframe tbody tr th:only-of-type {\n",
       "        vertical-align: middle;\n",
       "    }\n",
       "\n",
       "    .dataframe tbody tr th {\n",
       "        vertical-align: top;\n",
       "    }\n",
       "\n",
       "    .dataframe thead th {\n",
       "        text-align: right;\n",
       "    }\n",
       "</style>\n",
       "<table border=\"1\" class=\"dataframe\">\n",
       "  <thead>\n",
       "    <tr style=\"text-align: right;\">\n",
       "      <th></th>\n",
       "      <th>county_x</th>\n",
       "      <th>state</th>\n",
       "      <th>id</th>\n",
       "      <th>population</th>\n",
       "      <th>estimate!!race!!total population!!one race</th>\n",
       "      <th>estimate!!race!!total population!!two or more races</th>\n",
       "      <th>estimate!!race!!total population!!one race.1</th>\n",
       "      <th>estimate!!race!!total population!!one race!!white</th>\n",
       "      <th>estimate!!race!!total population!!one race!!black or african american</th>\n",
       "      <th>estimate!!race!!total population!!one race!!american indian and alaska native</th>\n",
       "      <th>...</th>\n",
       "      <th>cert nurse midwvs,ft oth emptyp_y</th>\n",
       "      <th>nursing facilities total beds</th>\n",
       "      <th>nurse practitioners_y</th>\n",
       "      <th>advpractnurs midwve,male w/npi</th>\n",
       "      <th>st_num</th>\n",
       "      <th>countyfips</th>\n",
       "      <th>beds</th>\n",
       "      <th>case_per_pop</th>\n",
       "      <th>beds_per_pop</th>\n",
       "      <th>beds_per_case</th>\n",
       "    </tr>\n",
       "  </thead>\n",
       "  <tbody>\n",
       "    <tr>\n",
       "      <th>0</th>\n",
       "      <td>autauga county</td>\n",
       "      <td>AL</td>\n",
       "      <td>1001</td>\n",
       "      <td>55200</td>\n",
       "      <td>54170</td>\n",
       "      <td>1030</td>\n",
       "      <td>54170</td>\n",
       "      <td>42437</td>\n",
       "      <td>10565</td>\n",
       "      <td>159</td>\n",
       "      <td>...</td>\n",
       "      <td>0.0</td>\n",
       "      <td>0.0</td>\n",
       "      <td>0.0</td>\n",
       "      <td>0.0</td>\n",
       "      <td>1</td>\n",
       "      <td>1001</td>\n",
       "      <td>85.0</td>\n",
       "      <td>0</td>\n",
       "      <td>0.001540</td>\n",
       "      <td>1.268657</td>\n",
       "    </tr>\n",
       "    <tr>\n",
       "      <th>1</th>\n",
       "      <td>baldwin county</td>\n",
       "      <td>AL</td>\n",
       "      <td>1003</td>\n",
       "      <td>208107</td>\n",
       "      <td>204535</td>\n",
       "      <td>3572</td>\n",
       "      <td>204535</td>\n",
       "      <td>179526</td>\n",
       "      <td>19764</td>\n",
       "      <td>1522</td>\n",
       "      <td>...</td>\n",
       "      <td>0.0</td>\n",
       "      <td>0.0</td>\n",
       "      <td>0.0</td>\n",
       "      <td>0.0</td>\n",
       "      <td>1</td>\n",
       "      <td>1003</td>\n",
       "      <td>386.0</td>\n",
       "      <td>0</td>\n",
       "      <td>0.001855</td>\n",
       "      <td>1.855769</td>\n",
       "    </tr>\n",
       "    <tr>\n",
       "      <th>2</th>\n",
       "      <td>barbour county</td>\n",
       "      <td>AL</td>\n",
       "      <td>1005</td>\n",
       "      <td>25782</td>\n",
       "      <td>25429</td>\n",
       "      <td>353</td>\n",
       "      <td>25429</td>\n",
       "      <td>12216</td>\n",
       "      <td>12266</td>\n",
       "      <td>72</td>\n",
       "      <td>...</td>\n",
       "      <td>0.0</td>\n",
       "      <td>0.0</td>\n",
       "      <td>0.0</td>\n",
       "      <td>0.0</td>\n",
       "      <td>1</td>\n",
       "      <td>1005</td>\n",
       "      <td>74.0</td>\n",
       "      <td>1</td>\n",
       "      <td>0.002870</td>\n",
       "      <td>1.396226</td>\n",
       "    </tr>\n",
       "    <tr>\n",
       "      <th>3</th>\n",
       "      <td>bibb county</td>\n",
       "      <td>AL</td>\n",
       "      <td>1007</td>\n",
       "      <td>22527</td>\n",
       "      <td>22340</td>\n",
       "      <td>187</td>\n",
       "      <td>22340</td>\n",
       "      <td>17268</td>\n",
       "      <td>5018</td>\n",
       "      <td>8</td>\n",
       "      <td>...</td>\n",
       "      <td>0.0</td>\n",
       "      <td>0.0</td>\n",
       "      <td>0.0</td>\n",
       "      <td>0.0</td>\n",
       "      <td>1</td>\n",
       "      <td>1007</td>\n",
       "      <td>35.0</td>\n",
       "      <td>0</td>\n",
       "      <td>0.001554</td>\n",
       "      <td>0.795455</td>\n",
       "    </tr>\n",
       "    <tr>\n",
       "      <th>4</th>\n",
       "      <td>blount county</td>\n",
       "      <td>AL</td>\n",
       "      <td>1009</td>\n",
       "      <td>57645</td>\n",
       "      <td>56710</td>\n",
       "      <td>935</td>\n",
       "      <td>56710</td>\n",
       "      <td>55054</td>\n",
       "      <td>862</td>\n",
       "      <td>141</td>\n",
       "      <td>...</td>\n",
       "      <td>0.0</td>\n",
       "      <td>0.0</td>\n",
       "      <td>0.0</td>\n",
       "      <td>0.0</td>\n",
       "      <td>1</td>\n",
       "      <td>1009</td>\n",
       "      <td>25.0</td>\n",
       "      <td>0</td>\n",
       "      <td>0.000434</td>\n",
       "      <td>0.568182</td>\n",
       "    </tr>\n",
       "  </tbody>\n",
       "</table>\n",
       "<p>5 rows × 848 columns</p>\n",
       "</div>"
      ],
      "text/plain": [
       "         county_x state    id  population  \\\n",
       "0  autauga county    AL  1001       55200   \n",
       "1  baldwin county    AL  1003      208107   \n",
       "2  barbour county    AL  1005       25782   \n",
       "3     bibb county    AL  1007       22527   \n",
       "4   blount county    AL  1009       57645   \n",
       "\n",
       "   estimate!!race!!total population!!one race  \\\n",
       "0                                       54170   \n",
       "1                                      204535   \n",
       "2                                       25429   \n",
       "3                                       22340   \n",
       "4                                       56710   \n",
       "\n",
       "   estimate!!race!!total population!!two or more races  \\\n",
       "0                                               1030     \n",
       "1                                               3572     \n",
       "2                                                353     \n",
       "3                                                187     \n",
       "4                                                935     \n",
       "\n",
       "   estimate!!race!!total population!!one race.1  \\\n",
       "0                                         54170   \n",
       "1                                        204535   \n",
       "2                                         25429   \n",
       "3                                         22340   \n",
       "4                                         56710   \n",
       "\n",
       "   estimate!!race!!total population!!one race!!white  \\\n",
       "0                                              42437   \n",
       "1                                             179526   \n",
       "2                                              12216   \n",
       "3                                              17268   \n",
       "4                                              55054   \n",
       "\n",
       "   estimate!!race!!total population!!one race!!black or african american  \\\n",
       "0                                              10565                       \n",
       "1                                              19764                       \n",
       "2                                              12266                       \n",
       "3                                               5018                       \n",
       "4                                                862                       \n",
       "\n",
       "   estimate!!race!!total population!!one race!!american indian and alaska native  \\\n",
       "0                                                159                               \n",
       "1                                               1522                               \n",
       "2                                                 72                               \n",
       "3                                                  8                               \n",
       "4                                                141                               \n",
       "\n",
       "   ...  cert nurse midwvs,ft oth emptyp_y  nursing facilities total beds  \\\n",
       "0  ...                                0.0                            0.0   \n",
       "1  ...                                0.0                            0.0   \n",
       "2  ...                                0.0                            0.0   \n",
       "3  ...                                0.0                            0.0   \n",
       "4  ...                                0.0                            0.0   \n",
       "\n",
       "   nurse practitioners_y  advpractnurs midwve,male w/npi  st_num  countyfips  \\\n",
       "0                    0.0                             0.0       1        1001   \n",
       "1                    0.0                             0.0       1        1003   \n",
       "2                    0.0                             0.0       1        1005   \n",
       "3                    0.0                             0.0       1        1007   \n",
       "4                    0.0                             0.0       1        1009   \n",
       "\n",
       "    beds  case_per_pop  beds_per_pop  beds_per_case  \n",
       "0   85.0             0      0.001540       1.268657  \n",
       "1  386.0             0      0.001855       1.855769  \n",
       "2   74.0             1      0.002870       1.396226  \n",
       "3   35.0             0      0.001554       0.795455  \n",
       "4   25.0             0      0.000434       0.568182  \n",
       "\n",
       "[5 rows x 848 columns]"
      ]
     },
     "execution_count": 114,
     "metadata": {},
     "output_type": "execute_result"
    }
   ],
   "source": [
    "master.head()"
   ]
  },
  {
   "cell_type": "code",
   "execution_count": 116,
   "metadata": {},
   "outputs": [
    {
     "data": {
      "text/plain": [
       "0.000000    652\n",
       "0.002416      2\n",
       "0.005938      2\n",
       "0.001425      2\n",
       "0.002451      2\n",
       "           ... \n",
       "0.011798      1\n",
       "0.002766      1\n",
       "0.006134      1\n",
       "0.010653      1\n",
       "0.016191      1\n",
       "Name: beds_per_pop, Length: 2449, dtype: int64"
      ]
     },
     "execution_count": 116,
     "metadata": {},
     "output_type": "execute_result"
    }
   ],
   "source": [
    "master['beds_per_pop'].value_counts()"
   ]
  },
  {
   "cell_type": "code",
   "execution_count": 117,
   "metadata": {},
   "outputs": [],
   "source": [
    "# master.to_csv('~/documents/case_per_pop_dummied_std_1.csv')"
   ]
  },
  {
   "cell_type": "code",
   "execution_count": 118,
   "metadata": {},
   "outputs": [
    {
     "data": {
      "text/plain": [
       "0    0.762227\n",
       "1    0.237773\n",
       "Name: case_per_pop, dtype: float64"
      ]
     },
     "execution_count": 118,
     "metadata": {},
     "output_type": "execute_result"
    }
   ],
   "source": [
    "master['case_per_pop'].value_counts(normalize = True)"
   ]
  },
  {
   "cell_type": "code",
   "execution_count": 44,
   "metadata": {},
   "outputs": [
    {
     "ename": "AttributeError",
     "evalue": "'float' object has no attribute 'map'",
     "output_type": "error",
     "traceback": [
      "\u001b[0;31m---------------------------------------------------------------------------\u001b[0m",
      "\u001b[0;31mAttributeError\u001b[0m                            Traceback (most recent call last)",
      "\u001b[0;32m<ipython-input-44-c25182f5a4a0>\u001b[0m in \u001b[0;36m<module>\u001b[0;34m\u001b[0m\n\u001b[1;32m      3\u001b[0m         \u001b[0mcase\u001b[0m\u001b[0;34m.\u001b[0m\u001b[0mmap\u001b[0m\u001b[0;34m(\u001b[0m\u001b[0;34m{\u001b[0m\u001b[0mcase\u001b[0m \u001b[0;34m:\u001b[0m \u001b[0;36m1\u001b[0m\u001b[0;34m}\u001b[0m\u001b[0;34m)\u001b[0m\u001b[0;34m\u001b[0m\u001b[0;34m\u001b[0m\u001b[0m\n\u001b[1;32m      4\u001b[0m     \u001b[0;32melse\u001b[0m\u001b[0;34m:\u001b[0m\u001b[0;34m\u001b[0m\u001b[0;34m\u001b[0m\u001b[0m\n\u001b[0;32m----> 5\u001b[0;31m         \u001b[0mcase\u001b[0m\u001b[0;34m.\u001b[0m\u001b[0mmap\u001b[0m\u001b[0;34m(\u001b[0m\u001b[0;34m{\u001b[0m\u001b[0mcase\u001b[0m \u001b[0;34m:\u001b[0m \u001b[0;36m0\u001b[0m\u001b[0;34m}\u001b[0m\u001b[0;34m)\u001b[0m\u001b[0;34m\u001b[0m\u001b[0;34m\u001b[0m\u001b[0m\n\u001b[0m",
      "\u001b[0;31mAttributeError\u001b[0m: 'float' object has no attribute 'map'"
     ]
    }
   ],
   "source": [
    "for case in master['case_per_pop']:\n",
    "    if case > 0.004429:\n",
    "        {case : 1}\n",
    "    else:\n",
    "        case.map({case : 0})"
   ]
  },
  {
   "cell_type": "code",
   "execution_count": 121,
   "metadata": {},
   "outputs": [
    {
     "data": {
      "text/plain": [
       "0    0.762227\n",
       "1    0.237773\n",
       "Name: case_per_pop, dtype: float64"
      ]
     },
     "execution_count": 121,
     "metadata": {},
     "output_type": "execute_result"
    }
   ],
   "source": [
    "master['case_per_pop'].value_counts(normalize = True)"
   ]
  },
  {
   "cell_type": "markdown",
   "metadata": {},
   "source": [
    "Since we are using accuracy as our metric, our baseline is a score of .76227, which would occur if our model predicted an area to not be a coronavirus hotspot."
   ]
  },
  {
   "cell_type": "code",
   "execution_count": 137,
   "metadata": {},
   "outputs": [],
   "source": [
    "X = master.drop(columns = ['total_covid', 'deaths', 'county_x', 'county_y', 'state', 'id', 'population', 'case_per_pop', 'beds_per_case'])\n",
    "y = master['case_per_pop']\n",
    "\n",
    "\n",
    "ss = StandardScaler()\n",
    "\n",
    "X_ss = ss.fit_transform(X)\n",
    "\n",
    "X_train, X_test, y_train, y_test = train_test_split(X_ss, y, random_state = 11, stratify = y)"
   ]
  },
  {
   "cell_type": "code",
   "execution_count": 146,
   "metadata": {},
   "outputs": [],
   "source": [
    "pipe = Pipeline([ #instantiate transformers and model\n",
    "    ('lr', LogisticRegression(random_state = 11))\n",
    "])\n",
    "\n",
    "# set hyperparameters\n",
    "\n",
    "pipe_params = {'lr__dual' : [True, False],\n",
    "               'lr__class_weight' : ['dict', 'balanced', None],\n",
    "              'lr__solver': ['liblinear', 'lbfgs', None],\n",
    "              'lr__penalty': ['l1', 'l2', 'none'] # running this with the lasso and ridge techniques by applying a penalty, also running with no penalty\n",
    "              }\n",
    "\n",
    "gs = GridSearchCV(pipe,\n",
    "                 param_grid = pipe_params,\n",
    "                 cv = 5,\n",
    "                 scoring = 'accuracy',\n",
    "                 verbose = 2   \n",
    "                    )"
   ]
  },
  {
   "cell_type": "code",
   "execution_count": 147,
   "metadata": {},
   "outputs": [
    {
     "name": "stdout",
     "output_type": "stream",
     "text": [
      "Fitting 5 folds for each of 54 candidates, totalling 270 fits\n",
      "[CV] lr__class_weight=dict, lr__dual=True, lr__penalty=l1, lr__solver=liblinear \n",
      "[CV]  lr__class_weight=dict, lr__dual=True, lr__penalty=l1, lr__solver=liblinear, total=   0.0s\n",
      "[CV] lr__class_weight=dict, lr__dual=True, lr__penalty=l1, lr__solver=liblinear \n",
      "[CV]  lr__class_weight=dict, lr__dual=True, lr__penalty=l1, lr__solver=liblinear, total=   0.0s\n",
      "[CV] lr__class_weight=dict, lr__dual=True, lr__penalty=l1, lr__solver=liblinear \n",
      "[CV]  lr__class_weight=dict, lr__dual=True, lr__penalty=l1, lr__solver=liblinear, total=   0.0s\n",
      "[CV] lr__class_weight=dict, lr__dual=True, lr__penalty=l1, lr__solver=liblinear \n",
      "[CV]  lr__class_weight=dict, lr__dual=True, lr__penalty=l1, lr__solver=liblinear, total=   0.0s\n",
      "[CV] lr__class_weight=dict, lr__dual=True, lr__penalty=l1, lr__solver=liblinear \n",
      "[CV]  lr__class_weight=dict, lr__dual=True, lr__penalty=l1, lr__solver=liblinear, total=   0.0s\n",
      "[CV] lr__class_weight=dict, lr__dual=True, lr__penalty=l1, lr__solver=lbfgs \n",
      "[CV]  lr__class_weight=dict, lr__dual=True, lr__penalty=l1, lr__solver=lbfgs, total=   0.0s\n",
      "[CV] lr__class_weight=dict, lr__dual=True, lr__penalty=l1, lr__solver=lbfgs \n",
      "[CV]  lr__class_weight=dict, lr__dual=True, lr__penalty=l1, lr__solver=lbfgs, total=   0.0s\n",
      "[CV] lr__class_weight=dict, lr__dual=True, lr__penalty=l1, lr__solver=lbfgs \n",
      "[CV]  lr__class_weight=dict, lr__dual=True, lr__penalty=l1, lr__solver=lbfgs, total=   0.0s\n",
      "[CV] lr__class_weight=dict, lr__dual=True, lr__penalty=l1, lr__solver=lbfgs \n",
      "[CV]  lr__class_weight=dict, lr__dual=True, lr__penalty=l1, lr__solver=lbfgs, total=   0.0s\n",
      "[CV] lr__class_weight=dict, lr__dual=True, lr__penalty=l1, lr__solver=lbfgs \n",
      "[CV]  lr__class_weight=dict, lr__dual=True, lr__penalty=l1, lr__solver=lbfgs, total=   0.0s\n",
      "[CV] lr__class_weight=dict, lr__dual=True, lr__penalty=l1, lr__solver=None \n",
      "[CV]  lr__class_weight=dict, lr__dual=True, lr__penalty=l1, lr__solver=None, total=   0.0s\n",
      "[CV] lr__class_weight=dict, lr__dual=True, lr__penalty=l1, lr__solver=None \n",
      "[CV]  lr__class_weight=dict, lr__dual=True, lr__penalty=l1, lr__solver=None, total=   0.0s\n",
      "[CV] lr__class_weight=dict, lr__dual=True, lr__penalty=l1, lr__solver=None \n",
      "[CV]  lr__class_weight=dict, lr__dual=True, lr__penalty=l1, lr__solver=None, total=   0.0s\n",
      "[CV] lr__class_weight=dict, lr__dual=True, lr__penalty=l1, lr__solver=None \n",
      "[CV]  lr__class_weight=dict, lr__dual=True, lr__penalty=l1, lr__solver=None, total=   0.0s\n",
      "[CV] lr__class_weight=dict, lr__dual=True, lr__penalty=l1, lr__solver=None \n",
      "[CV]  lr__class_weight=dict, lr__dual=True, lr__penalty=l1, lr__solver=None, total=   0.0s\n",
      "[CV] lr__class_weight=dict, lr__dual=True, lr__penalty=l2, lr__solver=liblinear \n",
      "[CV]  lr__class_weight=dict, lr__dual=True, lr__penalty=l2, lr__solver=liblinear, total=   0.0s\n",
      "[CV] lr__class_weight=dict, lr__dual=True, lr__penalty=l2, lr__solver=liblinear \n",
      "[CV]  lr__class_weight=dict, lr__dual=True, lr__penalty=l2, lr__solver=liblinear, total=   0.0s\n",
      "[CV] lr__class_weight=dict, lr__dual=True, lr__penalty=l2, lr__solver=liblinear \n",
      "[CV]  lr__class_weight=dict, lr__dual=True, lr__penalty=l2, lr__solver=liblinear, total=   0.0s\n",
      "[CV] lr__class_weight=dict, lr__dual=True, lr__penalty=l2, lr__solver=liblinear \n",
      "[CV]  lr__class_weight=dict, lr__dual=True, lr__penalty=l2, lr__solver=liblinear, total=   0.0s\n",
      "[CV] lr__class_weight=dict, lr__dual=True, lr__penalty=l2, lr__solver=liblinear \n",
      "[CV]  lr__class_weight=dict, lr__dual=True, lr__penalty=l2, lr__solver=liblinear, total=   0.0s\n",
      "[CV] lr__class_weight=dict, lr__dual=True, lr__penalty=l2, lr__solver=lbfgs \n",
      "[CV]  lr__class_weight=dict, lr__dual=True, lr__penalty=l2, lr__solver=lbfgs, total=   0.0s\n",
      "[CV] lr__class_weight=dict, lr__dual=True, lr__penalty=l2, lr__solver=lbfgs \n"
     ]
    },
    {
     "name": "stderr",
     "output_type": "stream",
     "text": [
      "[Parallel(n_jobs=1)]: Using backend SequentialBackend with 1 concurrent workers.\n",
      "/Users/brandongreenspan/opt/anaconda3/envs/dsi/lib/python3.7/site-packages/sklearn/model_selection/_validation.py:536: FitFailedWarning: Estimator fit failed. The score on this train-test partition for these parameters will be set to nan. Details: \n",
      "ValueError: class_weight must be dict, 'balanced', or None, got: 'dict'\n",
      "\n",
      "  FitFailedWarning)\n",
      "[Parallel(n_jobs=1)]: Done   1 out of   1 | elapsed:    0.0s remaining:    0.0s\n",
      "/Users/brandongreenspan/opt/anaconda3/envs/dsi/lib/python3.7/site-packages/sklearn/model_selection/_validation.py:536: FitFailedWarning: Estimator fit failed. The score on this train-test partition for these parameters will be set to nan. Details: \n",
      "ValueError: class_weight must be dict, 'balanced', or None, got: 'dict'\n",
      "\n",
      "  FitFailedWarning)\n",
      "/Users/brandongreenspan/opt/anaconda3/envs/dsi/lib/python3.7/site-packages/sklearn/model_selection/_validation.py:536: FitFailedWarning: Estimator fit failed. The score on this train-test partition for these parameters will be set to nan. Details: \n",
      "ValueError: class_weight must be dict, 'balanced', or None, got: 'dict'\n",
      "\n",
      "  FitFailedWarning)\n",
      "/Users/brandongreenspan/opt/anaconda3/envs/dsi/lib/python3.7/site-packages/sklearn/model_selection/_validation.py:536: FitFailedWarning: Estimator fit failed. The score on this train-test partition for these parameters will be set to nan. Details: \n",
      "ValueError: class_weight must be dict, 'balanced', or None, got: 'dict'\n",
      "\n",
      "  FitFailedWarning)\n",
      "/Users/brandongreenspan/opt/anaconda3/envs/dsi/lib/python3.7/site-packages/sklearn/model_selection/_validation.py:536: FitFailedWarning: Estimator fit failed. The score on this train-test partition for these parameters will be set to nan. Details: \n",
      "ValueError: class_weight must be dict, 'balanced', or None, got: 'dict'\n",
      "\n",
      "  FitFailedWarning)\n",
      "/Users/brandongreenspan/opt/anaconda3/envs/dsi/lib/python3.7/site-packages/sklearn/model_selection/_validation.py:536: FitFailedWarning: Estimator fit failed. The score on this train-test partition for these parameters will be set to nan. Details: \n",
      "ValueError: Solver lbfgs supports only 'l2' or 'none' penalties, got l1 penalty.\n",
      "\n",
      "  FitFailedWarning)\n",
      "/Users/brandongreenspan/opt/anaconda3/envs/dsi/lib/python3.7/site-packages/sklearn/model_selection/_validation.py:536: FitFailedWarning: Estimator fit failed. The score on this train-test partition for these parameters will be set to nan. Details: \n",
      "ValueError: Logistic Regression supports only solvers in ['liblinear', 'newton-cg', 'lbfgs', 'sag', 'saga'], got None.\n",
      "\n",
      "  FitFailedWarning)\n",
      "/Users/brandongreenspan/opt/anaconda3/envs/dsi/lib/python3.7/site-packages/sklearn/model_selection/_validation.py:536: FitFailedWarning: Estimator fit failed. The score on this train-test partition for these parameters will be set to nan. Details: \n",
      "ValueError: class_weight must be dict, 'balanced', or None, got: 'dict'\n",
      "\n",
      "  FitFailedWarning)\n",
      "/Users/brandongreenspan/opt/anaconda3/envs/dsi/lib/python3.7/site-packages/sklearn/model_selection/_validation.py:536: FitFailedWarning: Estimator fit failed. The score on this train-test partition for these parameters will be set to nan. Details: \n",
      "ValueError: class_weight must be dict, 'balanced', or None, got: 'dict'\n",
      "\n",
      "  FitFailedWarning)\n",
      "/Users/brandongreenspan/opt/anaconda3/envs/dsi/lib/python3.7/site-packages/sklearn/model_selection/_validation.py:536: FitFailedWarning: Estimator fit failed. The score on this train-test partition for these parameters will be set to nan. Details: \n",
      "ValueError: class_weight must be dict, 'balanced', or None, got: 'dict'\n",
      "\n",
      "  FitFailedWarning)\n",
      "/Users/brandongreenspan/opt/anaconda3/envs/dsi/lib/python3.7/site-packages/sklearn/model_selection/_validation.py:536: FitFailedWarning: Estimator fit failed. The score on this train-test partition for these parameters will be set to nan. Details: \n",
      "ValueError: class_weight must be dict, 'balanced', or None, got: 'dict'\n",
      "\n",
      "  FitFailedWarning)\n",
      "/Users/brandongreenspan/opt/anaconda3/envs/dsi/lib/python3.7/site-packages/sklearn/model_selection/_validation.py:536: FitFailedWarning: Estimator fit failed. The score on this train-test partition for these parameters will be set to nan. Details: \n",
      "ValueError: class_weight must be dict, 'balanced', or None, got: 'dict'\n",
      "\n",
      "  FitFailedWarning)\n",
      "/Users/brandongreenspan/opt/anaconda3/envs/dsi/lib/python3.7/site-packages/sklearn/model_selection/_validation.py:536: FitFailedWarning: Estimator fit failed. The score on this train-test partition for these parameters will be set to nan. Details: \n",
      "ValueError: Solver lbfgs supports only dual=False, got dual=True\n",
      "\n",
      "  FitFailedWarning)\n"
     ]
    },
    {
     "name": "stdout",
     "output_type": "stream",
     "text": [
      "[CV]  lr__class_weight=dict, lr__dual=True, lr__penalty=l2, lr__solver=lbfgs, total=   0.0s\n",
      "[CV] lr__class_weight=dict, lr__dual=True, lr__penalty=l2, lr__solver=lbfgs \n",
      "[CV]  lr__class_weight=dict, lr__dual=True, lr__penalty=l2, lr__solver=lbfgs, total=   0.0s\n",
      "[CV] lr__class_weight=dict, lr__dual=True, lr__penalty=l2, lr__solver=lbfgs \n",
      "[CV]  lr__class_weight=dict, lr__dual=True, lr__penalty=l2, lr__solver=lbfgs, total=   0.0s\n",
      "[CV] lr__class_weight=dict, lr__dual=True, lr__penalty=l2, lr__solver=lbfgs \n",
      "[CV]  lr__class_weight=dict, lr__dual=True, lr__penalty=l2, lr__solver=lbfgs, total=   0.0s\n",
      "[CV] lr__class_weight=dict, lr__dual=True, lr__penalty=l2, lr__solver=None \n",
      "[CV]  lr__class_weight=dict, lr__dual=True, lr__penalty=l2, lr__solver=None, total=   0.0s\n",
      "[CV] lr__class_weight=dict, lr__dual=True, lr__penalty=l2, lr__solver=None \n",
      "[CV]  lr__class_weight=dict, lr__dual=True, lr__penalty=l2, lr__solver=None, total=   0.0s\n",
      "[CV] lr__class_weight=dict, lr__dual=True, lr__penalty=l2, lr__solver=None \n",
      "[CV]  lr__class_weight=dict, lr__dual=True, lr__penalty=l2, lr__solver=None, total=   0.0s\n",
      "[CV] lr__class_weight=dict, lr__dual=True, lr__penalty=l2, lr__solver=None \n",
      "[CV]  lr__class_weight=dict, lr__dual=True, lr__penalty=l2, lr__solver=None, total=   0.0s\n",
      "[CV] lr__class_weight=dict, lr__dual=True, lr__penalty=l2, lr__solver=None \n",
      "[CV]  lr__class_weight=dict, lr__dual=True, lr__penalty=l2, lr__solver=None, total=   0.0s\n",
      "[CV] lr__class_weight=dict, lr__dual=True, lr__penalty=none, lr__solver=liblinear \n",
      "[CV]  lr__class_weight=dict, lr__dual=True, lr__penalty=none, lr__solver=liblinear, total=   0.0s\n",
      "[CV] lr__class_weight=dict, lr__dual=True, lr__penalty=none, lr__solver=liblinear \n",
      "[CV]  lr__class_weight=dict, lr__dual=True, lr__penalty=none, lr__solver=liblinear, total=   0.0s\n",
      "[CV] lr__class_weight=dict, lr__dual=True, lr__penalty=none, lr__solver=liblinear \n",
      "[CV]  lr__class_weight=dict, lr__dual=True, lr__penalty=none, lr__solver=liblinear, total=   0.0s\n",
      "[CV] lr__class_weight=dict, lr__dual=True, lr__penalty=none, lr__solver=liblinear \n",
      "[CV]  lr__class_weight=dict, lr__dual=True, lr__penalty=none, lr__solver=liblinear, total=   0.0s\n",
      "[CV] lr__class_weight=dict, lr__dual=True, lr__penalty=none, lr__solver=liblinear \n",
      "[CV]  lr__class_weight=dict, lr__dual=True, lr__penalty=none, lr__solver=liblinear, total=   0.0s\n",
      "[CV] lr__class_weight=dict, lr__dual=True, lr__penalty=none, lr__solver=lbfgs \n",
      "[CV]  lr__class_weight=dict, lr__dual=True, lr__penalty=none, lr__solver=lbfgs, total=   0.0s\n",
      "[CV] lr__class_weight=dict, lr__dual=True, lr__penalty=none, lr__solver=lbfgs \n",
      "[CV]  lr__class_weight=dict, lr__dual=True, lr__penalty=none, lr__solver=lbfgs, total=   0.0s\n",
      "[CV] lr__class_weight=dict, lr__dual=True, lr__penalty=none, lr__solver=lbfgs \n",
      "[CV]  lr__class_weight=dict, lr__dual=True, lr__penalty=none, lr__solver=lbfgs, total=   0.0s\n",
      "[CV] lr__class_weight=dict, lr__dual=True, lr__penalty=none, lr__solver=lbfgs \n",
      "[CV]  lr__class_weight=dict, lr__dual=True, lr__penalty=none, lr__solver=lbfgs, total=   0.0s\n",
      "[CV] lr__class_weight=dict, lr__dual=True, lr__penalty=none, lr__solver=lbfgs \n",
      "[CV]  lr__class_weight=dict, lr__dual=True, lr__penalty=none, lr__solver=lbfgs, total=   0.0s\n",
      "[CV] lr__class_weight=dict, lr__dual=True, lr__penalty=none, lr__solver=None \n",
      "[CV]  lr__class_weight=dict, lr__dual=True, lr__penalty=none, lr__solver=None, total=   0.0s\n",
      "[CV] lr__class_weight=dict, lr__dual=True, lr__penalty=none, lr__solver=None \n",
      "[CV]  lr__class_weight=dict, lr__dual=True, lr__penalty=none, lr__solver=None, total=   0.0s\n",
      "[CV] lr__class_weight=dict, lr__dual=True, lr__penalty=none, lr__solver=None "
     ]
    },
    {
     "name": "stderr",
     "output_type": "stream",
     "text": [
      "/Users/brandongreenspan/opt/anaconda3/envs/dsi/lib/python3.7/site-packages/sklearn/model_selection/_validation.py:536: FitFailedWarning: Estimator fit failed. The score on this train-test partition for these parameters will be set to nan. Details: \n",
      "ValueError: Logistic Regression supports only solvers in ['liblinear', 'newton-cg', 'lbfgs', 'sag', 'saga'], got None.\n",
      "\n",
      "  FitFailedWarning)\n",
      "/Users/brandongreenspan/opt/anaconda3/envs/dsi/lib/python3.7/site-packages/sklearn/model_selection/_validation.py:536: FitFailedWarning: Estimator fit failed. The score on this train-test partition for these parameters will be set to nan. Details: \n",
      "ValueError: penalty='none' is not supported for the liblinear solver\n",
      "\n",
      "  FitFailedWarning)\n"
     ]
    },
    {
     "name": "stdout",
     "output_type": "stream",
     "text": [
      "\n",
      "[CV]  lr__class_weight=dict, lr__dual=True, lr__penalty=none, lr__solver=None, total=   0.0s\n",
      "[CV] lr__class_weight=dict, lr__dual=True, lr__penalty=none, lr__solver=None \n",
      "[CV]  lr__class_weight=dict, lr__dual=True, lr__penalty=none, lr__solver=None, total=   0.0s\n",
      "[CV] lr__class_weight=dict, lr__dual=True, lr__penalty=none, lr__solver=None \n",
      "[CV]  lr__class_weight=dict, lr__dual=True, lr__penalty=none, lr__solver=None, total=   0.0s\n",
      "[CV] lr__class_weight=dict, lr__dual=False, lr__penalty=l1, lr__solver=liblinear \n",
      "[CV]  lr__class_weight=dict, lr__dual=False, lr__penalty=l1, lr__solver=liblinear, total=   0.0s\n",
      "[CV] lr__class_weight=dict, lr__dual=False, lr__penalty=l1, lr__solver=liblinear \n",
      "[CV]  lr__class_weight=dict, lr__dual=False, lr__penalty=l1, lr__solver=liblinear, total=   0.0s\n",
      "[CV] lr__class_weight=dict, lr__dual=False, lr__penalty=l1, lr__solver=liblinear \n",
      "[CV]  lr__class_weight=dict, lr__dual=False, lr__penalty=l1, lr__solver=liblinear, total=   0.0s\n",
      "[CV] lr__class_weight=dict, lr__dual=False, lr__penalty=l1, lr__solver=liblinear \n",
      "[CV]  lr__class_weight=dict, lr__dual=False, lr__penalty=l1, lr__solver=liblinear, total=   0.0s\n",
      "[CV] lr__class_weight=dict, lr__dual=False, lr__penalty=l1, lr__solver=liblinear \n",
      "[CV]  lr__class_weight=dict, lr__dual=False, lr__penalty=l1, lr__solver=liblinear, total=   0.0s\n",
      "[CV] lr__class_weight=dict, lr__dual=False, lr__penalty=l1, lr__solver=lbfgs \n",
      "[CV]  lr__class_weight=dict, lr__dual=False, lr__penalty=l1, lr__solver=lbfgs, total=   0.0s\n",
      "[CV] lr__class_weight=dict, lr__dual=False, lr__penalty=l1, lr__solver=lbfgs \n",
      "[CV]  lr__class_weight=dict, lr__dual=False, lr__penalty=l1, lr__solver=lbfgs, total=   0.0s\n",
      "[CV] lr__class_weight=dict, lr__dual=False, lr__penalty=l1, lr__solver=lbfgs \n",
      "[CV]  lr__class_weight=dict, lr__dual=False, lr__penalty=l1, lr__solver=lbfgs, total=   0.0s\n",
      "[CV] lr__class_weight=dict, lr__dual=False, lr__penalty=l1, lr__solver=lbfgs \n",
      "[CV]  lr__class_weight=dict, lr__dual=False, lr__penalty=l1, lr__solver=lbfgs, total=   0.0s\n",
      "[CV] lr__class_weight=dict, lr__dual=False, lr__penalty=l1, lr__solver=lbfgs \n",
      "[CV]  lr__class_weight=dict, lr__dual=False, lr__penalty=l1, lr__solver=lbfgs, total=   0.0s\n",
      "[CV] lr__class_weight=dict, lr__dual=False, lr__penalty=l1, lr__solver=None \n",
      "[CV]  lr__class_weight=dict, lr__dual=False, lr__penalty=l1, lr__solver=None, total=   0.0s\n",
      "[CV] lr__class_weight=dict, lr__dual=False, lr__penalty=l1, lr__solver=None \n",
      "[CV]  lr__class_weight=dict, lr__dual=False, lr__penalty=l1, lr__solver=None, total=   0.0s\n",
      "[CV] lr__class_weight=dict, lr__dual=False, lr__penalty=l1, lr__solver=None \n",
      "[CV]  lr__class_weight=dict, lr__dual=False, lr__penalty=l1, lr__solver=None, total=   0.0s\n",
      "[CV] lr__class_weight=dict, lr__dual=False, lr__penalty=l1, lr__solver=None \n",
      "[CV]  lr__class_weight=dict, lr__dual=False, lr__penalty=l1, lr__solver=None, total=   0.0s\n",
      "[CV] lr__class_weight=dict, lr__dual=False, lr__penalty=l1, lr__solver=None \n",
      "[CV]  lr__class_weight=dict, lr__dual=False, lr__penalty=l1, lr__solver=None, total=   0.0s\n",
      "[CV] lr__class_weight=dict, lr__dual=False, lr__penalty=l2, lr__solver=liblinear \n",
      "[CV]  lr__class_weight=dict, lr__dual=False, lr__penalty=l2, lr__solver=liblinear, total=   0.0s\n",
      "[CV] lr__class_weight=dict, lr__dual=False, lr__penalty=l2, lr__solver=liblinear \n",
      "[CV]  lr__class_weight=dict, lr__dual=False, lr__penalty=l2, lr__solver=liblinear, total=   0.0s\n",
      "[CV] lr__class_weight=dict, lr__dual=False, lr__penalty=l2, lr__solver=liblinear \n",
      "[CV]  lr__class_weight=dict, lr__dual=False, lr__penalty=l2, lr__solver=liblinear, total=   0.0s\n",
      "[CV] lr__class_weight=dict, lr__dual=False, lr__penalty=l2, lr__solver=liblinear \n",
      "[CV]  lr__class_weight=dict, lr__dual=False, lr__penalty=l2, lr__solver=liblinear, total=   0.0s\n",
      "[CV] lr__class_weight=dict, lr__dual=False, lr__penalty=l2, lr__solver=liblinear \n",
      "[CV]  lr__class_weight=dict, lr__dual=False, lr__penalty=l2, lr__solver=liblinear, total=   0.0s\n",
      "[CV] lr__class_weight=dict, lr__dual=False, lr__penalty=l2, lr__solver=lbfgs \n"
     ]
    },
    {
     "name": "stderr",
     "output_type": "stream",
     "text": [
      "/Users/brandongreenspan/opt/anaconda3/envs/dsi/lib/python3.7/site-packages/sklearn/model_selection/_validation.py:536: FitFailedWarning: Estimator fit failed. The score on this train-test partition for these parameters will be set to nan. Details: \n",
      "ValueError: class_weight must be dict, 'balanced', or None, got: 'dict'\n",
      "\n",
      "  FitFailedWarning)\n",
      "/Users/brandongreenspan/opt/anaconda3/envs/dsi/lib/python3.7/site-packages/sklearn/model_selection/_validation.py:536: FitFailedWarning: Estimator fit failed. The score on this train-test partition for these parameters will be set to nan. Details: \n",
      "ValueError: class_weight must be dict, 'balanced', or None, got: 'dict'\n",
      "\n",
      "  FitFailedWarning)\n",
      "/Users/brandongreenspan/opt/anaconda3/envs/dsi/lib/python3.7/site-packages/sklearn/model_selection/_validation.py:536: FitFailedWarning: Estimator fit failed. The score on this train-test partition for these parameters will be set to nan. Details: \n",
      "ValueError: class_weight must be dict, 'balanced', or None, got: 'dict'\n",
      "\n",
      "  FitFailedWarning)\n",
      "/Users/brandongreenspan/opt/anaconda3/envs/dsi/lib/python3.7/site-packages/sklearn/model_selection/_validation.py:536: FitFailedWarning: Estimator fit failed. The score on this train-test partition for these parameters will be set to nan. Details: \n",
      "ValueError: class_weight must be dict, 'balanced', or None, got: 'dict'\n",
      "\n",
      "  FitFailedWarning)\n",
      "/Users/brandongreenspan/opt/anaconda3/envs/dsi/lib/python3.7/site-packages/sklearn/model_selection/_validation.py:536: FitFailedWarning: Estimator fit failed. The score on this train-test partition for these parameters will be set to nan. Details: \n",
      "ValueError: class_weight must be dict, 'balanced', or None, got: 'dict'\n",
      "\n",
      "  FitFailedWarning)\n",
      "/Users/brandongreenspan/opt/anaconda3/envs/dsi/lib/python3.7/site-packages/sklearn/model_selection/_validation.py:536: FitFailedWarning: Estimator fit failed. The score on this train-test partition for these parameters will be set to nan. Details: \n",
      "ValueError: Solver lbfgs supports only 'l2' or 'none' penalties, got l1 penalty.\n",
      "\n",
      "  FitFailedWarning)\n",
      "/Users/brandongreenspan/opt/anaconda3/envs/dsi/lib/python3.7/site-packages/sklearn/model_selection/_validation.py:536: FitFailedWarning: Estimator fit failed. The score on this train-test partition for these parameters will be set to nan. Details: \n",
      "ValueError: Logistic Regression supports only solvers in ['liblinear', 'newton-cg', 'lbfgs', 'sag', 'saga'], got None.\n",
      "\n",
      "  FitFailedWarning)\n",
      "/Users/brandongreenspan/opt/anaconda3/envs/dsi/lib/python3.7/site-packages/sklearn/model_selection/_validation.py:536: FitFailedWarning: Estimator fit failed. The score on this train-test partition for these parameters will be set to nan. Details: \n",
      "ValueError: class_weight must be dict, 'balanced', or None, got: 'dict'\n",
      "\n",
      "  FitFailedWarning)\n",
      "/Users/brandongreenspan/opt/anaconda3/envs/dsi/lib/python3.7/site-packages/sklearn/model_selection/_validation.py:536: FitFailedWarning: Estimator fit failed. The score on this train-test partition for these parameters will be set to nan. Details: \n",
      "ValueError: class_weight must be dict, 'balanced', or None, got: 'dict'\n",
      "\n",
      "  FitFailedWarning)\n",
      "/Users/brandongreenspan/opt/anaconda3/envs/dsi/lib/python3.7/site-packages/sklearn/model_selection/_validation.py:536: FitFailedWarning: Estimator fit failed. The score on this train-test partition for these parameters will be set to nan. Details: \n",
      "ValueError: class_weight must be dict, 'balanced', or None, got: 'dict'\n",
      "\n",
      "  FitFailedWarning)\n",
      "/Users/brandongreenspan/opt/anaconda3/envs/dsi/lib/python3.7/site-packages/sklearn/model_selection/_validation.py:536: FitFailedWarning: Estimator fit failed. The score on this train-test partition for these parameters will be set to nan. Details: \n",
      "ValueError: class_weight must be dict, 'balanced', or None, got: 'dict'\n",
      "\n",
      "  FitFailedWarning)\n",
      "/Users/brandongreenspan/opt/anaconda3/envs/dsi/lib/python3.7/site-packages/sklearn/model_selection/_validation.py:536: FitFailedWarning: Estimator fit failed. The score on this train-test partition for these parameters will be set to nan. Details: \n",
      "ValueError: class_weight must be dict, 'balanced', or None, got: 'dict'\n",
      "\n",
      "  FitFailedWarning)\n",
      "/Users/brandongreenspan/opt/anaconda3/envs/dsi/lib/python3.7/site-packages/sklearn/linear_model/_logistic.py:940: ConvergenceWarning: lbfgs failed to converge (status=1):\n",
      "STOP: TOTAL NO. of ITERATIONS REACHED LIMIT.\n",
      "\n",
      "Increase the number of iterations (max_iter) or scale the data as shown in:\n",
      "    https://scikit-learn.org/stable/modules/preprocessing.html\n",
      "Please also refer to the documentation for alternative solver options:\n",
      "    https://scikit-learn.org/stable/modules/linear_model.html#logistic-regression\n",
      "  extra_warning_msg=_LOGISTIC_SOLVER_CONVERGENCE_MSG)\n",
      "/Users/brandongreenspan/opt/anaconda3/envs/dsi/lib/python3.7/site-packages/sklearn/linear_model/_logistic.py:940: ConvergenceWarning: lbfgs failed to converge (status=1):\n",
      "STOP: TOTAL NO. of ITERATIONS REACHED LIMIT.\n",
      "\n",
      "Increase the number of iterations (max_iter) or scale the data as shown in:\n",
      "    https://scikit-learn.org/stable/modules/preprocessing.html\n",
      "Please also refer to the documentation for alternative solver options:\n",
      "    https://scikit-learn.org/stable/modules/linear_model.html#logistic-regression\n",
      "  extra_warning_msg=_LOGISTIC_SOLVER_CONVERGENCE_MSG)\n"
     ]
    },
    {
     "name": "stdout",
     "output_type": "stream",
     "text": [
      "[CV]  lr__class_weight=dict, lr__dual=False, lr__penalty=l2, lr__solver=lbfgs, total=   0.2s\n",
      "[CV] lr__class_weight=dict, lr__dual=False, lr__penalty=l2, lr__solver=lbfgs \n",
      "[CV]  lr__class_weight=dict, lr__dual=False, lr__penalty=l2, lr__solver=lbfgs, total=   0.2s\n",
      "[CV] lr__class_weight=dict, lr__dual=False, lr__penalty=l2, lr__solver=lbfgs \n"
     ]
    },
    {
     "name": "stderr",
     "output_type": "stream",
     "text": [
      "/Users/brandongreenspan/opt/anaconda3/envs/dsi/lib/python3.7/site-packages/sklearn/linear_model/_logistic.py:940: ConvergenceWarning: lbfgs failed to converge (status=1):\n",
      "STOP: TOTAL NO. of ITERATIONS REACHED LIMIT.\n",
      "\n",
      "Increase the number of iterations (max_iter) or scale the data as shown in:\n",
      "    https://scikit-learn.org/stable/modules/preprocessing.html\n",
      "Please also refer to the documentation for alternative solver options:\n",
      "    https://scikit-learn.org/stable/modules/linear_model.html#logistic-regression\n",
      "  extra_warning_msg=_LOGISTIC_SOLVER_CONVERGENCE_MSG)\n"
     ]
    },
    {
     "name": "stdout",
     "output_type": "stream",
     "text": [
      "[CV]  lr__class_weight=dict, lr__dual=False, lr__penalty=l2, lr__solver=lbfgs, total=   0.2s\n",
      "[CV] lr__class_weight=dict, lr__dual=False, lr__penalty=l2, lr__solver=lbfgs \n"
     ]
    },
    {
     "name": "stderr",
     "output_type": "stream",
     "text": [
      "/Users/brandongreenspan/opt/anaconda3/envs/dsi/lib/python3.7/site-packages/sklearn/linear_model/_logistic.py:940: ConvergenceWarning: lbfgs failed to converge (status=1):\n",
      "STOP: TOTAL NO. of ITERATIONS REACHED LIMIT.\n",
      "\n",
      "Increase the number of iterations (max_iter) or scale the data as shown in:\n",
      "    https://scikit-learn.org/stable/modules/preprocessing.html\n",
      "Please also refer to the documentation for alternative solver options:\n",
      "    https://scikit-learn.org/stable/modules/linear_model.html#logistic-regression\n",
      "  extra_warning_msg=_LOGISTIC_SOLVER_CONVERGENCE_MSG)\n"
     ]
    },
    {
     "name": "stdout",
     "output_type": "stream",
     "text": [
      "[CV]  lr__class_weight=dict, lr__dual=False, lr__penalty=l2, lr__solver=lbfgs, total=   0.2s\n",
      "[CV] lr__class_weight=dict, lr__dual=False, lr__penalty=l2, lr__solver=lbfgs \n"
     ]
    },
    {
     "name": "stderr",
     "output_type": "stream",
     "text": [
      "/Users/brandongreenspan/opt/anaconda3/envs/dsi/lib/python3.7/site-packages/sklearn/linear_model/_logistic.py:940: ConvergenceWarning: lbfgs failed to converge (status=1):\n",
      "STOP: TOTAL NO. of ITERATIONS REACHED LIMIT.\n",
      "\n",
      "Increase the number of iterations (max_iter) or scale the data as shown in:\n",
      "    https://scikit-learn.org/stable/modules/preprocessing.html\n",
      "Please also refer to the documentation for alternative solver options:\n",
      "    https://scikit-learn.org/stable/modules/linear_model.html#logistic-regression\n",
      "  extra_warning_msg=_LOGISTIC_SOLVER_CONVERGENCE_MSG)\n",
      "/Users/brandongreenspan/opt/anaconda3/envs/dsi/lib/python3.7/site-packages/sklearn/model_selection/_validation.py:536: FitFailedWarning: Estimator fit failed. The score on this train-test partition for these parameters will be set to nan. Details: \n",
      "ValueError: Logistic Regression supports only solvers in ['liblinear', 'newton-cg', 'lbfgs', 'sag', 'saga'], got None.\n",
      "\n",
      "  FitFailedWarning)\n",
      "/Users/brandongreenspan/opt/anaconda3/envs/dsi/lib/python3.7/site-packages/sklearn/model_selection/_validation.py:536: FitFailedWarning: Estimator fit failed. The score on this train-test partition for these parameters will be set to nan. Details: \n",
      "ValueError: penalty='none' is not supported for the liblinear solver\n",
      "\n",
      "  FitFailedWarning)\n"
     ]
    },
    {
     "name": "stdout",
     "output_type": "stream",
     "text": [
      "[CV]  lr__class_weight=dict, lr__dual=False, lr__penalty=l2, lr__solver=lbfgs, total=   0.4s\n",
      "[CV] lr__class_weight=dict, lr__dual=False, lr__penalty=l2, lr__solver=None \n",
      "[CV]  lr__class_weight=dict, lr__dual=False, lr__penalty=l2, lr__solver=None, total=   0.0s\n",
      "[CV] lr__class_weight=dict, lr__dual=False, lr__penalty=l2, lr__solver=None \n",
      "[CV]  lr__class_weight=dict, lr__dual=False, lr__penalty=l2, lr__solver=None, total=   0.0s\n",
      "[CV] lr__class_weight=dict, lr__dual=False, lr__penalty=l2, lr__solver=None \n",
      "[CV]  lr__class_weight=dict, lr__dual=False, lr__penalty=l2, lr__solver=None, total=   0.0s\n",
      "[CV] lr__class_weight=dict, lr__dual=False, lr__penalty=l2, lr__solver=None \n",
      "[CV]  lr__class_weight=dict, lr__dual=False, lr__penalty=l2, lr__solver=None, total=   0.0s\n",
      "[CV] lr__class_weight=dict, lr__dual=False, lr__penalty=l2, lr__solver=None \n",
      "[CV]  lr__class_weight=dict, lr__dual=False, lr__penalty=l2, lr__solver=None, total=   0.0s\n",
      "[CV] lr__class_weight=dict, lr__dual=False, lr__penalty=none, lr__solver=liblinear \n",
      "[CV]  lr__class_weight=dict, lr__dual=False, lr__penalty=none, lr__solver=liblinear, total=   0.0s\n",
      "[CV] lr__class_weight=dict, lr__dual=False, lr__penalty=none, lr__solver=liblinear \n",
      "[CV]  lr__class_weight=dict, lr__dual=False, lr__penalty=none, lr__solver=liblinear, total=   0.0s\n",
      "[CV] lr__class_weight=dict, lr__dual=False, lr__penalty=none, lr__solver=liblinear \n",
      "[CV]  lr__class_weight=dict, lr__dual=False, lr__penalty=none, lr__solver=liblinear, total=   0.0s\n",
      "[CV] lr__class_weight=dict, lr__dual=False, lr__penalty=none, lr__solver=liblinear \n",
      "[CV]  lr__class_weight=dict, lr__dual=False, lr__penalty=none, lr__solver=liblinear, total=   0.0s\n",
      "[CV] lr__class_weight=dict, lr__dual=False, lr__penalty=none, lr__solver=liblinear \n",
      "[CV]  lr__class_weight=dict, lr__dual=False, lr__penalty=none, lr__solver=liblinear, total=   0.0s\n",
      "[CV] lr__class_weight=dict, lr__dual=False, lr__penalty=none, lr__solver=lbfgs \n"
     ]
    },
    {
     "name": "stderr",
     "output_type": "stream",
     "text": [
      "/Users/brandongreenspan/opt/anaconda3/envs/dsi/lib/python3.7/site-packages/sklearn/linear_model/_logistic.py:940: ConvergenceWarning: lbfgs failed to converge (status=1):\n",
      "STOP: TOTAL NO. of ITERATIONS REACHED LIMIT.\n",
      "\n",
      "Increase the number of iterations (max_iter) or scale the data as shown in:\n",
      "    https://scikit-learn.org/stable/modules/preprocessing.html\n",
      "Please also refer to the documentation for alternative solver options:\n",
      "    https://scikit-learn.org/stable/modules/linear_model.html#logistic-regression\n",
      "  extra_warning_msg=_LOGISTIC_SOLVER_CONVERGENCE_MSG)\n"
     ]
    },
    {
     "name": "stdout",
     "output_type": "stream",
     "text": [
      "[CV]  lr__class_weight=dict, lr__dual=False, lr__penalty=none, lr__solver=lbfgs, total=   0.3s\n",
      "[CV] lr__class_weight=dict, lr__dual=False, lr__penalty=none, lr__solver=lbfgs \n"
     ]
    },
    {
     "name": "stderr",
     "output_type": "stream",
     "text": [
      "/Users/brandongreenspan/opt/anaconda3/envs/dsi/lib/python3.7/site-packages/sklearn/linear_model/_logistic.py:940: ConvergenceWarning: lbfgs failed to converge (status=1):\n",
      "STOP: TOTAL NO. of ITERATIONS REACHED LIMIT.\n",
      "\n",
      "Increase the number of iterations (max_iter) or scale the data as shown in:\n",
      "    https://scikit-learn.org/stable/modules/preprocessing.html\n",
      "Please also refer to the documentation for alternative solver options:\n",
      "    https://scikit-learn.org/stable/modules/linear_model.html#logistic-regression\n",
      "  extra_warning_msg=_LOGISTIC_SOLVER_CONVERGENCE_MSG)\n"
     ]
    },
    {
     "name": "stdout",
     "output_type": "stream",
     "text": [
      "[CV]  lr__class_weight=dict, lr__dual=False, lr__penalty=none, lr__solver=lbfgs, total=   0.3s\n",
      "[CV] lr__class_weight=dict, lr__dual=False, lr__penalty=none, lr__solver=lbfgs \n"
     ]
    },
    {
     "name": "stderr",
     "output_type": "stream",
     "text": [
      "/Users/brandongreenspan/opt/anaconda3/envs/dsi/lib/python3.7/site-packages/sklearn/linear_model/_logistic.py:940: ConvergenceWarning: lbfgs failed to converge (status=1):\n",
      "STOP: TOTAL NO. of ITERATIONS REACHED LIMIT.\n",
      "\n",
      "Increase the number of iterations (max_iter) or scale the data as shown in:\n",
      "    https://scikit-learn.org/stable/modules/preprocessing.html\n",
      "Please also refer to the documentation for alternative solver options:\n",
      "    https://scikit-learn.org/stable/modules/linear_model.html#logistic-regression\n",
      "  extra_warning_msg=_LOGISTIC_SOLVER_CONVERGENCE_MSG)\n"
     ]
    },
    {
     "name": "stdout",
     "output_type": "stream",
     "text": [
      "[CV]  lr__class_weight=dict, lr__dual=False, lr__penalty=none, lr__solver=lbfgs, total=   0.4s\n",
      "[CV] lr__class_weight=dict, lr__dual=False, lr__penalty=none, lr__solver=lbfgs \n"
     ]
    },
    {
     "name": "stderr",
     "output_type": "stream",
     "text": [
      "/Users/brandongreenspan/opt/anaconda3/envs/dsi/lib/python3.7/site-packages/sklearn/linear_model/_logistic.py:940: ConvergenceWarning: lbfgs failed to converge (status=1):\n",
      "STOP: TOTAL NO. of ITERATIONS REACHED LIMIT.\n",
      "\n",
      "Increase the number of iterations (max_iter) or scale the data as shown in:\n",
      "    https://scikit-learn.org/stable/modules/preprocessing.html\n",
      "Please also refer to the documentation for alternative solver options:\n",
      "    https://scikit-learn.org/stable/modules/linear_model.html#logistic-regression\n",
      "  extra_warning_msg=_LOGISTIC_SOLVER_CONVERGENCE_MSG)\n"
     ]
    },
    {
     "name": "stdout",
     "output_type": "stream",
     "text": [
      "[CV]  lr__class_weight=dict, lr__dual=False, lr__penalty=none, lr__solver=lbfgs, total=   0.3s\n",
      "[CV] lr__class_weight=dict, lr__dual=False, lr__penalty=none, lr__solver=lbfgs \n"
     ]
    },
    {
     "name": "stderr",
     "output_type": "stream",
     "text": [
      "/Users/brandongreenspan/opt/anaconda3/envs/dsi/lib/python3.7/site-packages/sklearn/linear_model/_logistic.py:940: ConvergenceWarning: lbfgs failed to converge (status=1):\n",
      "STOP: TOTAL NO. of ITERATIONS REACHED LIMIT.\n",
      "\n",
      "Increase the number of iterations (max_iter) or scale the data as shown in:\n",
      "    https://scikit-learn.org/stable/modules/preprocessing.html\n",
      "Please also refer to the documentation for alternative solver options:\n",
      "    https://scikit-learn.org/stable/modules/linear_model.html#logistic-regression\n",
      "  extra_warning_msg=_LOGISTIC_SOLVER_CONVERGENCE_MSG)\n",
      "/Users/brandongreenspan/opt/anaconda3/envs/dsi/lib/python3.7/site-packages/sklearn/model_selection/_validation.py:536: FitFailedWarning: Estimator fit failed. The score on this train-test partition for these parameters will be set to nan. Details: \n",
      "ValueError: Logistic Regression supports only solvers in ['liblinear', 'newton-cg', 'lbfgs', 'sag', 'saga'], got None.\n",
      "\n",
      "  FitFailedWarning)\n",
      "/Users/brandongreenspan/opt/anaconda3/envs/dsi/lib/python3.7/site-packages/sklearn/model_selection/_validation.py:536: FitFailedWarning: Estimator fit failed. The score on this train-test partition for these parameters will be set to nan. Details: \n",
      "ValueError: Unsupported set of arguments: The combination of penalty='l1' and loss='logistic_regression' are not supported when dual=True, Parameters: penalty='l1', loss='logistic_regression', dual=True\n",
      "\n",
      "  FitFailedWarning)\n",
      "/Users/brandongreenspan/opt/anaconda3/envs/dsi/lib/python3.7/site-packages/sklearn/model_selection/_validation.py:536: FitFailedWarning: Estimator fit failed. The score on this train-test partition for these parameters will be set to nan. Details: \n",
      "ValueError: Unsupported set of arguments: The combination of penalty='l1' and loss='logistic_regression' are not supported when dual=True, Parameters: penalty='l1', loss='logistic_regression', dual=True\n",
      "\n",
      "  FitFailedWarning)\n",
      "/Users/brandongreenspan/opt/anaconda3/envs/dsi/lib/python3.7/site-packages/sklearn/model_selection/_validation.py:536: FitFailedWarning: Estimator fit failed. The score on this train-test partition for these parameters will be set to nan. Details: \n",
      "ValueError: Unsupported set of arguments: The combination of penalty='l1' and loss='logistic_regression' are not supported when dual=True, Parameters: penalty='l1', loss='logistic_regression', dual=True\n",
      "\n",
      "  FitFailedWarning)\n",
      "/Users/brandongreenspan/opt/anaconda3/envs/dsi/lib/python3.7/site-packages/sklearn/model_selection/_validation.py:536: FitFailedWarning: Estimator fit failed. The score on this train-test partition for these parameters will be set to nan. Details: \n",
      "ValueError: Unsupported set of arguments: The combination of penalty='l1' and loss='logistic_regression' are not supported when dual=True, Parameters: penalty='l1', loss='logistic_regression', dual=True\n",
      "\n",
      "  FitFailedWarning)\n",
      "/Users/brandongreenspan/opt/anaconda3/envs/dsi/lib/python3.7/site-packages/sklearn/model_selection/_validation.py:536: FitFailedWarning: Estimator fit failed. The score on this train-test partition for these parameters will be set to nan. Details: \n",
      "ValueError: Unsupported set of arguments: The combination of penalty='l1' and loss='logistic_regression' are not supported when dual=True, Parameters: penalty='l1', loss='logistic_regression', dual=True\n",
      "\n",
      "  FitFailedWarning)\n",
      "/Users/brandongreenspan/opt/anaconda3/envs/dsi/lib/python3.7/site-packages/sklearn/model_selection/_validation.py:536: FitFailedWarning: Estimator fit failed. The score on this train-test partition for these parameters will be set to nan. Details: \n",
      "ValueError: Solver lbfgs supports only 'l2' or 'none' penalties, got l1 penalty.\n",
      "\n",
      "  FitFailedWarning)\n",
      "/Users/brandongreenspan/opt/anaconda3/envs/dsi/lib/python3.7/site-packages/sklearn/model_selection/_validation.py:536: FitFailedWarning: Estimator fit failed. The score on this train-test partition for these parameters will be set to nan. Details: \n",
      "ValueError: Logistic Regression supports only solvers in ['liblinear', 'newton-cg', 'lbfgs', 'sag', 'saga'], got None.\n",
      "\n",
      "  FitFailedWarning)\n"
     ]
    },
    {
     "name": "stdout",
     "output_type": "stream",
     "text": [
      "[CV]  lr__class_weight=dict, lr__dual=False, lr__penalty=none, lr__solver=lbfgs, total=   0.3s\n",
      "[CV] lr__class_weight=dict, lr__dual=False, lr__penalty=none, lr__solver=None \n",
      "[CV]  lr__class_weight=dict, lr__dual=False, lr__penalty=none, lr__solver=None, total=   0.0s\n",
      "[CV] lr__class_weight=dict, lr__dual=False, lr__penalty=none, lr__solver=None \n",
      "[CV]  lr__class_weight=dict, lr__dual=False, lr__penalty=none, lr__solver=None, total=   0.0s\n",
      "[CV] lr__class_weight=dict, lr__dual=False, lr__penalty=none, lr__solver=None \n",
      "[CV]  lr__class_weight=dict, lr__dual=False, lr__penalty=none, lr__solver=None, total=   0.0s\n",
      "[CV] lr__class_weight=dict, lr__dual=False, lr__penalty=none, lr__solver=None \n",
      "[CV]  lr__class_weight=dict, lr__dual=False, lr__penalty=none, lr__solver=None, total=   0.0s\n",
      "[CV] lr__class_weight=dict, lr__dual=False, lr__penalty=none, lr__solver=None \n",
      "[CV]  lr__class_weight=dict, lr__dual=False, lr__penalty=none, lr__solver=None, total=   0.0s\n",
      "[CV] lr__class_weight=balanced, lr__dual=True, lr__penalty=l1, lr__solver=liblinear \n",
      "[CV]  lr__class_weight=balanced, lr__dual=True, lr__penalty=l1, lr__solver=liblinear, total=   0.0s\n",
      "[CV] lr__class_weight=balanced, lr__dual=True, lr__penalty=l1, lr__solver=liblinear \n",
      "[CV]  lr__class_weight=balanced, lr__dual=True, lr__penalty=l1, lr__solver=liblinear, total=   0.0s\n",
      "[CV] lr__class_weight=balanced, lr__dual=True, lr__penalty=l1, lr__solver=liblinear \n",
      "[CV]  lr__class_weight=balanced, lr__dual=True, lr__penalty=l1, lr__solver=liblinear, total=   0.0s\n",
      "[CV] lr__class_weight=balanced, lr__dual=True, lr__penalty=l1, lr__solver=liblinear \n",
      "[CV]  lr__class_weight=balanced, lr__dual=True, lr__penalty=l1, lr__solver=liblinear, total=   0.0s\n",
      "[CV] lr__class_weight=balanced, lr__dual=True, lr__penalty=l1, lr__solver=liblinear \n",
      "[CV]  lr__class_weight=balanced, lr__dual=True, lr__penalty=l1, lr__solver=liblinear, total=   0.0s\n",
      "[CV] lr__class_weight=balanced, lr__dual=True, lr__penalty=l1, lr__solver=lbfgs \n",
      "[CV]  lr__class_weight=balanced, lr__dual=True, lr__penalty=l1, lr__solver=lbfgs, total=   0.0s\n",
      "[CV] lr__class_weight=balanced, lr__dual=True, lr__penalty=l1, lr__solver=lbfgs \n",
      "[CV]  lr__class_weight=balanced, lr__dual=True, lr__penalty=l1, lr__solver=lbfgs, total=   0.0s\n",
      "[CV] lr__class_weight=balanced, lr__dual=True, lr__penalty=l1, lr__solver=lbfgs \n",
      "[CV]  lr__class_weight=balanced, lr__dual=True, lr__penalty=l1, lr__solver=lbfgs, total=   0.0s\n",
      "[CV] lr__class_weight=balanced, lr__dual=True, lr__penalty=l1, lr__solver=lbfgs \n",
      "[CV]  lr__class_weight=balanced, lr__dual=True, lr__penalty=l1, lr__solver=lbfgs, total=   0.0s\n",
      "[CV] lr__class_weight=balanced, lr__dual=True, lr__penalty=l1, lr__solver=lbfgs \n",
      "[CV]  lr__class_weight=balanced, lr__dual=True, lr__penalty=l1, lr__solver=lbfgs, total=   0.0s\n",
      "[CV] lr__class_weight=balanced, lr__dual=True, lr__penalty=l1, lr__solver=None \n",
      "[CV]  lr__class_weight=balanced, lr__dual=True, lr__penalty=l1, lr__solver=None, total=   0.0s\n",
      "[CV] lr__class_weight=balanced, lr__dual=True, lr__penalty=l1, lr__solver=None \n",
      "[CV]  lr__class_weight=balanced, lr__dual=True, lr__penalty=l1, lr__solver=None, total=   0.0s\n",
      "[CV] lr__class_weight=balanced, lr__dual=True, lr__penalty=l1, lr__solver=None \n",
      "[CV]  lr__class_weight=balanced, lr__dual=True, lr__penalty=l1, lr__solver=None, total=   0.0s\n",
      "[CV] lr__class_weight=balanced, lr__dual=True, lr__penalty=l1, lr__solver=None \n",
      "[CV]  lr__class_weight=balanced, lr__dual=True, lr__penalty=l1, lr__solver=None, total=   0.0s\n",
      "[CV] lr__class_weight=balanced, lr__dual=True, lr__penalty=l1, lr__solver=None \n",
      "[CV]  lr__class_weight=balanced, lr__dual=True, lr__penalty=l1, lr__solver=None, total=   0.0s\n",
      "[CV] lr__class_weight=balanced, lr__dual=True, lr__penalty=l2, lr__solver=liblinear \n"
     ]
    },
    {
     "name": "stderr",
     "output_type": "stream",
     "text": [
      "/Users/brandongreenspan/opt/anaconda3/envs/dsi/lib/python3.7/site-packages/sklearn/svm/_base.py:947: ConvergenceWarning: Liblinear failed to converge, increase the number of iterations.\n",
      "  \"the number of iterations.\", ConvergenceWarning)\n"
     ]
    },
    {
     "name": "stdout",
     "output_type": "stream",
     "text": [
      "[CV]  lr__class_weight=balanced, lr__dual=True, lr__penalty=l2, lr__solver=liblinear, total=   0.5s\n",
      "[CV] lr__class_weight=balanced, lr__dual=True, lr__penalty=l2, lr__solver=liblinear \n"
     ]
    },
    {
     "name": "stderr",
     "output_type": "stream",
     "text": [
      "/Users/brandongreenspan/opt/anaconda3/envs/dsi/lib/python3.7/site-packages/sklearn/svm/_base.py:947: ConvergenceWarning: Liblinear failed to converge, increase the number of iterations.\n",
      "  \"the number of iterations.\", ConvergenceWarning)\n"
     ]
    },
    {
     "name": "stdout",
     "output_type": "stream",
     "text": [
      "[CV]  lr__class_weight=balanced, lr__dual=True, lr__penalty=l2, lr__solver=liblinear, total=   0.5s\n",
      "[CV] lr__class_weight=balanced, lr__dual=True, lr__penalty=l2, lr__solver=liblinear \n"
     ]
    },
    {
     "name": "stderr",
     "output_type": "stream",
     "text": [
      "/Users/brandongreenspan/opt/anaconda3/envs/dsi/lib/python3.7/site-packages/sklearn/svm/_base.py:947: ConvergenceWarning: Liblinear failed to converge, increase the number of iterations.\n",
      "  \"the number of iterations.\", ConvergenceWarning)\n"
     ]
    },
    {
     "name": "stdout",
     "output_type": "stream",
     "text": [
      "[CV]  lr__class_weight=balanced, lr__dual=True, lr__penalty=l2, lr__solver=liblinear, total=   0.5s\n",
      "[CV] lr__class_weight=balanced, lr__dual=True, lr__penalty=l2, lr__solver=liblinear \n"
     ]
    },
    {
     "name": "stderr",
     "output_type": "stream",
     "text": [
      "/Users/brandongreenspan/opt/anaconda3/envs/dsi/lib/python3.7/site-packages/sklearn/svm/_base.py:947: ConvergenceWarning: Liblinear failed to converge, increase the number of iterations.\n",
      "  \"the number of iterations.\", ConvergenceWarning)\n"
     ]
    },
    {
     "name": "stdout",
     "output_type": "stream",
     "text": [
      "[CV]  lr__class_weight=balanced, lr__dual=True, lr__penalty=l2, lr__solver=liblinear, total=   0.5s\n",
      "[CV] lr__class_weight=balanced, lr__dual=True, lr__penalty=l2, lr__solver=liblinear \n"
     ]
    },
    {
     "name": "stderr",
     "output_type": "stream",
     "text": [
      "/Users/brandongreenspan/opt/anaconda3/envs/dsi/lib/python3.7/site-packages/sklearn/svm/_base.py:947: ConvergenceWarning: Liblinear failed to converge, increase the number of iterations.\n",
      "  \"the number of iterations.\", ConvergenceWarning)\n",
      "/Users/brandongreenspan/opt/anaconda3/envs/dsi/lib/python3.7/site-packages/sklearn/model_selection/_validation.py:536: FitFailedWarning: Estimator fit failed. The score on this train-test partition for these parameters will be set to nan. Details: \n",
      "ValueError: Solver lbfgs supports only dual=False, got dual=True\n",
      "\n",
      "  FitFailedWarning)\n",
      "/Users/brandongreenspan/opt/anaconda3/envs/dsi/lib/python3.7/site-packages/sklearn/model_selection/_validation.py:536: FitFailedWarning: Estimator fit failed. The score on this train-test partition for these parameters will be set to nan. Details: \n",
      "ValueError: Logistic Regression supports only solvers in ['liblinear', 'newton-cg', 'lbfgs', 'sag', 'saga'], got None.\n",
      "\n",
      "  FitFailedWarning)\n",
      "/Users/brandongreenspan/opt/anaconda3/envs/dsi/lib/python3.7/site-packages/sklearn/model_selection/_validation.py:536: FitFailedWarning: Estimator fit failed. The score on this train-test partition for these parameters will be set to nan. Details: \n",
      "ValueError: penalty='none' is not supported for the liblinear solver\n",
      "\n",
      "  FitFailedWarning)\n"
     ]
    },
    {
     "name": "stdout",
     "output_type": "stream",
     "text": [
      "[CV]  lr__class_weight=balanced, lr__dual=True, lr__penalty=l2, lr__solver=liblinear, total=   0.6s\n",
      "[CV] lr__class_weight=balanced, lr__dual=True, lr__penalty=l2, lr__solver=lbfgs \n",
      "[CV]  lr__class_weight=balanced, lr__dual=True, lr__penalty=l2, lr__solver=lbfgs, total=   0.0s\n",
      "[CV] lr__class_weight=balanced, lr__dual=True, lr__penalty=l2, lr__solver=lbfgs \n",
      "[CV]  lr__class_weight=balanced, lr__dual=True, lr__penalty=l2, lr__solver=lbfgs, total=   0.0s\n",
      "[CV] lr__class_weight=balanced, lr__dual=True, lr__penalty=l2, lr__solver=lbfgs \n",
      "[CV]  lr__class_weight=balanced, lr__dual=True, lr__penalty=l2, lr__solver=lbfgs, total=   0.0s\n",
      "[CV] lr__class_weight=balanced, lr__dual=True, lr__penalty=l2, lr__solver=lbfgs \n",
      "[CV]  lr__class_weight=balanced, lr__dual=True, lr__penalty=l2, lr__solver=lbfgs, total=   0.0s\n",
      "[CV] lr__class_weight=balanced, lr__dual=True, lr__penalty=l2, lr__solver=lbfgs \n",
      "[CV]  lr__class_weight=balanced, lr__dual=True, lr__penalty=l2, lr__solver=lbfgs, total=   0.0s\n",
      "[CV] lr__class_weight=balanced, lr__dual=True, lr__penalty=l2, lr__solver=None \n",
      "[CV]  lr__class_weight=balanced, lr__dual=True, lr__penalty=l2, lr__solver=None, total=   0.0s\n",
      "[CV] lr__class_weight=balanced, lr__dual=True, lr__penalty=l2, lr__solver=None \n",
      "[CV]  lr__class_weight=balanced, lr__dual=True, lr__penalty=l2, lr__solver=None, total=   0.0s\n",
      "[CV] lr__class_weight=balanced, lr__dual=True, lr__penalty=l2, lr__solver=None \n",
      "[CV]  lr__class_weight=balanced, lr__dual=True, lr__penalty=l2, lr__solver=None, total=   0.0s\n",
      "[CV] lr__class_weight=balanced, lr__dual=True, lr__penalty=l2, lr__solver=None \n",
      "[CV]  lr__class_weight=balanced, lr__dual=True, lr__penalty=l2, lr__solver=None, total=   0.0s\n",
      "[CV] lr__class_weight=balanced, lr__dual=True, lr__penalty=l2, lr__solver=None \n",
      "[CV]  lr__class_weight=balanced, lr__dual=True, lr__penalty=l2, lr__solver=None, total=   0.0s\n",
      "[CV] lr__class_weight=balanced, lr__dual=True, lr__penalty=none, lr__solver=liblinear \n",
      "[CV]  lr__class_weight=balanced, lr__dual=True, lr__penalty=none, lr__solver=liblinear, total=   0.0s\n",
      "[CV] lr__class_weight=balanced, lr__dual=True, lr__penalty=none, lr__solver=liblinear \n",
      "[CV]  lr__class_weight=balanced, lr__dual=True, lr__penalty=none, lr__solver=liblinear, total=   0.0s\n",
      "[CV] lr__class_weight=balanced, lr__dual=True, lr__penalty=none, lr__solver=liblinear \n",
      "[CV]  lr__class_weight=balanced, lr__dual=True, lr__penalty=none, lr__solver=liblinear, total=   0.0s\n",
      "[CV] lr__class_weight=balanced, lr__dual=True, lr__penalty=none, lr__solver=liblinear \n",
      "[CV]  lr__class_weight=balanced, lr__dual=True, lr__penalty=none, lr__solver=liblinear, total=   0.0s\n",
      "[CV] lr__class_weight=balanced, lr__dual=True, lr__penalty=none, lr__solver=liblinear \n",
      "[CV]  lr__class_weight=balanced, lr__dual=True, lr__penalty=none, lr__solver=liblinear, total=   0.0s\n",
      "[CV] lr__class_weight=balanced, lr__dual=True, lr__penalty=none, lr__solver=lbfgs \n",
      "[CV]  lr__class_weight=balanced, lr__dual=True, lr__penalty=none, lr__solver=lbfgs, total=   0.0s\n",
      "[CV] lr__class_weight=balanced, lr__dual=True, lr__penalty=none, lr__solver=lbfgs \n",
      "[CV]  lr__class_weight=balanced, lr__dual=True, lr__penalty=none, lr__solver=lbfgs, total=   0.0s\n",
      "[CV] lr__class_weight=balanced, lr__dual=True, lr__penalty=none, lr__solver=lbfgs \n",
      "[CV]  lr__class_weight=balanced, lr__dual=True, lr__penalty=none, lr__solver=lbfgs, total=   0.0s\n",
      "[CV] lr__class_weight=balanced, lr__dual=True, lr__penalty=none, lr__solver=lbfgs \n",
      "[CV]  lr__class_weight=balanced, lr__dual=True, lr__penalty=none, lr__solver=lbfgs, total=   0.0s\n",
      "[CV] lr__class_weight=balanced, lr__dual=True, lr__penalty=none, lr__solver=lbfgs \n",
      "[CV]  lr__class_weight=balanced, lr__dual=True, lr__penalty=none, lr__solver=lbfgs, total=   0.0s\n",
      "[CV] lr__class_weight=balanced, lr__dual=True, lr__penalty=none, lr__solver=None \n",
      "[CV]  lr__class_weight=balanced, lr__dual=True, lr__penalty=none, lr__solver=None, total=   0.0s\n",
      "[CV] lr__class_weight=balanced, lr__dual=True, lr__penalty=none, lr__solver=None \n",
      "[CV]  lr__class_weight=balanced, lr__dual=True, lr__penalty=none, lr__solver=None, total=   0.0s\n",
      "[CV] lr__class_weight=balanced, lr__dual=True, lr__penalty=none, lr__solver=None \n",
      "[CV]  lr__class_weight=balanced, lr__dual=True, lr__penalty=none, lr__solver=None, total=   0.0s\n",
      "[CV] lr__class_weight=balanced, lr__dual=True, lr__penalty=none, lr__solver=None \n",
      "[CV]  lr__class_weight=balanced, lr__dual=True, lr__penalty=none, lr__solver=None, total=   0.0s\n",
      "[CV] lr__class_weight=balanced, lr__dual=True, lr__penalty=none, lr__solver=None \n",
      "[CV]  lr__class_weight=balanced, lr__dual=True, lr__penalty=none, lr__solver=None, total=   0.0s\n",
      "[CV] lr__class_weight=balanced, lr__dual=False, lr__penalty=l1, lr__solver=liblinear \n"
     ]
    },
    {
     "name": "stderr",
     "output_type": "stream",
     "text": [
      "/Users/brandongreenspan/opt/anaconda3/envs/dsi/lib/python3.7/site-packages/sklearn/svm/_base.py:947: ConvergenceWarning: Liblinear failed to converge, increase the number of iterations.\n",
      "  \"the number of iterations.\", ConvergenceWarning)\n"
     ]
    },
    {
     "name": "stdout",
     "output_type": "stream",
     "text": [
      "[CV]  lr__class_weight=balanced, lr__dual=False, lr__penalty=l1, lr__solver=liblinear, total=  33.2s\n",
      "[CV] lr__class_weight=balanced, lr__dual=False, lr__penalty=l1, lr__solver=liblinear \n"
     ]
    },
    {
     "name": "stderr",
     "output_type": "stream",
     "text": [
      "/Users/brandongreenspan/opt/anaconda3/envs/dsi/lib/python3.7/site-packages/sklearn/svm/_base.py:947: ConvergenceWarning: Liblinear failed to converge, increase the number of iterations.\n",
      "  \"the number of iterations.\", ConvergenceWarning)\n"
     ]
    },
    {
     "name": "stdout",
     "output_type": "stream",
     "text": [
      "[CV]  lr__class_weight=balanced, lr__dual=False, lr__penalty=l1, lr__solver=liblinear, total=  29.3s\n",
      "[CV] lr__class_weight=balanced, lr__dual=False, lr__penalty=l1, lr__solver=liblinear \n"
     ]
    },
    {
     "name": "stderr",
     "output_type": "stream",
     "text": [
      "/Users/brandongreenspan/opt/anaconda3/envs/dsi/lib/python3.7/site-packages/sklearn/svm/_base.py:947: ConvergenceWarning: Liblinear failed to converge, increase the number of iterations.\n",
      "  \"the number of iterations.\", ConvergenceWarning)\n"
     ]
    },
    {
     "name": "stdout",
     "output_type": "stream",
     "text": [
      "[CV]  lr__class_weight=balanced, lr__dual=False, lr__penalty=l1, lr__solver=liblinear, total=  35.4s\n",
      "[CV] lr__class_weight=balanced, lr__dual=False, lr__penalty=l1, lr__solver=liblinear \n"
     ]
    },
    {
     "name": "stderr",
     "output_type": "stream",
     "text": [
      "/Users/brandongreenspan/opt/anaconda3/envs/dsi/lib/python3.7/site-packages/sklearn/svm/_base.py:947: ConvergenceWarning: Liblinear failed to converge, increase the number of iterations.\n",
      "  \"the number of iterations.\", ConvergenceWarning)\n"
     ]
    },
    {
     "name": "stdout",
     "output_type": "stream",
     "text": [
      "[CV]  lr__class_weight=balanced, lr__dual=False, lr__penalty=l1, lr__solver=liblinear, total=  41.9s\n",
      "[CV] lr__class_weight=balanced, lr__dual=False, lr__penalty=l1, lr__solver=liblinear \n"
     ]
    },
    {
     "name": "stderr",
     "output_type": "stream",
     "text": [
      "/Users/brandongreenspan/opt/anaconda3/envs/dsi/lib/python3.7/site-packages/sklearn/svm/_base.py:947: ConvergenceWarning: Liblinear failed to converge, increase the number of iterations.\n",
      "  \"the number of iterations.\", ConvergenceWarning)\n",
      "/Users/brandongreenspan/opt/anaconda3/envs/dsi/lib/python3.7/site-packages/sklearn/model_selection/_validation.py:536: FitFailedWarning: Estimator fit failed. The score on this train-test partition for these parameters will be set to nan. Details: \n",
      "ValueError: Solver lbfgs supports only 'l2' or 'none' penalties, got l1 penalty.\n",
      "\n",
      "  FitFailedWarning)\n",
      "/Users/brandongreenspan/opt/anaconda3/envs/dsi/lib/python3.7/site-packages/sklearn/model_selection/_validation.py:536: FitFailedWarning: Estimator fit failed. The score on this train-test partition for these parameters will be set to nan. Details: \n",
      "ValueError: Logistic Regression supports only solvers in ['liblinear', 'newton-cg', 'lbfgs', 'sag', 'saga'], got None.\n",
      "\n",
      "  FitFailedWarning)\n"
     ]
    },
    {
     "name": "stdout",
     "output_type": "stream",
     "text": [
      "[CV]  lr__class_weight=balanced, lr__dual=False, lr__penalty=l1, lr__solver=liblinear, total= 5.3min\n",
      "[CV] lr__class_weight=balanced, lr__dual=False, lr__penalty=l1, lr__solver=lbfgs \n",
      "[CV]  lr__class_weight=balanced, lr__dual=False, lr__penalty=l1, lr__solver=lbfgs, total=   0.0s\n",
      "[CV] lr__class_weight=balanced, lr__dual=False, lr__penalty=l1, lr__solver=lbfgs \n",
      "[CV]  lr__class_weight=balanced, lr__dual=False, lr__penalty=l1, lr__solver=lbfgs, total=   0.0s\n",
      "[CV] lr__class_weight=balanced, lr__dual=False, lr__penalty=l1, lr__solver=lbfgs \n",
      "[CV]  lr__class_weight=balanced, lr__dual=False, lr__penalty=l1, lr__solver=lbfgs, total=   0.0s\n",
      "[CV] lr__class_weight=balanced, lr__dual=False, lr__penalty=l1, lr__solver=lbfgs \n",
      "[CV]  lr__class_weight=balanced, lr__dual=False, lr__penalty=l1, lr__solver=lbfgs, total=   0.0s\n",
      "[CV] lr__class_weight=balanced, lr__dual=False, lr__penalty=l1, lr__solver=lbfgs \n",
      "[CV]  lr__class_weight=balanced, lr__dual=False, lr__penalty=l1, lr__solver=lbfgs, total=   0.0s\n",
      "[CV] lr__class_weight=balanced, lr__dual=False, lr__penalty=l1, lr__solver=None \n",
      "[CV]  lr__class_weight=balanced, lr__dual=False, lr__penalty=l1, lr__solver=None, total=   0.0s\n",
      "[CV] lr__class_weight=balanced, lr__dual=False, lr__penalty=l1, lr__solver=None \n",
      "[CV]  lr__class_weight=balanced, lr__dual=False, lr__penalty=l1, lr__solver=None, total=   0.0s\n",
      "[CV] lr__class_weight=balanced, lr__dual=False, lr__penalty=l1, lr__solver=None \n",
      "[CV]  lr__class_weight=balanced, lr__dual=False, lr__penalty=l1, lr__solver=None, total=   0.0s\n",
      "[CV] lr__class_weight=balanced, lr__dual=False, lr__penalty=l1, lr__solver=None \n",
      "[CV]  lr__class_weight=balanced, lr__dual=False, lr__penalty=l1, lr__solver=None, total=   0.0s\n",
      "[CV] lr__class_weight=balanced, lr__dual=False, lr__penalty=l1, lr__solver=None \n",
      "[CV]  lr__class_weight=balanced, lr__dual=False, lr__penalty=l1, lr__solver=None, total=   0.0s\n",
      "[CV] lr__class_weight=balanced, lr__dual=False, lr__penalty=l2, lr__solver=liblinear \n",
      "[CV]  lr__class_weight=balanced, lr__dual=False, lr__penalty=l2, lr__solver=liblinear, total=   1.8s\n",
      "[CV] lr__class_weight=balanced, lr__dual=False, lr__penalty=l2, lr__solver=liblinear \n",
      "[CV]  lr__class_weight=balanced, lr__dual=False, lr__penalty=l2, lr__solver=liblinear, total=   1.5s\n",
      "[CV] lr__class_weight=balanced, lr__dual=False, lr__penalty=l2, lr__solver=liblinear \n",
      "[CV]  lr__class_weight=balanced, lr__dual=False, lr__penalty=l2, lr__solver=liblinear, total=   2.9s\n",
      "[CV] lr__class_weight=balanced, lr__dual=False, lr__penalty=l2, lr__solver=liblinear \n",
      "[CV]  lr__class_weight=balanced, lr__dual=False, lr__penalty=l2, lr__solver=liblinear, total=   1.5s\n",
      "[CV] lr__class_weight=balanced, lr__dual=False, lr__penalty=l2, lr__solver=liblinear \n",
      "[CV]  lr__class_weight=balanced, lr__dual=False, lr__penalty=l2, lr__solver=liblinear, total=   2.2s\n",
      "[CV] lr__class_weight=balanced, lr__dual=False, lr__penalty=l2, lr__solver=lbfgs \n",
      "[CV]  lr__class_weight=balanced, lr__dual=False, lr__penalty=l2, lr__solver=lbfgs, total=   0.2s\n",
      "[CV] lr__class_weight=balanced, lr__dual=False, lr__penalty=l2, lr__solver=lbfgs \n"
     ]
    },
    {
     "name": "stderr",
     "output_type": "stream",
     "text": [
      "/Users/brandongreenspan/opt/anaconda3/envs/dsi/lib/python3.7/site-packages/sklearn/linear_model/_logistic.py:940: ConvergenceWarning: lbfgs failed to converge (status=1):\n",
      "STOP: TOTAL NO. of ITERATIONS REACHED LIMIT.\n",
      "\n",
      "Increase the number of iterations (max_iter) or scale the data as shown in:\n",
      "    https://scikit-learn.org/stable/modules/preprocessing.html\n",
      "Please also refer to the documentation for alternative solver options:\n",
      "    https://scikit-learn.org/stable/modules/linear_model.html#logistic-regression\n",
      "  extra_warning_msg=_LOGISTIC_SOLVER_CONVERGENCE_MSG)\n",
      "/Users/brandongreenspan/opt/anaconda3/envs/dsi/lib/python3.7/site-packages/sklearn/linear_model/_logistic.py:940: ConvergenceWarning: lbfgs failed to converge (status=1):\n",
      "STOP: TOTAL NO. of ITERATIONS REACHED LIMIT.\n",
      "\n",
      "Increase the number of iterations (max_iter) or scale the data as shown in:\n",
      "    https://scikit-learn.org/stable/modules/preprocessing.html\n",
      "Please also refer to the documentation for alternative solver options:\n",
      "    https://scikit-learn.org/stable/modules/linear_model.html#logistic-regression\n",
      "  extra_warning_msg=_LOGISTIC_SOLVER_CONVERGENCE_MSG)\n"
     ]
    },
    {
     "name": "stdout",
     "output_type": "stream",
     "text": [
      "[CV]  lr__class_weight=balanced, lr__dual=False, lr__penalty=l2, lr__solver=lbfgs, total=   0.2s\n",
      "[CV] lr__class_weight=balanced, lr__dual=False, lr__penalty=l2, lr__solver=lbfgs \n"
     ]
    },
    {
     "name": "stderr",
     "output_type": "stream",
     "text": [
      "/Users/brandongreenspan/opt/anaconda3/envs/dsi/lib/python3.7/site-packages/sklearn/linear_model/_logistic.py:940: ConvergenceWarning: lbfgs failed to converge (status=1):\n",
      "STOP: TOTAL NO. of ITERATIONS REACHED LIMIT.\n",
      "\n",
      "Increase the number of iterations (max_iter) or scale the data as shown in:\n",
      "    https://scikit-learn.org/stable/modules/preprocessing.html\n",
      "Please also refer to the documentation for alternative solver options:\n",
      "    https://scikit-learn.org/stable/modules/linear_model.html#logistic-regression\n",
      "  extra_warning_msg=_LOGISTIC_SOLVER_CONVERGENCE_MSG)\n"
     ]
    },
    {
     "name": "stdout",
     "output_type": "stream",
     "text": [
      "[CV]  lr__class_weight=balanced, lr__dual=False, lr__penalty=l2, lr__solver=lbfgs, total=   0.2s\n",
      "[CV] lr__class_weight=balanced, lr__dual=False, lr__penalty=l2, lr__solver=lbfgs \n"
     ]
    },
    {
     "name": "stderr",
     "output_type": "stream",
     "text": [
      "/Users/brandongreenspan/opt/anaconda3/envs/dsi/lib/python3.7/site-packages/sklearn/linear_model/_logistic.py:940: ConvergenceWarning: lbfgs failed to converge (status=1):\n",
      "STOP: TOTAL NO. of ITERATIONS REACHED LIMIT.\n",
      "\n",
      "Increase the number of iterations (max_iter) or scale the data as shown in:\n",
      "    https://scikit-learn.org/stable/modules/preprocessing.html\n",
      "Please also refer to the documentation for alternative solver options:\n",
      "    https://scikit-learn.org/stable/modules/linear_model.html#logistic-regression\n",
      "  extra_warning_msg=_LOGISTIC_SOLVER_CONVERGENCE_MSG)\n"
     ]
    },
    {
     "name": "stdout",
     "output_type": "stream",
     "text": [
      "[CV]  lr__class_weight=balanced, lr__dual=False, lr__penalty=l2, lr__solver=lbfgs, total=   0.3s\n",
      "[CV] lr__class_weight=balanced, lr__dual=False, lr__penalty=l2, lr__solver=lbfgs \n"
     ]
    },
    {
     "name": "stderr",
     "output_type": "stream",
     "text": [
      "/Users/brandongreenspan/opt/anaconda3/envs/dsi/lib/python3.7/site-packages/sklearn/linear_model/_logistic.py:940: ConvergenceWarning: lbfgs failed to converge (status=1):\n",
      "STOP: TOTAL NO. of ITERATIONS REACHED LIMIT.\n",
      "\n",
      "Increase the number of iterations (max_iter) or scale the data as shown in:\n",
      "    https://scikit-learn.org/stable/modules/preprocessing.html\n",
      "Please also refer to the documentation for alternative solver options:\n",
      "    https://scikit-learn.org/stable/modules/linear_model.html#logistic-regression\n",
      "  extra_warning_msg=_LOGISTIC_SOLVER_CONVERGENCE_MSG)\n",
      "/Users/brandongreenspan/opt/anaconda3/envs/dsi/lib/python3.7/site-packages/sklearn/model_selection/_validation.py:536: FitFailedWarning: Estimator fit failed. The score on this train-test partition for these parameters will be set to nan. Details: \n",
      "ValueError: Logistic Regression supports only solvers in ['liblinear', 'newton-cg', 'lbfgs', 'sag', 'saga'], got None.\n",
      "\n",
      "  FitFailedWarning)\n",
      "/Users/brandongreenspan/opt/anaconda3/envs/dsi/lib/python3.7/site-packages/sklearn/model_selection/_validation.py:536: FitFailedWarning: Estimator fit failed. The score on this train-test partition for these parameters will be set to nan. Details: \n",
      "ValueError: penalty='none' is not supported for the liblinear solver\n",
      "\n",
      "  FitFailedWarning)\n"
     ]
    },
    {
     "name": "stdout",
     "output_type": "stream",
     "text": [
      "[CV]  lr__class_weight=balanced, lr__dual=False, lr__penalty=l2, lr__solver=lbfgs, total=   0.3s\n",
      "[CV] lr__class_weight=balanced, lr__dual=False, lr__penalty=l2, lr__solver=None \n",
      "[CV]  lr__class_weight=balanced, lr__dual=False, lr__penalty=l2, lr__solver=None, total=   0.0s\n",
      "[CV] lr__class_weight=balanced, lr__dual=False, lr__penalty=l2, lr__solver=None \n",
      "[CV]  lr__class_weight=balanced, lr__dual=False, lr__penalty=l2, lr__solver=None, total=   0.0s\n",
      "[CV] lr__class_weight=balanced, lr__dual=False, lr__penalty=l2, lr__solver=None \n",
      "[CV]  lr__class_weight=balanced, lr__dual=False, lr__penalty=l2, lr__solver=None, total=   0.0s\n",
      "[CV] lr__class_weight=balanced, lr__dual=False, lr__penalty=l2, lr__solver=None \n",
      "[CV]  lr__class_weight=balanced, lr__dual=False, lr__penalty=l2, lr__solver=None, total=   0.0s\n",
      "[CV] lr__class_weight=balanced, lr__dual=False, lr__penalty=l2, lr__solver=None \n",
      "[CV]  lr__class_weight=balanced, lr__dual=False, lr__penalty=l2, lr__solver=None, total=   0.0s\n",
      "[CV] lr__class_weight=balanced, lr__dual=False, lr__penalty=none, lr__solver=liblinear \n",
      "[CV]  lr__class_weight=balanced, lr__dual=False, lr__penalty=none, lr__solver=liblinear, total=   0.0s\n",
      "[CV] lr__class_weight=balanced, lr__dual=False, lr__penalty=none, lr__solver=liblinear \n",
      "[CV]  lr__class_weight=balanced, lr__dual=False, lr__penalty=none, lr__solver=liblinear, total=   0.0s\n",
      "[CV] lr__class_weight=balanced, lr__dual=False, lr__penalty=none, lr__solver=liblinear \n",
      "[CV]  lr__class_weight=balanced, lr__dual=False, lr__penalty=none, lr__solver=liblinear, total=   0.0s\n",
      "[CV] lr__class_weight=balanced, lr__dual=False, lr__penalty=none, lr__solver=liblinear \n",
      "[CV]  lr__class_weight=balanced, lr__dual=False, lr__penalty=none, lr__solver=liblinear, total=   0.0s\n",
      "[CV] lr__class_weight=balanced, lr__dual=False, lr__penalty=none, lr__solver=liblinear \n",
      "[CV]  lr__class_weight=balanced, lr__dual=False, lr__penalty=none, lr__solver=liblinear, total=   0.0s\n",
      "[CV] lr__class_weight=balanced, lr__dual=False, lr__penalty=none, lr__solver=lbfgs \n"
     ]
    },
    {
     "name": "stderr",
     "output_type": "stream",
     "text": [
      "/Users/brandongreenspan/opt/anaconda3/envs/dsi/lib/python3.7/site-packages/sklearn/linear_model/_logistic.py:940: ConvergenceWarning: lbfgs failed to converge (status=1):\n",
      "STOP: TOTAL NO. of ITERATIONS REACHED LIMIT.\n",
      "\n",
      "Increase the number of iterations (max_iter) or scale the data as shown in:\n",
      "    https://scikit-learn.org/stable/modules/preprocessing.html\n",
      "Please also refer to the documentation for alternative solver options:\n",
      "    https://scikit-learn.org/stable/modules/linear_model.html#logistic-regression\n",
      "  extra_warning_msg=_LOGISTIC_SOLVER_CONVERGENCE_MSG)\n"
     ]
    },
    {
     "name": "stdout",
     "output_type": "stream",
     "text": [
      "[CV]  lr__class_weight=balanced, lr__dual=False, lr__penalty=none, lr__solver=lbfgs, total=   0.3s\n",
      "[CV] lr__class_weight=balanced, lr__dual=False, lr__penalty=none, lr__solver=lbfgs \n"
     ]
    },
    {
     "name": "stderr",
     "output_type": "stream",
     "text": [
      "/Users/brandongreenspan/opt/anaconda3/envs/dsi/lib/python3.7/site-packages/sklearn/linear_model/_logistic.py:940: ConvergenceWarning: lbfgs failed to converge (status=1):\n",
      "STOP: TOTAL NO. of ITERATIONS REACHED LIMIT.\n",
      "\n",
      "Increase the number of iterations (max_iter) or scale the data as shown in:\n",
      "    https://scikit-learn.org/stable/modules/preprocessing.html\n",
      "Please also refer to the documentation for alternative solver options:\n",
      "    https://scikit-learn.org/stable/modules/linear_model.html#logistic-regression\n",
      "  extra_warning_msg=_LOGISTIC_SOLVER_CONVERGENCE_MSG)\n"
     ]
    },
    {
     "name": "stdout",
     "output_type": "stream",
     "text": [
      "[CV]  lr__class_weight=balanced, lr__dual=False, lr__penalty=none, lr__solver=lbfgs, total=   0.3s\n",
      "[CV] lr__class_weight=balanced, lr__dual=False, lr__penalty=none, lr__solver=lbfgs \n"
     ]
    },
    {
     "name": "stderr",
     "output_type": "stream",
     "text": [
      "/Users/brandongreenspan/opt/anaconda3/envs/dsi/lib/python3.7/site-packages/sklearn/linear_model/_logistic.py:940: ConvergenceWarning: lbfgs failed to converge (status=1):\n",
      "STOP: TOTAL NO. of ITERATIONS REACHED LIMIT.\n",
      "\n",
      "Increase the number of iterations (max_iter) or scale the data as shown in:\n",
      "    https://scikit-learn.org/stable/modules/preprocessing.html\n",
      "Please also refer to the documentation for alternative solver options:\n",
      "    https://scikit-learn.org/stable/modules/linear_model.html#logistic-regression\n",
      "  extra_warning_msg=_LOGISTIC_SOLVER_CONVERGENCE_MSG)\n"
     ]
    },
    {
     "name": "stdout",
     "output_type": "stream",
     "text": [
      "[CV]  lr__class_weight=balanced, lr__dual=False, lr__penalty=none, lr__solver=lbfgs, total=   0.3s\n",
      "[CV] lr__class_weight=balanced, lr__dual=False, lr__penalty=none, lr__solver=lbfgs \n"
     ]
    },
    {
     "name": "stderr",
     "output_type": "stream",
     "text": [
      "/Users/brandongreenspan/opt/anaconda3/envs/dsi/lib/python3.7/site-packages/sklearn/linear_model/_logistic.py:940: ConvergenceWarning: lbfgs failed to converge (status=1):\n",
      "STOP: TOTAL NO. of ITERATIONS REACHED LIMIT.\n",
      "\n",
      "Increase the number of iterations (max_iter) or scale the data as shown in:\n",
      "    https://scikit-learn.org/stable/modules/preprocessing.html\n",
      "Please also refer to the documentation for alternative solver options:\n",
      "    https://scikit-learn.org/stable/modules/linear_model.html#logistic-regression\n",
      "  extra_warning_msg=_LOGISTIC_SOLVER_CONVERGENCE_MSG)\n"
     ]
    },
    {
     "name": "stdout",
     "output_type": "stream",
     "text": [
      "[CV]  lr__class_weight=balanced, lr__dual=False, lr__penalty=none, lr__solver=lbfgs, total=   0.4s\n",
      "[CV] lr__class_weight=balanced, lr__dual=False, lr__penalty=none, lr__solver=lbfgs \n"
     ]
    },
    {
     "name": "stderr",
     "output_type": "stream",
     "text": [
      "/Users/brandongreenspan/opt/anaconda3/envs/dsi/lib/python3.7/site-packages/sklearn/linear_model/_logistic.py:940: ConvergenceWarning: lbfgs failed to converge (status=1):\n",
      "STOP: TOTAL NO. of ITERATIONS REACHED LIMIT.\n",
      "\n",
      "Increase the number of iterations (max_iter) or scale the data as shown in:\n",
      "    https://scikit-learn.org/stable/modules/preprocessing.html\n",
      "Please also refer to the documentation for alternative solver options:\n",
      "    https://scikit-learn.org/stable/modules/linear_model.html#logistic-regression\n",
      "  extra_warning_msg=_LOGISTIC_SOLVER_CONVERGENCE_MSG)\n",
      "/Users/brandongreenspan/opt/anaconda3/envs/dsi/lib/python3.7/site-packages/sklearn/model_selection/_validation.py:536: FitFailedWarning: Estimator fit failed. The score on this train-test partition for these parameters will be set to nan. Details: \n",
      "ValueError: Logistic Regression supports only solvers in ['liblinear', 'newton-cg', 'lbfgs', 'sag', 'saga'], got None.\n",
      "\n",
      "  FitFailedWarning)\n",
      "/Users/brandongreenspan/opt/anaconda3/envs/dsi/lib/python3.7/site-packages/sklearn/model_selection/_validation.py:536: FitFailedWarning: Estimator fit failed. The score on this train-test partition for these parameters will be set to nan. Details: \n",
      "ValueError: Unsupported set of arguments: The combination of penalty='l1' and loss='logistic_regression' are not supported when dual=True, Parameters: penalty='l1', loss='logistic_regression', dual=True\n",
      "\n",
      "  FitFailedWarning)\n",
      "/Users/brandongreenspan/opt/anaconda3/envs/dsi/lib/python3.7/site-packages/sklearn/model_selection/_validation.py:536: FitFailedWarning: Estimator fit failed. The score on this train-test partition for these parameters will be set to nan. Details: \n",
      "ValueError: Unsupported set of arguments: The combination of penalty='l1' and loss='logistic_regression' are not supported when dual=True, Parameters: penalty='l1', loss='logistic_regression', dual=True\n",
      "\n",
      "  FitFailedWarning)\n",
      "/Users/brandongreenspan/opt/anaconda3/envs/dsi/lib/python3.7/site-packages/sklearn/model_selection/_validation.py:536: FitFailedWarning: Estimator fit failed. The score on this train-test partition for these parameters will be set to nan. Details: \n",
      "ValueError: Unsupported set of arguments: The combination of penalty='l1' and loss='logistic_regression' are not supported when dual=True, Parameters: penalty='l1', loss='logistic_regression', dual=True\n",
      "\n",
      "  FitFailedWarning)\n",
      "/Users/brandongreenspan/opt/anaconda3/envs/dsi/lib/python3.7/site-packages/sklearn/model_selection/_validation.py:536: FitFailedWarning: Estimator fit failed. The score on this train-test partition for these parameters will be set to nan. Details: \n",
      "ValueError: Unsupported set of arguments: The combination of penalty='l1' and loss='logistic_regression' are not supported when dual=True, Parameters: penalty='l1', loss='logistic_regression', dual=True\n",
      "\n",
      "  FitFailedWarning)\n",
      "/Users/brandongreenspan/opt/anaconda3/envs/dsi/lib/python3.7/site-packages/sklearn/model_selection/_validation.py:536: FitFailedWarning: Estimator fit failed. The score on this train-test partition for these parameters will be set to nan. Details: \n",
      "ValueError: Unsupported set of arguments: The combination of penalty='l1' and loss='logistic_regression' are not supported when dual=True, Parameters: penalty='l1', loss='logistic_regression', dual=True\n",
      "\n",
      "  FitFailedWarning)\n",
      "/Users/brandongreenspan/opt/anaconda3/envs/dsi/lib/python3.7/site-packages/sklearn/model_selection/_validation.py:536: FitFailedWarning: Estimator fit failed. The score on this train-test partition for these parameters will be set to nan. Details: \n",
      "ValueError: Solver lbfgs supports only 'l2' or 'none' penalties, got l1 penalty.\n",
      "\n",
      "  FitFailedWarning)\n",
      "/Users/brandongreenspan/opt/anaconda3/envs/dsi/lib/python3.7/site-packages/sklearn/model_selection/_validation.py:536: FitFailedWarning: Estimator fit failed. The score on this train-test partition for these parameters will be set to nan. Details: \n",
      "ValueError: Logistic Regression supports only solvers in ['liblinear', 'newton-cg', 'lbfgs', 'sag', 'saga'], got None.\n",
      "\n",
      "  FitFailedWarning)\n"
     ]
    },
    {
     "name": "stdout",
     "output_type": "stream",
     "text": [
      "[CV]  lr__class_weight=balanced, lr__dual=False, lr__penalty=none, lr__solver=lbfgs, total=   0.2s\n",
      "[CV] lr__class_weight=balanced, lr__dual=False, lr__penalty=none, lr__solver=None \n",
      "[CV]  lr__class_weight=balanced, lr__dual=False, lr__penalty=none, lr__solver=None, total=   0.0s\n",
      "[CV] lr__class_weight=balanced, lr__dual=False, lr__penalty=none, lr__solver=None \n",
      "[CV]  lr__class_weight=balanced, lr__dual=False, lr__penalty=none, lr__solver=None, total=   0.0s\n",
      "[CV] lr__class_weight=balanced, lr__dual=False, lr__penalty=none, lr__solver=None \n",
      "[CV]  lr__class_weight=balanced, lr__dual=False, lr__penalty=none, lr__solver=None, total=   0.0s\n",
      "[CV] lr__class_weight=balanced, lr__dual=False, lr__penalty=none, lr__solver=None \n",
      "[CV]  lr__class_weight=balanced, lr__dual=False, lr__penalty=none, lr__solver=None, total=   0.0s\n",
      "[CV] lr__class_weight=balanced, lr__dual=False, lr__penalty=none, lr__solver=None \n",
      "[CV]  lr__class_weight=balanced, lr__dual=False, lr__penalty=none, lr__solver=None, total=   0.0s\n",
      "[CV] lr__class_weight=None, lr__dual=True, lr__penalty=l1, lr__solver=liblinear \n",
      "[CV]  lr__class_weight=None, lr__dual=True, lr__penalty=l1, lr__solver=liblinear, total=   0.0s\n",
      "[CV] lr__class_weight=None, lr__dual=True, lr__penalty=l1, lr__solver=liblinear \n",
      "[CV]  lr__class_weight=None, lr__dual=True, lr__penalty=l1, lr__solver=liblinear, total=   0.0s\n",
      "[CV] lr__class_weight=None, lr__dual=True, lr__penalty=l1, lr__solver=liblinear \n",
      "[CV]  lr__class_weight=None, lr__dual=True, lr__penalty=l1, lr__solver=liblinear, total=   0.0s\n",
      "[CV] lr__class_weight=None, lr__dual=True, lr__penalty=l1, lr__solver=liblinear \n",
      "[CV]  lr__class_weight=None, lr__dual=True, lr__penalty=l1, lr__solver=liblinear, total=   0.0s\n",
      "[CV] lr__class_weight=None, lr__dual=True, lr__penalty=l1, lr__solver=liblinear \n",
      "[CV]  lr__class_weight=None, lr__dual=True, lr__penalty=l1, lr__solver=liblinear, total=   0.0s\n",
      "[CV] lr__class_weight=None, lr__dual=True, lr__penalty=l1, lr__solver=lbfgs \n",
      "[CV]  lr__class_weight=None, lr__dual=True, lr__penalty=l1, lr__solver=lbfgs, total=   0.0s\n",
      "[CV] lr__class_weight=None, lr__dual=True, lr__penalty=l1, lr__solver=lbfgs \n",
      "[CV]  lr__class_weight=None, lr__dual=True, lr__penalty=l1, lr__solver=lbfgs, total=   0.0s\n",
      "[CV] lr__class_weight=None, lr__dual=True, lr__penalty=l1, lr__solver=lbfgs \n",
      "[CV]  lr__class_weight=None, lr__dual=True, lr__penalty=l1, lr__solver=lbfgs, total=   0.0s\n",
      "[CV] lr__class_weight=None, lr__dual=True, lr__penalty=l1, lr__solver=lbfgs \n",
      "[CV]  lr__class_weight=None, lr__dual=True, lr__penalty=l1, lr__solver=lbfgs, total=   0.0s\n",
      "[CV] lr__class_weight=None, lr__dual=True, lr__penalty=l1, lr__solver=lbfgs \n",
      "[CV]  lr__class_weight=None, lr__dual=True, lr__penalty=l1, lr__solver=lbfgs, total=   0.0s\n",
      "[CV] lr__class_weight=None, lr__dual=True, lr__penalty=l1, lr__solver=None \n",
      "[CV]  lr__class_weight=None, lr__dual=True, lr__penalty=l1, lr__solver=None, total=   0.0s\n",
      "[CV] lr__class_weight=None, lr__dual=True, lr__penalty=l1, lr__solver=None \n",
      "[CV]  lr__class_weight=None, lr__dual=True, lr__penalty=l1, lr__solver=None, total=   0.0s\n",
      "[CV] lr__class_weight=None, lr__dual=True, lr__penalty=l1, lr__solver=None \n",
      "[CV]  lr__class_weight=None, lr__dual=True, lr__penalty=l1, lr__solver=None, total=   0.0s\n",
      "[CV] lr__class_weight=None, lr__dual=True, lr__penalty=l1, lr__solver=None \n",
      "[CV]  lr__class_weight=None, lr__dual=True, lr__penalty=l1, lr__solver=None, total=   0.0s\n",
      "[CV] lr__class_weight=None, lr__dual=True, lr__penalty=l1, lr__solver=None \n",
      "[CV]  lr__class_weight=None, lr__dual=True, lr__penalty=l1, lr__solver=None, total=   0.0s\n",
      "[CV] lr__class_weight=None, lr__dual=True, lr__penalty=l2, lr__solver=liblinear \n"
     ]
    },
    {
     "name": "stderr",
     "output_type": "stream",
     "text": [
      "/Users/brandongreenspan/opt/anaconda3/envs/dsi/lib/python3.7/site-packages/sklearn/svm/_base.py:947: ConvergenceWarning: Liblinear failed to converge, increase the number of iterations.\n",
      "  \"the number of iterations.\", ConvergenceWarning)\n"
     ]
    },
    {
     "name": "stdout",
     "output_type": "stream",
     "text": [
      "[CV]  lr__class_weight=None, lr__dual=True, lr__penalty=l2, lr__solver=liblinear, total=   0.5s\n",
      "[CV] lr__class_weight=None, lr__dual=True, lr__penalty=l2, lr__solver=liblinear \n"
     ]
    },
    {
     "name": "stderr",
     "output_type": "stream",
     "text": [
      "/Users/brandongreenspan/opt/anaconda3/envs/dsi/lib/python3.7/site-packages/sklearn/svm/_base.py:947: ConvergenceWarning: Liblinear failed to converge, increase the number of iterations.\n",
      "  \"the number of iterations.\", ConvergenceWarning)\n"
     ]
    },
    {
     "name": "stdout",
     "output_type": "stream",
     "text": [
      "[CV]  lr__class_weight=None, lr__dual=True, lr__penalty=l2, lr__solver=liblinear, total=   0.6s\n",
      "[CV] lr__class_weight=None, lr__dual=True, lr__penalty=l2, lr__solver=liblinear \n"
     ]
    },
    {
     "name": "stderr",
     "output_type": "stream",
     "text": [
      "/Users/brandongreenspan/opt/anaconda3/envs/dsi/lib/python3.7/site-packages/sklearn/svm/_base.py:947: ConvergenceWarning: Liblinear failed to converge, increase the number of iterations.\n",
      "  \"the number of iterations.\", ConvergenceWarning)\n"
     ]
    },
    {
     "name": "stdout",
     "output_type": "stream",
     "text": [
      "[CV]  lr__class_weight=None, lr__dual=True, lr__penalty=l2, lr__solver=liblinear, total=   0.6s\n",
      "[CV] lr__class_weight=None, lr__dual=True, lr__penalty=l2, lr__solver=liblinear \n"
     ]
    },
    {
     "name": "stderr",
     "output_type": "stream",
     "text": [
      "/Users/brandongreenspan/opt/anaconda3/envs/dsi/lib/python3.7/site-packages/sklearn/svm/_base.py:947: ConvergenceWarning: Liblinear failed to converge, increase the number of iterations.\n",
      "  \"the number of iterations.\", ConvergenceWarning)\n"
     ]
    },
    {
     "name": "stdout",
     "output_type": "stream",
     "text": [
      "[CV]  lr__class_weight=None, lr__dual=True, lr__penalty=l2, lr__solver=liblinear, total=   0.5s\n",
      "[CV] lr__class_weight=None, lr__dual=True, lr__penalty=l2, lr__solver=liblinear \n"
     ]
    },
    {
     "name": "stderr",
     "output_type": "stream",
     "text": [
      "/Users/brandongreenspan/opt/anaconda3/envs/dsi/lib/python3.7/site-packages/sklearn/svm/_base.py:947: ConvergenceWarning: Liblinear failed to converge, increase the number of iterations.\n",
      "  \"the number of iterations.\", ConvergenceWarning)\n",
      "/Users/brandongreenspan/opt/anaconda3/envs/dsi/lib/python3.7/site-packages/sklearn/model_selection/_validation.py:536: FitFailedWarning: Estimator fit failed. The score on this train-test partition for these parameters will be set to nan. Details: \n",
      "ValueError: Solver lbfgs supports only dual=False, got dual=True\n",
      "\n",
      "  FitFailedWarning)\n",
      "/Users/brandongreenspan/opt/anaconda3/envs/dsi/lib/python3.7/site-packages/sklearn/model_selection/_validation.py:536: FitFailedWarning: Estimator fit failed. The score on this train-test partition for these parameters will be set to nan. Details: \n",
      "ValueError: Logistic Regression supports only solvers in ['liblinear', 'newton-cg', 'lbfgs', 'sag', 'saga'], got None.\n",
      "\n",
      "  FitFailedWarning)\n",
      "/Users/brandongreenspan/opt/anaconda3/envs/dsi/lib/python3.7/site-packages/sklearn/model_selection/_validation.py:536: FitFailedWarning: Estimator fit failed. The score on this train-test partition for these parameters will be set to nan. Details: \n",
      "ValueError: penalty='none' is not supported for the liblinear solver\n",
      "\n",
      "  FitFailedWarning)\n"
     ]
    },
    {
     "name": "stdout",
     "output_type": "stream",
     "text": [
      "[CV]  lr__class_weight=None, lr__dual=True, lr__penalty=l2, lr__solver=liblinear, total=   0.6s\n",
      "[CV] lr__class_weight=None, lr__dual=True, lr__penalty=l2, lr__solver=lbfgs \n",
      "[CV]  lr__class_weight=None, lr__dual=True, lr__penalty=l2, lr__solver=lbfgs, total=   0.0s\n",
      "[CV] lr__class_weight=None, lr__dual=True, lr__penalty=l2, lr__solver=lbfgs \n",
      "[CV]  lr__class_weight=None, lr__dual=True, lr__penalty=l2, lr__solver=lbfgs, total=   0.0s\n",
      "[CV] lr__class_weight=None, lr__dual=True, lr__penalty=l2, lr__solver=lbfgs \n",
      "[CV]  lr__class_weight=None, lr__dual=True, lr__penalty=l2, lr__solver=lbfgs, total=   0.0s\n",
      "[CV] lr__class_weight=None, lr__dual=True, lr__penalty=l2, lr__solver=lbfgs \n",
      "[CV]  lr__class_weight=None, lr__dual=True, lr__penalty=l2, lr__solver=lbfgs, total=   0.0s\n",
      "[CV] lr__class_weight=None, lr__dual=True, lr__penalty=l2, lr__solver=lbfgs \n",
      "[CV]  lr__class_weight=None, lr__dual=True, lr__penalty=l2, lr__solver=lbfgs, total=   0.0s\n",
      "[CV] lr__class_weight=None, lr__dual=True, lr__penalty=l2, lr__solver=None \n",
      "[CV]  lr__class_weight=None, lr__dual=True, lr__penalty=l2, lr__solver=None, total=   0.0s\n",
      "[CV] lr__class_weight=None, lr__dual=True, lr__penalty=l2, lr__solver=None \n",
      "[CV]  lr__class_weight=None, lr__dual=True, lr__penalty=l2, lr__solver=None, total=   0.0s\n",
      "[CV] lr__class_weight=None, lr__dual=True, lr__penalty=l2, lr__solver=None \n",
      "[CV]  lr__class_weight=None, lr__dual=True, lr__penalty=l2, lr__solver=None, total=   0.0s\n",
      "[CV] lr__class_weight=None, lr__dual=True, lr__penalty=l2, lr__solver=None \n",
      "[CV]  lr__class_weight=None, lr__dual=True, lr__penalty=l2, lr__solver=None, total=   0.0s\n",
      "[CV] lr__class_weight=None, lr__dual=True, lr__penalty=l2, lr__solver=None \n",
      "[CV]  lr__class_weight=None, lr__dual=True, lr__penalty=l2, lr__solver=None, total=   0.0s\n",
      "[CV] lr__class_weight=None, lr__dual=True, lr__penalty=none, lr__solver=liblinear \n",
      "[CV]  lr__class_weight=None, lr__dual=True, lr__penalty=none, lr__solver=liblinear, total=   0.0s\n",
      "[CV] lr__class_weight=None, lr__dual=True, lr__penalty=none, lr__solver=liblinear \n",
      "[CV]  lr__class_weight=None, lr__dual=True, lr__penalty=none, lr__solver=liblinear, total=   0.0s\n",
      "[CV] lr__class_weight=None, lr__dual=True, lr__penalty=none, lr__solver=liblinear \n",
      "[CV]  lr__class_weight=None, lr__dual=True, lr__penalty=none, lr__solver=liblinear, total=   0.0s\n",
      "[CV] lr__class_weight=None, lr__dual=True, lr__penalty=none, lr__solver=liblinear \n",
      "[CV]  lr__class_weight=None, lr__dual=True, lr__penalty=none, lr__solver=liblinear, total=   0.0s\n",
      "[CV] lr__class_weight=None, lr__dual=True, lr__penalty=none, lr__solver=liblinear \n",
      "[CV]  lr__class_weight=None, lr__dual=True, lr__penalty=none, lr__solver=liblinear, total=   0.0s\n",
      "[CV] lr__class_weight=None, lr__dual=True, lr__penalty=none, lr__solver=lbfgs \n",
      "[CV]  lr__class_weight=None, lr__dual=True, lr__penalty=none, lr__solver=lbfgs, total=   0.0s\n",
      "[CV] lr__class_weight=None, lr__dual=True, lr__penalty=none, lr__solver=lbfgs \n",
      "[CV]  lr__class_weight=None, lr__dual=True, lr__penalty=none, lr__solver=lbfgs, total=   0.0s\n",
      "[CV] lr__class_weight=None, lr__dual=True, lr__penalty=none, lr__solver=lbfgs \n",
      "[CV]  lr__class_weight=None, lr__dual=True, lr__penalty=none, lr__solver=lbfgs, total=   0.0s\n",
      "[CV] lr__class_weight=None, lr__dual=True, lr__penalty=none, lr__solver=lbfgs \n",
      "[CV]  lr__class_weight=None, lr__dual=True, lr__penalty=none, lr__solver=lbfgs, total=   0.0s\n",
      "[CV] lr__class_weight=None, lr__dual=True, lr__penalty=none, lr__solver=lbfgs \n",
      "[CV]  lr__class_weight=None, lr__dual=True, lr__penalty=none, lr__solver=lbfgs, total=   0.0s\n",
      "[CV] lr__class_weight=None, lr__dual=True, lr__penalty=none, lr__solver=None \n",
      "[CV]  lr__class_weight=None, lr__dual=True, lr__penalty=none, lr__solver=None, total=   0.0s\n",
      "[CV] lr__class_weight=None, lr__dual=True, lr__penalty=none, lr__solver=None \n",
      "[CV]  lr__class_weight=None, lr__dual=True, lr__penalty=none, lr__solver=None, total=   0.0s\n",
      "[CV] lr__class_weight=None, lr__dual=True, lr__penalty=none, lr__solver=None \n",
      "[CV]  lr__class_weight=None, lr__dual=True, lr__penalty=none, lr__solver=None, total=   0.0s\n",
      "[CV] lr__class_weight=None, lr__dual=True, lr__penalty=none, lr__solver=None \n",
      "[CV]  lr__class_weight=None, lr__dual=True, lr__penalty=none, lr__solver=None, total=   0.0s\n",
      "[CV] lr__class_weight=None, lr__dual=True, lr__penalty=none, lr__solver=None \n",
      "[CV]  lr__class_weight=None, lr__dual=True, lr__penalty=none, lr__solver=None, total=   0.0s\n",
      "[CV] lr__class_weight=None, lr__dual=False, lr__penalty=l1, lr__solver=liblinear \n"
     ]
    },
    {
     "name": "stderr",
     "output_type": "stream",
     "text": [
      "/Users/brandongreenspan/opt/anaconda3/envs/dsi/lib/python3.7/site-packages/sklearn/svm/_base.py:947: ConvergenceWarning: Liblinear failed to converge, increase the number of iterations.\n",
      "  \"the number of iterations.\", ConvergenceWarning)\n"
     ]
    },
    {
     "name": "stdout",
     "output_type": "stream",
     "text": [
      "[CV]  lr__class_weight=None, lr__dual=False, lr__penalty=l1, lr__solver=liblinear, total=   1.5s\n",
      "[CV] lr__class_weight=None, lr__dual=False, lr__penalty=l1, lr__solver=liblinear \n"
     ]
    },
    {
     "name": "stderr",
     "output_type": "stream",
     "text": [
      "/Users/brandongreenspan/opt/anaconda3/envs/dsi/lib/python3.7/site-packages/sklearn/svm/_base.py:947: ConvergenceWarning: Liblinear failed to converge, increase the number of iterations.\n",
      "  \"the number of iterations.\", ConvergenceWarning)\n"
     ]
    },
    {
     "name": "stdout",
     "output_type": "stream",
     "text": [
      "[CV]  lr__class_weight=None, lr__dual=False, lr__penalty=l1, lr__solver=liblinear, total=   2.2s\n",
      "[CV] lr__class_weight=None, lr__dual=False, lr__penalty=l1, lr__solver=liblinear \n"
     ]
    },
    {
     "name": "stderr",
     "output_type": "stream",
     "text": [
      "/Users/brandongreenspan/opt/anaconda3/envs/dsi/lib/python3.7/site-packages/sklearn/svm/_base.py:947: ConvergenceWarning: Liblinear failed to converge, increase the number of iterations.\n",
      "  \"the number of iterations.\", ConvergenceWarning)\n"
     ]
    },
    {
     "name": "stdout",
     "output_type": "stream",
     "text": [
      "[CV]  lr__class_weight=None, lr__dual=False, lr__penalty=l1, lr__solver=liblinear, total=   1.3s\n",
      "[CV] lr__class_weight=None, lr__dual=False, lr__penalty=l1, lr__solver=liblinear \n"
     ]
    },
    {
     "name": "stderr",
     "output_type": "stream",
     "text": [
      "/Users/brandongreenspan/opt/anaconda3/envs/dsi/lib/python3.7/site-packages/sklearn/svm/_base.py:947: ConvergenceWarning: Liblinear failed to converge, increase the number of iterations.\n",
      "  \"the number of iterations.\", ConvergenceWarning)\n"
     ]
    },
    {
     "name": "stdout",
     "output_type": "stream",
     "text": [
      "[CV]  lr__class_weight=None, lr__dual=False, lr__penalty=l1, lr__solver=liblinear, total=   1.5s\n",
      "[CV] lr__class_weight=None, lr__dual=False, lr__penalty=l1, lr__solver=liblinear \n"
     ]
    },
    {
     "name": "stderr",
     "output_type": "stream",
     "text": [
      "/Users/brandongreenspan/opt/anaconda3/envs/dsi/lib/python3.7/site-packages/sklearn/svm/_base.py:947: ConvergenceWarning: Liblinear failed to converge, increase the number of iterations.\n",
      "  \"the number of iterations.\", ConvergenceWarning)\n",
      "/Users/brandongreenspan/opt/anaconda3/envs/dsi/lib/python3.7/site-packages/sklearn/model_selection/_validation.py:536: FitFailedWarning: Estimator fit failed. The score on this train-test partition for these parameters will be set to nan. Details: \n",
      "ValueError: Solver lbfgs supports only 'l2' or 'none' penalties, got l1 penalty.\n",
      "\n",
      "  FitFailedWarning)\n",
      "/Users/brandongreenspan/opt/anaconda3/envs/dsi/lib/python3.7/site-packages/sklearn/model_selection/_validation.py:536: FitFailedWarning: Estimator fit failed. The score on this train-test partition for these parameters will be set to nan. Details: \n",
      "ValueError: Logistic Regression supports only solvers in ['liblinear', 'newton-cg', 'lbfgs', 'sag', 'saga'], got None.\n",
      "\n",
      "  FitFailedWarning)\n"
     ]
    },
    {
     "name": "stdout",
     "output_type": "stream",
     "text": [
      "[CV]  lr__class_weight=None, lr__dual=False, lr__penalty=l1, lr__solver=liblinear, total=   1.7s\n",
      "[CV] lr__class_weight=None, lr__dual=False, lr__penalty=l1, lr__solver=lbfgs \n",
      "[CV]  lr__class_weight=None, lr__dual=False, lr__penalty=l1, lr__solver=lbfgs, total=   0.0s\n",
      "[CV] lr__class_weight=None, lr__dual=False, lr__penalty=l1, lr__solver=lbfgs \n",
      "[CV]  lr__class_weight=None, lr__dual=False, lr__penalty=l1, lr__solver=lbfgs, total=   0.0s\n",
      "[CV] lr__class_weight=None, lr__dual=False, lr__penalty=l1, lr__solver=lbfgs \n",
      "[CV]  lr__class_weight=None, lr__dual=False, lr__penalty=l1, lr__solver=lbfgs, total=   0.0s\n",
      "[CV] lr__class_weight=None, lr__dual=False, lr__penalty=l1, lr__solver=lbfgs \n",
      "[CV]  lr__class_weight=None, lr__dual=False, lr__penalty=l1, lr__solver=lbfgs, total=   0.0s\n",
      "[CV] lr__class_weight=None, lr__dual=False, lr__penalty=l1, lr__solver=lbfgs \n",
      "[CV]  lr__class_weight=None, lr__dual=False, lr__penalty=l1, lr__solver=lbfgs, total=   0.0s\n",
      "[CV] lr__class_weight=None, lr__dual=False, lr__penalty=l1, lr__solver=None \n",
      "[CV]  lr__class_weight=None, lr__dual=False, lr__penalty=l1, lr__solver=None, total=   0.0s\n",
      "[CV] lr__class_weight=None, lr__dual=False, lr__penalty=l1, lr__solver=None \n",
      "[CV]  lr__class_weight=None, lr__dual=False, lr__penalty=l1, lr__solver=None, total=   0.0s\n",
      "[CV] lr__class_weight=None, lr__dual=False, lr__penalty=l1, lr__solver=None \n",
      "[CV]  lr__class_weight=None, lr__dual=False, lr__penalty=l1, lr__solver=None, total=   0.0s\n",
      "[CV] lr__class_weight=None, lr__dual=False, lr__penalty=l1, lr__solver=None \n",
      "[CV]  lr__class_weight=None, lr__dual=False, lr__penalty=l1, lr__solver=None, total=   0.0s\n",
      "[CV] lr__class_weight=None, lr__dual=False, lr__penalty=l1, lr__solver=None \n",
      "[CV]  lr__class_weight=None, lr__dual=False, lr__penalty=l1, lr__solver=None, total=   0.0s\n",
      "[CV] lr__class_weight=None, lr__dual=False, lr__penalty=l2, lr__solver=liblinear \n",
      "[CV]  lr__class_weight=None, lr__dual=False, lr__penalty=l2, lr__solver=liblinear, total=   1.8s\n",
      "[CV] lr__class_weight=None, lr__dual=False, lr__penalty=l2, lr__solver=liblinear \n",
      "[CV]  lr__class_weight=None, lr__dual=False, lr__penalty=l2, lr__solver=liblinear, total=   0.9s\n",
      "[CV] lr__class_weight=None, lr__dual=False, lr__penalty=l2, lr__solver=liblinear \n",
      "[CV]  lr__class_weight=None, lr__dual=False, lr__penalty=l2, lr__solver=liblinear, total=   1.5s\n",
      "[CV] lr__class_weight=None, lr__dual=False, lr__penalty=l2, lr__solver=liblinear \n",
      "[CV]  lr__class_weight=None, lr__dual=False, lr__penalty=l2, lr__solver=liblinear, total=   1.4s\n",
      "[CV] lr__class_weight=None, lr__dual=False, lr__penalty=l2, lr__solver=liblinear \n",
      "[CV]  lr__class_weight=None, lr__dual=False, lr__penalty=l2, lr__solver=liblinear, total=   1.9s\n",
      "[CV] lr__class_weight=None, lr__dual=False, lr__penalty=l2, lr__solver=lbfgs \n"
     ]
    },
    {
     "name": "stderr",
     "output_type": "stream",
     "text": [
      "/Users/brandongreenspan/opt/anaconda3/envs/dsi/lib/python3.7/site-packages/sklearn/linear_model/_logistic.py:940: ConvergenceWarning: lbfgs failed to converge (status=1):\n",
      "STOP: TOTAL NO. of ITERATIONS REACHED LIMIT.\n",
      "\n",
      "Increase the number of iterations (max_iter) or scale the data as shown in:\n",
      "    https://scikit-learn.org/stable/modules/preprocessing.html\n",
      "Please also refer to the documentation for alternative solver options:\n",
      "    https://scikit-learn.org/stable/modules/linear_model.html#logistic-regression\n",
      "  extra_warning_msg=_LOGISTIC_SOLVER_CONVERGENCE_MSG)\n"
     ]
    },
    {
     "name": "stdout",
     "output_type": "stream",
     "text": [
      "[CV]  lr__class_weight=None, lr__dual=False, lr__penalty=l2, lr__solver=lbfgs, total=   0.4s\n",
      "[CV] lr__class_weight=None, lr__dual=False, lr__penalty=l2, lr__solver=lbfgs \n"
     ]
    },
    {
     "name": "stderr",
     "output_type": "stream",
     "text": [
      "/Users/brandongreenspan/opt/anaconda3/envs/dsi/lib/python3.7/site-packages/sklearn/linear_model/_logistic.py:940: ConvergenceWarning: lbfgs failed to converge (status=1):\n",
      "STOP: TOTAL NO. of ITERATIONS REACHED LIMIT.\n",
      "\n",
      "Increase the number of iterations (max_iter) or scale the data as shown in:\n",
      "    https://scikit-learn.org/stable/modules/preprocessing.html\n",
      "Please also refer to the documentation for alternative solver options:\n",
      "    https://scikit-learn.org/stable/modules/linear_model.html#logistic-regression\n",
      "  extra_warning_msg=_LOGISTIC_SOLVER_CONVERGENCE_MSG)\n"
     ]
    },
    {
     "name": "stdout",
     "output_type": "stream",
     "text": [
      "[CV]  lr__class_weight=None, lr__dual=False, lr__penalty=l2, lr__solver=lbfgs, total=   0.2s\n",
      "[CV] lr__class_weight=None, lr__dual=False, lr__penalty=l2, lr__solver=lbfgs \n"
     ]
    },
    {
     "name": "stderr",
     "output_type": "stream",
     "text": [
      "/Users/brandongreenspan/opt/anaconda3/envs/dsi/lib/python3.7/site-packages/sklearn/linear_model/_logistic.py:940: ConvergenceWarning: lbfgs failed to converge (status=1):\n",
      "STOP: TOTAL NO. of ITERATIONS REACHED LIMIT.\n",
      "\n",
      "Increase the number of iterations (max_iter) or scale the data as shown in:\n",
      "    https://scikit-learn.org/stable/modules/preprocessing.html\n",
      "Please also refer to the documentation for alternative solver options:\n",
      "    https://scikit-learn.org/stable/modules/linear_model.html#logistic-regression\n",
      "  extra_warning_msg=_LOGISTIC_SOLVER_CONVERGENCE_MSG)\n"
     ]
    },
    {
     "name": "stdout",
     "output_type": "stream",
     "text": [
      "[CV]  lr__class_weight=None, lr__dual=False, lr__penalty=l2, lr__solver=lbfgs, total=   0.3s\n",
      "[CV] lr__class_weight=None, lr__dual=False, lr__penalty=l2, lr__solver=lbfgs \n"
     ]
    },
    {
     "name": "stderr",
     "output_type": "stream",
     "text": [
      "/Users/brandongreenspan/opt/anaconda3/envs/dsi/lib/python3.7/site-packages/sklearn/linear_model/_logistic.py:940: ConvergenceWarning: lbfgs failed to converge (status=1):\n",
      "STOP: TOTAL NO. of ITERATIONS REACHED LIMIT.\n",
      "\n",
      "Increase the number of iterations (max_iter) or scale the data as shown in:\n",
      "    https://scikit-learn.org/stable/modules/preprocessing.html\n",
      "Please also refer to the documentation for alternative solver options:\n",
      "    https://scikit-learn.org/stable/modules/linear_model.html#logistic-regression\n",
      "  extra_warning_msg=_LOGISTIC_SOLVER_CONVERGENCE_MSG)\n"
     ]
    },
    {
     "name": "stdout",
     "output_type": "stream",
     "text": [
      "[CV]  lr__class_weight=None, lr__dual=False, lr__penalty=l2, lr__solver=lbfgs, total=   0.3s\n",
      "[CV] lr__class_weight=None, lr__dual=False, lr__penalty=l2, lr__solver=lbfgs \n"
     ]
    },
    {
     "name": "stderr",
     "output_type": "stream",
     "text": [
      "/Users/brandongreenspan/opt/anaconda3/envs/dsi/lib/python3.7/site-packages/sklearn/linear_model/_logistic.py:940: ConvergenceWarning: lbfgs failed to converge (status=1):\n",
      "STOP: TOTAL NO. of ITERATIONS REACHED LIMIT.\n",
      "\n",
      "Increase the number of iterations (max_iter) or scale the data as shown in:\n",
      "    https://scikit-learn.org/stable/modules/preprocessing.html\n",
      "Please also refer to the documentation for alternative solver options:\n",
      "    https://scikit-learn.org/stable/modules/linear_model.html#logistic-regression\n",
      "  extra_warning_msg=_LOGISTIC_SOLVER_CONVERGENCE_MSG)\n",
      "/Users/brandongreenspan/opt/anaconda3/envs/dsi/lib/python3.7/site-packages/sklearn/model_selection/_validation.py:536: FitFailedWarning: Estimator fit failed. The score on this train-test partition for these parameters will be set to nan. Details: \n",
      "ValueError: Logistic Regression supports only solvers in ['liblinear', 'newton-cg', 'lbfgs', 'sag', 'saga'], got None.\n",
      "\n",
      "  FitFailedWarning)\n",
      "/Users/brandongreenspan/opt/anaconda3/envs/dsi/lib/python3.7/site-packages/sklearn/model_selection/_validation.py:536: FitFailedWarning: Estimator fit failed. The score on this train-test partition for these parameters will be set to nan. Details: \n",
      "ValueError: penalty='none' is not supported for the liblinear solver\n",
      "\n",
      "  FitFailedWarning)\n"
     ]
    },
    {
     "name": "stdout",
     "output_type": "stream",
     "text": [
      "[CV]  lr__class_weight=None, lr__dual=False, lr__penalty=l2, lr__solver=lbfgs, total=   0.3s\n",
      "[CV] lr__class_weight=None, lr__dual=False, lr__penalty=l2, lr__solver=None \n",
      "[CV]  lr__class_weight=None, lr__dual=False, lr__penalty=l2, lr__solver=None, total=   0.0s\n",
      "[CV] lr__class_weight=None, lr__dual=False, lr__penalty=l2, lr__solver=None \n",
      "[CV]  lr__class_weight=None, lr__dual=False, lr__penalty=l2, lr__solver=None, total=   0.0s\n",
      "[CV] lr__class_weight=None, lr__dual=False, lr__penalty=l2, lr__solver=None \n",
      "[CV]  lr__class_weight=None, lr__dual=False, lr__penalty=l2, lr__solver=None, total=   0.0s\n",
      "[CV] lr__class_weight=None, lr__dual=False, lr__penalty=l2, lr__solver=None \n",
      "[CV]  lr__class_weight=None, lr__dual=False, lr__penalty=l2, lr__solver=None, total=   0.0s\n",
      "[CV] lr__class_weight=None, lr__dual=False, lr__penalty=l2, lr__solver=None \n",
      "[CV]  lr__class_weight=None, lr__dual=False, lr__penalty=l2, lr__solver=None, total=   0.0s\n",
      "[CV] lr__class_weight=None, lr__dual=False, lr__penalty=none, lr__solver=liblinear \n",
      "[CV]  lr__class_weight=None, lr__dual=False, lr__penalty=none, lr__solver=liblinear, total=   0.0s\n",
      "[CV] lr__class_weight=None, lr__dual=False, lr__penalty=none, lr__solver=liblinear \n",
      "[CV]  lr__class_weight=None, lr__dual=False, lr__penalty=none, lr__solver=liblinear, total=   0.0s\n",
      "[CV] lr__class_weight=None, lr__dual=False, lr__penalty=none, lr__solver=liblinear \n",
      "[CV]  lr__class_weight=None, lr__dual=False, lr__penalty=none, lr__solver=liblinear, total=   0.0s\n",
      "[CV] lr__class_weight=None, lr__dual=False, lr__penalty=none, lr__solver=liblinear \n",
      "[CV]  lr__class_weight=None, lr__dual=False, lr__penalty=none, lr__solver=liblinear, total=   0.0s\n",
      "[CV] lr__class_weight=None, lr__dual=False, lr__penalty=none, lr__solver=liblinear \n",
      "[CV]  lr__class_weight=None, lr__dual=False, lr__penalty=none, lr__solver=liblinear, total=   0.0s\n",
      "[CV] lr__class_weight=None, lr__dual=False, lr__penalty=none, lr__solver=lbfgs \n"
     ]
    },
    {
     "name": "stderr",
     "output_type": "stream",
     "text": [
      "/Users/brandongreenspan/opt/anaconda3/envs/dsi/lib/python3.7/site-packages/sklearn/linear_model/_logistic.py:940: ConvergenceWarning: lbfgs failed to converge (status=1):\n",
      "STOP: TOTAL NO. of ITERATIONS REACHED LIMIT.\n",
      "\n",
      "Increase the number of iterations (max_iter) or scale the data as shown in:\n",
      "    https://scikit-learn.org/stable/modules/preprocessing.html\n",
      "Please also refer to the documentation for alternative solver options:\n",
      "    https://scikit-learn.org/stable/modules/linear_model.html#logistic-regression\n",
      "  extra_warning_msg=_LOGISTIC_SOLVER_CONVERGENCE_MSG)\n"
     ]
    },
    {
     "name": "stdout",
     "output_type": "stream",
     "text": [
      "[CV]  lr__class_weight=None, lr__dual=False, lr__penalty=none, lr__solver=lbfgs, total=   0.3s\n",
      "[CV] lr__class_weight=None, lr__dual=False, lr__penalty=none, lr__solver=lbfgs \n"
     ]
    },
    {
     "name": "stderr",
     "output_type": "stream",
     "text": [
      "/Users/brandongreenspan/opt/anaconda3/envs/dsi/lib/python3.7/site-packages/sklearn/linear_model/_logistic.py:940: ConvergenceWarning: lbfgs failed to converge (status=1):\n",
      "STOP: TOTAL NO. of ITERATIONS REACHED LIMIT.\n",
      "\n",
      "Increase the number of iterations (max_iter) or scale the data as shown in:\n",
      "    https://scikit-learn.org/stable/modules/preprocessing.html\n",
      "Please also refer to the documentation for alternative solver options:\n",
      "    https://scikit-learn.org/stable/modules/linear_model.html#logistic-regression\n",
      "  extra_warning_msg=_LOGISTIC_SOLVER_CONVERGENCE_MSG)\n"
     ]
    },
    {
     "name": "stdout",
     "output_type": "stream",
     "text": [
      "[CV]  lr__class_weight=None, lr__dual=False, lr__penalty=none, lr__solver=lbfgs, total=   0.4s\n",
      "[CV] lr__class_weight=None, lr__dual=False, lr__penalty=none, lr__solver=lbfgs \n"
     ]
    },
    {
     "name": "stderr",
     "output_type": "stream",
     "text": [
      "/Users/brandongreenspan/opt/anaconda3/envs/dsi/lib/python3.7/site-packages/sklearn/linear_model/_logistic.py:940: ConvergenceWarning: lbfgs failed to converge (status=1):\n",
      "STOP: TOTAL NO. of ITERATIONS REACHED LIMIT.\n",
      "\n",
      "Increase the number of iterations (max_iter) or scale the data as shown in:\n",
      "    https://scikit-learn.org/stable/modules/preprocessing.html\n",
      "Please also refer to the documentation for alternative solver options:\n",
      "    https://scikit-learn.org/stable/modules/linear_model.html#logistic-regression\n",
      "  extra_warning_msg=_LOGISTIC_SOLVER_CONVERGENCE_MSG)\n"
     ]
    },
    {
     "name": "stdout",
     "output_type": "stream",
     "text": [
      "[CV]  lr__class_weight=None, lr__dual=False, lr__penalty=none, lr__solver=lbfgs, total=   0.4s\n",
      "[CV] lr__class_weight=None, lr__dual=False, lr__penalty=none, lr__solver=lbfgs \n"
     ]
    },
    {
     "name": "stderr",
     "output_type": "stream",
     "text": [
      "/Users/brandongreenspan/opt/anaconda3/envs/dsi/lib/python3.7/site-packages/sklearn/linear_model/_logistic.py:940: ConvergenceWarning: lbfgs failed to converge (status=1):\n",
      "STOP: TOTAL NO. of ITERATIONS REACHED LIMIT.\n",
      "\n",
      "Increase the number of iterations (max_iter) or scale the data as shown in:\n",
      "    https://scikit-learn.org/stable/modules/preprocessing.html\n",
      "Please also refer to the documentation for alternative solver options:\n",
      "    https://scikit-learn.org/stable/modules/linear_model.html#logistic-regression\n",
      "  extra_warning_msg=_LOGISTIC_SOLVER_CONVERGENCE_MSG)\n"
     ]
    },
    {
     "name": "stdout",
     "output_type": "stream",
     "text": [
      "[CV]  lr__class_weight=None, lr__dual=False, lr__penalty=none, lr__solver=lbfgs, total=   0.3s\n",
      "[CV] lr__class_weight=None, lr__dual=False, lr__penalty=none, lr__solver=lbfgs \n"
     ]
    },
    {
     "name": "stderr",
     "output_type": "stream",
     "text": [
      "/Users/brandongreenspan/opt/anaconda3/envs/dsi/lib/python3.7/site-packages/sklearn/linear_model/_logistic.py:940: ConvergenceWarning: lbfgs failed to converge (status=1):\n",
      "STOP: TOTAL NO. of ITERATIONS REACHED LIMIT.\n",
      "\n",
      "Increase the number of iterations (max_iter) or scale the data as shown in:\n",
      "    https://scikit-learn.org/stable/modules/preprocessing.html\n",
      "Please also refer to the documentation for alternative solver options:\n",
      "    https://scikit-learn.org/stable/modules/linear_model.html#logistic-regression\n",
      "  extra_warning_msg=_LOGISTIC_SOLVER_CONVERGENCE_MSG)\n",
      "/Users/brandongreenspan/opt/anaconda3/envs/dsi/lib/python3.7/site-packages/sklearn/model_selection/_validation.py:536: FitFailedWarning: Estimator fit failed. The score on this train-test partition for these parameters will be set to nan. Details: \n",
      "ValueError: Logistic Regression supports only solvers in ['liblinear', 'newton-cg', 'lbfgs', 'sag', 'saga'], got None.\n",
      "\n",
      "  FitFailedWarning)\n",
      "[Parallel(n_jobs=1)]: Done 270 out of 270 | elapsed:  8.3min finished\n"
     ]
    },
    {
     "name": "stdout",
     "output_type": "stream",
     "text": [
      "[CV]  lr__class_weight=None, lr__dual=False, lr__penalty=none, lr__solver=lbfgs, total=   0.3s\n",
      "[CV] lr__class_weight=None, lr__dual=False, lr__penalty=none, lr__solver=None \n",
      "[CV]  lr__class_weight=None, lr__dual=False, lr__penalty=none, lr__solver=None, total=   0.0s\n",
      "[CV] lr__class_weight=None, lr__dual=False, lr__penalty=none, lr__solver=None \n",
      "[CV]  lr__class_weight=None, lr__dual=False, lr__penalty=none, lr__solver=None, total=   0.0s\n",
      "[CV] lr__class_weight=None, lr__dual=False, lr__penalty=none, lr__solver=None \n",
      "[CV]  lr__class_weight=None, lr__dual=False, lr__penalty=none, lr__solver=None, total=   0.0s\n",
      "[CV] lr__class_weight=None, lr__dual=False, lr__penalty=none, lr__solver=None \n",
      "[CV]  lr__class_weight=None, lr__dual=False, lr__penalty=none, lr__solver=None, total=   0.0s\n",
      "[CV] lr__class_weight=None, lr__dual=False, lr__penalty=none, lr__solver=None \n",
      "[CV]  lr__class_weight=None, lr__dual=False, lr__penalty=none, lr__solver=None, total=   0.0s\n"
     ]
    },
    {
     "name": "stderr",
     "output_type": "stream",
     "text": [
      "/Users/brandongreenspan/opt/anaconda3/envs/dsi/lib/python3.7/site-packages/sklearn/linear_model/_logistic.py:940: ConvergenceWarning: lbfgs failed to converge (status=1):\n",
      "STOP: TOTAL NO. of ITERATIONS REACHED LIMIT.\n",
      "\n",
      "Increase the number of iterations (max_iter) or scale the data as shown in:\n",
      "    https://scikit-learn.org/stable/modules/preprocessing.html\n",
      "Please also refer to the documentation for alternative solver options:\n",
      "    https://scikit-learn.org/stable/modules/linear_model.html#logistic-regression\n",
      "  extra_warning_msg=_LOGISTIC_SOLVER_CONVERGENCE_MSG)\n"
     ]
    }
   ],
   "source": [
    "logreg_model = gs.fit(X_train, y_train)"
   ]
  },
  {
   "cell_type": "code",
   "execution_count": 207,
   "metadata": {
    "scrolled": true
   },
   "outputs": [],
   "source": [
    "logreg_train_score = logreg_model.score(X_train, y_train)"
   ]
  },
  {
   "cell_type": "code",
   "execution_count": 208,
   "metadata": {},
   "outputs": [],
   "source": [
    "logreg_test_score = logreg_model.score(X_test, y_test)"
   ]
  },
  {
   "cell_type": "code",
   "execution_count": 150,
   "metadata": {},
   "outputs": [
    {
     "data": {
      "text/plain": [
       "{'lr__class_weight': 'balanced',\n",
       " 'lr__dual': False,\n",
       " 'lr__penalty': 'none',\n",
       " 'lr__solver': 'lbfgs'}"
      ]
     },
     "execution_count": 150,
     "metadata": {},
     "output_type": "execute_result"
    }
   ],
   "source": [
    "logreg_model.best_params_"
   ]
  },
  {
   "cell_type": "code",
   "execution_count": 151,
   "metadata": {},
   "outputs": [
    {
     "name": "stderr",
     "output_type": "stream",
     "text": [
      "/Users/brandongreenspan/opt/anaconda3/envs/dsi/lib/python3.7/site-packages/sklearn/linear_model/_logistic.py:940: ConvergenceWarning: lbfgs failed to converge (status=1):\n",
      "STOP: TOTAL NO. of ITERATIONS REACHED LIMIT.\n",
      "\n",
      "Increase the number of iterations (max_iter) or scale the data as shown in:\n",
      "    https://scikit-learn.org/stable/modules/preprocessing.html\n",
      "Please also refer to the documentation for alternative solver options:\n",
      "    https://scikit-learn.org/stable/modules/linear_model.html#logistic-regression\n",
      "  extra_warning_msg=_LOGISTIC_SOLVER_CONVERGENCE_MSG)\n",
      "/Users/brandongreenspan/opt/anaconda3/envs/dsi/lib/python3.7/site-packages/sklearn/linear_model/_logistic.py:940: ConvergenceWarning: lbfgs failed to converge (status=1):\n",
      "STOP: TOTAL NO. of ITERATIONS REACHED LIMIT.\n",
      "\n",
      "Increase the number of iterations (max_iter) or scale the data as shown in:\n",
      "    https://scikit-learn.org/stable/modules/preprocessing.html\n",
      "Please also refer to the documentation for alternative solver options:\n",
      "    https://scikit-learn.org/stable/modules/linear_model.html#logistic-regression\n",
      "  extra_warning_msg=_LOGISTIC_SOLVER_CONVERGENCE_MSG)\n",
      "/Users/brandongreenspan/opt/anaconda3/envs/dsi/lib/python3.7/site-packages/sklearn/linear_model/_logistic.py:940: ConvergenceWarning: lbfgs failed to converge (status=1):\n",
      "STOP: TOTAL NO. of ITERATIONS REACHED LIMIT.\n",
      "\n",
      "Increase the number of iterations (max_iter) or scale the data as shown in:\n",
      "    https://scikit-learn.org/stable/modules/preprocessing.html\n",
      "Please also refer to the documentation for alternative solver options:\n",
      "    https://scikit-learn.org/stable/modules/linear_model.html#logistic-regression\n",
      "  extra_warning_msg=_LOGISTIC_SOLVER_CONVERGENCE_MSG)\n",
      "/Users/brandongreenspan/opt/anaconda3/envs/dsi/lib/python3.7/site-packages/sklearn/linear_model/_logistic.py:940: ConvergenceWarning: lbfgs failed to converge (status=1):\n",
      "STOP: TOTAL NO. of ITERATIONS REACHED LIMIT.\n",
      "\n",
      "Increase the number of iterations (max_iter) or scale the data as shown in:\n",
      "    https://scikit-learn.org/stable/modules/preprocessing.html\n",
      "Please also refer to the documentation for alternative solver options:\n",
      "    https://scikit-learn.org/stable/modules/linear_model.html#logistic-regression\n",
      "  extra_warning_msg=_LOGISTIC_SOLVER_CONVERGENCE_MSG)\n",
      "/Users/brandongreenspan/opt/anaconda3/envs/dsi/lib/python3.7/site-packages/sklearn/linear_model/_logistic.py:940: ConvergenceWarning: lbfgs failed to converge (status=1):\n",
      "STOP: TOTAL NO. of ITERATIONS REACHED LIMIT.\n",
      "\n",
      "Increase the number of iterations (max_iter) or scale the data as shown in:\n",
      "    https://scikit-learn.org/stable/modules/preprocessing.html\n",
      "Please also refer to the documentation for alternative solver options:\n",
      "    https://scikit-learn.org/stable/modules/linear_model.html#logistic-regression\n",
      "  extra_warning_msg=_LOGISTIC_SOLVER_CONVERGENCE_MSG)\n"
     ]
    },
    {
     "data": {
      "text/plain": [
       "0.7506656103888034"
      ]
     },
     "execution_count": 151,
     "metadata": {},
     "output_type": "execute_result"
    }
   ],
   "source": [
    "cross_val_score(logreg_model.best_estimator_, X, y).mean()"
   ]
  },
  {
   "cell_type": "code",
   "execution_count": 176,
   "metadata": {},
   "outputs": [],
   "source": [
    "coefs = logreg_model.best_estimator_.steps[0][1].coef_"
   ]
  },
  {
   "cell_type": "code",
   "execution_count": 246,
   "metadata": {},
   "outputs": [],
   "source": [
    "coef_df = pd.DataFrame(coefs).T"
   ]
  },
  {
   "cell_type": "code",
   "execution_count": 252,
   "metadata": {},
   "outputs": [],
   "source": [
    "coef_df['coefficients'] = list(X.columns)"
   ]
  },
  {
   "cell_type": "code",
   "execution_count": 261,
   "metadata": {},
   "outputs": [],
   "source": [
    "coef_df.rename(columns=({0: 'coefficient',\n",
    "                        'coefficients': 'feature'}), inplace=True)"
   ]
  },
  {
   "cell_type": "code",
   "execution_count": 263,
   "metadata": {},
   "outputs": [
    {
     "data": {
      "text/html": [
       "<div>\n",
       "<style scoped>\n",
       "    .dataframe tbody tr th:only-of-type {\n",
       "        vertical-align: middle;\n",
       "    }\n",
       "\n",
       "    .dataframe tbody tr th {\n",
       "        vertical-align: top;\n",
       "    }\n",
       "\n",
       "    .dataframe thead th {\n",
       "        text-align: right;\n",
       "    }\n",
       "</style>\n",
       "<table border=\"1\" class=\"dataframe\">\n",
       "  <thead>\n",
       "    <tr style=\"text-align: right;\">\n",
       "      <th></th>\n",
       "      <th>coefficient</th>\n",
       "      <th>feature</th>\n",
       "    </tr>\n",
       "  </thead>\n",
       "  <tbody>\n",
       "    <tr>\n",
       "      <th>16</th>\n",
       "      <td>-45.670883</td>\n",
       "      <td>estimate!!race!!total population!!one race!!as...</td>\n",
       "    </tr>\n",
       "    <tr>\n",
       "      <th>60</th>\n",
       "      <td>-18.120664</td>\n",
       "      <td>estimate!!sex and age!!total population!!under...</td>\n",
       "    </tr>\n",
       "    <tr>\n",
       "      <th>63</th>\n",
       "      <td>-15.555378</td>\n",
       "      <td>estimate!!sex and age!!total population!!15 to...</td>\n",
       "    </tr>\n",
       "    <tr>\n",
       "      <th>61</th>\n",
       "      <td>-14.064792</td>\n",
       "      <td>estimate!!sex and age!!total population!!5 to ...</td>\n",
       "    </tr>\n",
       "    <tr>\n",
       "      <th>71</th>\n",
       "      <td>-13.928487</td>\n",
       "      <td>estimate!!sex and age!!total population!!75 to...</td>\n",
       "    </tr>\n",
       "    <tr>\n",
       "      <th>...</th>\n",
       "      <td>...</td>\n",
       "      <td>...</td>\n",
       "    </tr>\n",
       "    <tr>\n",
       "      <th>90</th>\n",
       "      <td>19.654609</td>\n",
       "      <td>deaths</td>\n",
       "    </tr>\n",
       "    <tr>\n",
       "      <th>34</th>\n",
       "      <td>21.651309</td>\n",
       "      <td>estimate!!race alone or in combination with on...</td>\n",
       "    </tr>\n",
       "    <tr>\n",
       "      <th>14</th>\n",
       "      <td>27.468764</td>\n",
       "      <td>estimate!!race!!total population!!one race!!as...</td>\n",
       "    </tr>\n",
       "    <tr>\n",
       "      <th>15</th>\n",
       "      <td>27.664438</td>\n",
       "      <td>estimate!!race!!total population!!one race!!as...</td>\n",
       "    </tr>\n",
       "    <tr>\n",
       "      <th>88</th>\n",
       "      <td>497.559770</td>\n",
       "      <td>total_covid</td>\n",
       "    </tr>\n",
       "  </tbody>\n",
       "</table>\n",
       "<p>841 rows × 2 columns</p>\n",
       "</div>"
      ],
      "text/plain": [
       "    coefficient                                            feature\n",
       "16   -45.670883  estimate!!race!!total population!!one race!!as...\n",
       "60   -18.120664  estimate!!sex and age!!total population!!under...\n",
       "63   -15.555378  estimate!!sex and age!!total population!!15 to...\n",
       "61   -14.064792  estimate!!sex and age!!total population!!5 to ...\n",
       "71   -13.928487  estimate!!sex and age!!total population!!75 to...\n",
       "..          ...                                                ...\n",
       "90    19.654609                                             deaths\n",
       "34    21.651309  estimate!!race alone or in combination with on...\n",
       "14    27.468764  estimate!!race!!total population!!one race!!as...\n",
       "15    27.664438  estimate!!race!!total population!!one race!!as...\n",
       "88   497.559770                                        total_covid\n",
       "\n",
       "[841 rows x 2 columns]"
      ]
     },
     "execution_count": 263,
     "metadata": {},
     "output_type": "execute_result"
    }
   ],
   "source": [
    "coef_df.sort_values(by = 'coefficient')"
   ]
  },
  {
   "cell_type": "code",
   "execution_count": 165,
   "metadata": {},
   "outputs": [
    {
     "data": {
      "text/plain": [
       "Pipeline(memory=None,\n",
       "         steps=[('lr',\n",
       "                 LogisticRegression(C=1.0, class_weight='balanced', dual=False,\n",
       "                                    fit_intercept=True, intercept_scaling=1,\n",
       "                                    l1_ratio=None, max_iter=100,\n",
       "                                    multi_class='auto', n_jobs=None,\n",
       "                                    penalty='none', random_state=11,\n",
       "                                    solver='lbfgs', tol=0.0001, verbose=0,\n",
       "                                    warm_start=False))],\n",
       "         verbose=False)"
      ]
     },
     "execution_count": 165,
     "metadata": {},
     "output_type": "execute_result"
    }
   ],
   "source": [
    "logreg_model.best_estimator_"
   ]
  },
  {
   "cell_type": "code",
   "execution_count": null,
   "metadata": {},
   "outputs": [],
   "source": []
  }
 ],
 "metadata": {
  "kernelspec": {
   "display_name": "Python 3",
   "language": "python",
   "name": "python3"
  },
  "language_info": {
   "codemirror_mode": {
    "name": "ipython",
    "version": 3
   },
   "file_extension": ".py",
   "mimetype": "text/x-python",
   "name": "python",
   "nbconvert_exporter": "python",
   "pygments_lexer": "ipython3",
   "version": "3.7.6"
  }
 },
 "nbformat": 4,
 "nbformat_minor": 4
}
