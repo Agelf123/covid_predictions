{
 "cells": [
  {
   "cell_type": "code",
   "execution_count": 2,
   "metadata": {},
   "outputs": [],
   "source": [
    "import pandas as pd\n",
    "import datetime as dt\n",
    "import time\n",
    "import requests\n"
   ]
  },
  {
   "cell_type": "markdown",
   "metadata": {},
   "source": [
    "Full from site (ACS): https://api.census.gov/data/2013/acs/acs1?get=NAME,B02015_009E,B02015_009M&for=state:*"
   ]
  },
  {
   "cell_type": "code",
   "execution_count": 3,
   "metadata": {},
   "outputs": [],
   "source": [
    "# Base URL for the 2017 ACS survey\n",
    "base_url = \"https://api.census.gov/data/2018/acs/acsse?get=\""
   ]
  },
  {
   "cell_type": "code",
   "execution_count": 4,
   "metadata": {},
   "outputs": [
    {
     "data": {
      "text/plain": [
       "339"
      ]
     },
     "execution_count": 4,
     "metadata": {},
     "output_type": "execute_result"
    }
   ],
   "source": [
    "# # add ons to URL for pull\n",
    "# features = 'K200001_001E','K200002_001E','K200101_001E','K200101_002E','K200101_003E','K200102_001E','K200102_002E','K200102_003E','K200102_004E','K200102_005E','K200102_006E','K200102_007E','K200102_008E','K200102_009E','K200103_001E','K200103_002E','K200103_003E','K200104_001E','K200104_002E','K200104_003E','K200104_004E','K200104_005E','K200104_006E','K200104_007E','K200104_008E','K200201_001E','K200201_002E','K200201_003E','K200201_004E','K200201_005E','K200201_006E','K200201_007E','K200201_008E','K200301_001E','K200301_002E','K200301_003E','K200501_001E','K200501_002E','K200501_003E','K200501PR_001E','K200501PR_002E','K200501PR_003E','K200503_001E','K200503_002E','K200503_003E','K200503_004E','K200503_005E','K200503_006E','K200503PR_001E','K200503PR_002E','K200503PR_003E','K200503PR_004E','K200503PR_005E','K200701_001E','K200701_002E','K200701_003E','K200701_004E','K200701_005E','K200701_006E','K200701PR_001E','K200701PR_002E','K200701PR_003E','K200701PR_004E','K200701PR_005E','K200701PR_006E','K200801_001E','K200801_002E','K200801_003E','K200801_004E','K200801_005E','K200801_006E','K200802_001E','K200802_002E','K200802_003E','K200802_004E','K200802_005E','K200901_001E','K200901_002E','K200901_003E','K200901_004E','K200901_005E','K200901_006E','K200901_007E','K200901_008E','K200901_009E','K201001_001E','K201001_002E','K201001_003E','K201001_004E','K201001_005E','K201001_006E','K201101_001E','K201101_002E','K201101_003E','K201101_004E','K201101_005E','K201102_001E','K201102_002E','K201102_003E','K201102_004E','K201102_005E','K201102_006E','K201102_007E','K201401_001E','K201401_002E','K201401_003E','K201401_004E','K201401_005E','K201401_006E','K201401_007E','K201401_008E','K201401_009E','K201401_010E','K201501_001E','K201501_002E','K201501_003E','K201501_004E','K201501_005E','K201501_006E','K201501_007E','K201501_008E','K201601_001E','K201601_002E','K201601_003E','K201601_004E','K201601_005E','K201601_006E','K201601_007E','K201601_008E','K201701_001E','K201701_002E','K201701_003E','K201701_004E','K201701_005E','K201701_006E','K201701_007E','K201701_008E','K201701_009E','K201702_001E','K201702_002E','K201702_003E','K201702_004E','K201702_005E','K201702_006E','K201703_001E','K201703_002E','K201703_003E','K201703_004E','K201703_005E','K201703_006E','K201703_007E','K201703_008E','K201703_009E','K201703_010E','K201703_011E','K201801_001E','K201801_002E','K201801_003E','K201801_004E','K201801_005E','K201801_006E','K201802_001E','K201802_002E','K201802_003E','K201802_004E','K201802_005E','K201802_006E','K201802_007E','K201802_008E','K201802_009E','K201802_010E','K201803_001E','K201803_002E','K201803_003E','K201803_004E','K201803_005E','K201803_006E','K201803_007E','K201803_008E','K201803_009E','K201901_001E','K201901_002E','K201901_003E','K201901_004E','K201901_005E','K201901_006E','K201901_007E','K201901_008E','K201902_001E','K201903_001E','K201903_002E','K201903_003E','K201903_004E','K201903_005E','K201903_006E','K201903_007E','K201903_008E','K201904_001E','K201905_001E','K202002_001E','K202002_002E','K202002_003E','K202002_004E','K202002_005E','K202101_001E','K202101_002E','K202101_003E','K202101_004E','K202101_005E','K202101_006E','K202102_001E','K202102_002E','K202102_003E','K202201_001E','K202201_002E','K202201_003E','K202201_004E','K202201_005E','K202201_006E','K202201_007E','K202301_001E','K202301_002E','K202301_003E','K202301_004E','K202301_005E','K202301_006E','K202301_007E','K202302_001E','K202302_002E','K202302_003E','K202302_004E','K202302_005E','K202302_006E','K202302_007E','K202302_008E','K202302_009E','K202302_010E','K202302_011E','K202401_001E','K202401_002E','K202401_003E','K202401_004E','K202401_005E','K202401_006E','K202402_001E','K202402_002E','K202402_003E','K202402_004E','K202402_005E','K202402_006E','K202402_007E','K202402_008E','K202402_009E','K202403_001E','K202403_002E','K202403_003E','K202403_004E','K202403_005E','K202403_006E','K202403_007E','K202403_008E','K202403_009E','K202403_010E','K202403_011E','K202403_012E','K202403_013E','K202403_014E','K202501_001E','K202501_002E','K202501_003E','K202502_001E','K202502_002E','K202502_003E','K202503_001E','K202503_002E','K202503_003E','K202504_001E','K202504_002E','K202504_003E','K202504_004E','K202504_005E','K202504_006E','K202504_007E','K202505_001E','K202505_002E','K202505_003E','K202505_004E','K202505_005E','K202505_006E','K202505_007E','K202506_001E','K202506_002E','K202506_003E','K202506_004E','K202506_005E','K202507_001E','K202507_002E','K202507_003E','K202507_004E','K202507_005E','K202507_006E','K202507_007E','K202508_001E','K202508_002E','K202508_003E','K202509_001E','K202509_002E','K202509_003E','K202509_004E','K202509_005E','K202509_006E','K202509_007E','K202509_008E','K202509_009E','K202510_001E','K202511_001E','K202601_001E','K202701_001E','K202701_002E','K202701_003E','K202701_004E','K202701_005E','K202701_006E','K202701_007E','K202701_008E','K202701_009E','K202701_010E','K202702_001E','K202702_002E','K202702_003E','K202703_001E','K202703_002E','K202703_003E','K202801_001E','K202801_002E','K202801_003E','K202801_004E','K202801_005E','K202801_006E'\n",
    "# len(features)"
   ]
  },
  {
   "cell_type": "code",
   "execution_count": 5,
   "metadata": {},
   "outputs": [
    {
     "data": {
      "text/plain": [
       "39"
      ]
     },
     "execution_count": 5,
     "metadata": {},
     "output_type": "execute_result"
    }
   ],
   "source": [
    "# len(features)%50 "
   ]
  },
  {
   "cell_type": "code",
   "execution_count": 6,
   "metadata": {
    "scrolled": true
   },
   "outputs": [
    {
     "name": "stdout",
     "output_type": "stream",
     "text": [
      "pulling number 1\n",
      "pull 1 was successful\n",
      "pulling number 2\n",
      "pull 2 was successful\n",
      "pulling number 3\n",
      "pull 3 was successful\n",
      "pulling number 4\n",
      "pull 4 was successful\n",
      "pulling number 5\n",
      "pull 5 was successful\n",
      "pulling number 6\n",
      "pull 6 was successful\n",
      "pulling number remainder\n"
     ]
    },
    {
     "ename": "AssertionError",
     "evalue": "",
     "output_type": "error",
     "traceback": [
      "\u001b[1;31m---------------------------------------------------------------------------\u001b[0m",
      "\u001b[1;31mAssertionError\u001b[0m                            Traceback (most recent call last)",
      "\u001b[1;32m<ipython-input-6-56b93057c324>\u001b[0m in \u001b[0;36m<module>\u001b[1;34m\u001b[0m\n\u001b[0;32m     44\u001b[0m \u001b[0mprint\u001b[0m\u001b[1;33m(\u001b[0m\u001b[1;34mf'pulling number remainder'\u001b[0m\u001b[1;33m)\u001b[0m     \u001b[1;31m# Just a status check during the pull\u001b[0m\u001b[1;33m\u001b[0m\u001b[1;33m\u001b[0m\u001b[0m\n\u001b[0;32m     45\u001b[0m \u001b[0mres\u001b[0m \u001b[1;33m=\u001b[0m \u001b[0mrequests\u001b[0m\u001b[1;33m.\u001b[0m\u001b[0mget\u001b[0m\u001b[1;33m(\u001b[0m\u001b[0murl\u001b[0m\u001b[1;33m)\u001b[0m          \u001b[1;31m# Requests the pull\u001b[0m\u001b[1;33m\u001b[0m\u001b[1;33m\u001b[0m\u001b[0m\n\u001b[1;32m---> 46\u001b[1;33m \u001b[1;32massert\u001b[0m \u001b[0mres\u001b[0m\u001b[1;33m.\u001b[0m\u001b[0mstatus_code\u001b[0m \u001b[1;33m==\u001b[0m \u001b[1;36m200\u001b[0m    \u001b[1;31m# Checks that the requests was successful\u001b[0m\u001b[1;33m\u001b[0m\u001b[1;33m\u001b[0m\u001b[0m\n\u001b[0m\u001b[0;32m     47\u001b[0m \u001b[0mprint\u001b[0m\u001b[1;33m(\u001b[0m\u001b[1;34mf'pull remainder was successful'\u001b[0m\u001b[1;33m)\u001b[0m\u001b[1;33m\u001b[0m\u001b[1;33m\u001b[0m\u001b[0m\n\u001b[0;32m     48\u001b[0m \u001b[1;33m\u001b[0m\u001b[0m\n",
      "\u001b[1;31mAssertionError\u001b[0m: "
     ]
    }
   ],
   "source": [
    "# # Set the number of items \n",
    "# # This line removes the single quotes and removes white space for api\n",
    "\n",
    "\n",
    "# geo = \"&for=county:*\"\n",
    "# census_data = []\n",
    "\n",
    "# l = 50                # number of variables per quarry, per API\n",
    "# n = len(features)//l  # number of full pulls upto the limit\n",
    "# m = len(features)%l   # partial pull of remainder\n",
    "\n",
    "# for i in range(1,n+1):\n",
    "#     limit = features[((l*(i-1))+1):(l*i)]\n",
    "#     limits = str(limit)\n",
    "\n",
    "#     feat1 = limits.replace(\"'\",\"\")\n",
    "#     feat2 = feat1.replace(\"(\",\"\")\n",
    "#     feat3 = feat2.replace(\")\",\"\")\n",
    "#     feat = feat3.replace(\" \", \"\")\n",
    "#     feat\n",
    "    \n",
    "#     url = base_url+feat+geo\n",
    "    \n",
    "#     print(f'pulling number {i}')     # Just a status check during the pull\n",
    "#     res = requests.get(url)          # Requests the pull\n",
    "#     assert res.status_code == 200    # Checks that the requests was successful\n",
    "#     print(f'pull {i} was successful')\n",
    "    \n",
    "#     json = res.json()\n",
    "#     df = pd.DataFrame(json)\n",
    "#     census_data.append(df)\n",
    "  \n",
    "\n",
    "    \n",
    "# limit = features[((l*(n-1))+1):(l*n)+m]\n",
    "# limits = str(limit)\n",
    "# feat1 = limits.replace(\"'\",\"\")\n",
    "# feat2 = feat1.replace(\"(\",\"\")\n",
    "# feat3 = feat2.replace(\")\",\"\")\n",
    "# feat = feat3.replace(\" \", \"\")\n",
    "\n",
    "# url = base_url+feat+geo\n",
    "\n",
    "# print(f'pulling number remainder')     # Just a status check during the pull\n",
    "# res = requests.get(url)          # Requests the pull\n",
    "# assert res.status_code == 200    # Checks that the requests was successful\n",
    "# print(f'pull remainder was successful')\n",
    "\n",
    "# json = res.json()\n",
    "# df = pd.DataFrame(json)\n",
    "# census_data.append(df)\n"
   ]
  },
  {
   "cell_type": "code",
   "execution_count": null,
   "metadata": {},
   "outputs": [],
   "source": [
    "\n",
    "cd.columns = cd.loc[0].values\n",
    "cd.head()"
   ]
  },
  {
   "cell_type": "code",
   "execution_count": null,
   "metadata": {
    "scrolled": true
   },
   "outputs": [],
   "source": [
    "cd = pd.concat(census_data, axis= 1)\n"
   ]
  },
  {
   "cell_type": "code",
   "execution_count": null,
   "metadata": {},
   "outputs": [],
   "source": [
    "census_data[0].loc[0].drop(0, inplace = True)\n",
    "census_data[0]"
   ]
  },
  {
   "cell_type": "code",
   "execution_count": null,
   "metadata": {},
   "outputs": [],
   "source": [
    "url = base_url+'NAME'+geo\n",
    "url"
   ]
  },
  {
   "cell_type": "code",
   "execution_count": null,
   "metadata": {},
   "outputs": [],
   "source": []
  },
  {
   "cell_type": "code",
   "execution_count": null,
   "metadata": {},
   "outputs": [],
   "source": []
  },
  {
   "cell_type": "code",
   "execution_count": null,
   "metadata": {},
   "outputs": [],
   "source": []
  },
  {
   "cell_type": "code",
   "execution_count": null,
   "metadata": {},
   "outputs": [],
   "source": [
    "census = pd.read_csv('../../data/census_data.csv')"
   ]
  },
  {
   "cell_type": "code",
   "execution_count": null,
   "metadata": {},
   "outputs": [],
   "source": [
    "census.shape"
   ]
  },
  {
   "cell_type": "code",
   "execution_count": null,
   "metadata": {},
   "outputs": [],
   "source": [
    "census.head()"
   ]
  },
  {
   "cell_type": "code",
   "execution_count": null,
   "metadata": {},
   "outputs": [],
   "source": [
    "err_cols = [col for col in census.columns if 'Error' in col]"
   ]
  },
  {
   "cell_type": "code",
   "execution_count": null,
   "metadata": {},
   "outputs": [],
   "source": [
    "census = census.drop(columns = err_cols)"
   ]
  },
  {
   "cell_type": "code",
   "execution_count": null,
   "metadata": {},
   "outputs": [],
   "source": [
    "census.rename(columns = {'Geographic Area Name': 'county',\n",
    "                          'Unnamed: 2': 'state'}, inplace = True)"
   ]
  },
  {
   "cell_type": "code",
   "execution_count": null,
   "metadata": {},
   "outputs": [],
   "source": [
    "per_cols = [col for col in census.columns if 'Perce' in col]\n"
   ]
  },
  {
   "cell_type": "code",
   "execution_count": null,
   "metadata": {},
   "outputs": [],
   "source": [
    "census = census.drop(columns = per_cols)"
   ]
  },
  {
   "cell_type": "code",
   "execution_count": null,
   "metadata": {},
   "outputs": [],
   "source": [
    "census.head()"
   ]
  },
  {
   "cell_type": "code",
   "execution_count": null,
   "metadata": {},
   "outputs": [],
   "source": [
    "census.head()\n"
   ]
  },
  {
   "cell_type": "code",
   "execution_count": 1,
   "metadata": {},
   "outputs": [
    {
     "ename": "NameError",
     "evalue": "name 'census' is not defined",
     "output_type": "error",
     "traceback": [
      "\u001b[1;31m---------------------------------------------------------------------------\u001b[0m",
      "\u001b[1;31mNameError\u001b[0m                                 Traceback (most recent call last)",
      "\u001b[1;32m<ipython-input-1-ff1645e38d0d>\u001b[0m in \u001b[0;36m<module>\u001b[1;34m\u001b[0m\n\u001b[1;32m----> 1\u001b[1;33m census.replace({\n\u001b[0m\u001b[0;32m      2\u001b[0m     \u001b[1;34m'Alabama'\u001b[0m\u001b[1;33m:\u001b[0m \u001b[1;34m'AL'\u001b[0m\u001b[1;33m,\u001b[0m\u001b[1;33m\u001b[0m\u001b[1;33m\u001b[0m\u001b[0m\n\u001b[0;32m      3\u001b[0m     \u001b[1;34m'Alaska'\u001b[0m\u001b[1;33m:\u001b[0m \u001b[1;34m'AK'\u001b[0m\u001b[1;33m,\u001b[0m\u001b[1;33m\u001b[0m\u001b[1;33m\u001b[0m\u001b[0m\n\u001b[0;32m      4\u001b[0m     \u001b[1;34m'American Samoa'\u001b[0m\u001b[1;33m:\u001b[0m \u001b[1;34m'AS'\u001b[0m\u001b[1;33m,\u001b[0m\u001b[1;33m\u001b[0m\u001b[1;33m\u001b[0m\u001b[0m\n\u001b[0;32m      5\u001b[0m     \u001b[1;34m'Arizona'\u001b[0m\u001b[1;33m:\u001b[0m \u001b[1;34m'AZ'\u001b[0m\u001b[1;33m,\u001b[0m\u001b[1;33m\u001b[0m\u001b[1;33m\u001b[0m\u001b[0m\n",
      "\u001b[1;31mNameError\u001b[0m: name 'census' is not defined"
     ]
    }
   ],
   "source": [
    "census.replace({\n",
    "    'Alabama': 'AL',\n",
    "    'Alaska': 'AK',\n",
    "    'American Samoa': 'AS',\n",
    "    'Arizona': 'AZ',\n",
    "    'Arkansas': 'AR',\n",
    "    'California': 'CA',\n",
    "    'Colorado': 'CO',\n",
    "    'Connecticut': 'CT',\n",
    "    'Delaware': 'DE',\n",
    "    'District of Columbia': 'DC',\n",
    "    'Florida': 'FL',\n",
    "    'Georgia': 'GA',\n",
    "    'Guam': 'GU',\n",
    "    'Hawaii': 'HI',\n",
    "    'Idaho': 'ID',\n",
    "    'Illinois': 'IL',\n",
    "    'Indiana': 'IN',\n",
    "    'Iowa': 'IA',\n",
    "    'Kansas': 'KS',\n",
    "    'Kentucky': 'KY',\n",
    "    'Louisiana': 'LA',\n",
    "    'Maine': 'ME',\n",
    "    'Maryland': 'MD',\n",
    "    'Massachusetts': 'MA',\n",
    "    'Michigan': 'MI',\n",
    "    'Minnesota': 'MN',\n",
    "    'Mississippi': 'MS',\n",
    "    'Missouri': 'MO',\n",
    "    'Montana': 'MT',\n",
    "    'Nebraska': 'NE',\n",
    "    'Nevada': 'NV',\n",
    "    'New Hampshire': 'NH',\n",
    "    'New Jersey': 'NJ',\n",
    "    'New Mexico': 'NM',\n",
    "    'New York': 'NY',\n",
    "    'North Carolina': 'NC',\n",
    "    'North Dakota': 'ND',\n",
    "    'Northern Mariana Islands':'MP',\n",
    "    'Ohio': 'OH',\n",
    "    'Oklahoma': 'OK',\n",
    "    'Oregon': 'OR',\n",
    "    'Pennsylvania': 'PA',\n",
    "    'Puerto Rico': 'PR',\n",
    "    'Rhode Island': 'RI',\n",
    "    'South Carolina': 'SC',\n",
    "    'South Dakota': 'SD',\n",
    "    'Tennessee': 'TN',\n",
    "    'Texas': 'TX',\n",
    "    'Utah': 'UT',\n",
    "    'Vermont': 'VT',\n",
    "    'Virginia': 'VA',\n",
    "    'Washington': 'WA',\n",
    "    'West Virginia': 'WV',\n",
    "    'Wisconsin': 'WI',\n",
    "    'Wyoming': 'WY'\n",
    "}, inplace = True) "
   ]
  },
  {
   "cell_type": "code",
   "execution_count": 172,
   "metadata": {},
   "outputs": [],
   "source": [
    "census.to_csv(r'../../data/census.csv')"
   ]
  },
  {
   "cell_type": "code",
   "execution_count": null,
   "metadata": {},
   "outputs": [],
   "source": []
  },
  {
   "cell_type": "code",
   "execution_count": null,
   "metadata": {},
   "outputs": [],
   "source": []
  }
 ],
 "metadata": {
  "kernelspec": {
   "display_name": "Python [conda env:dsi] *",
   "language": "python",
   "name": "conda-env-dsi-py"
  },
  "language_info": {
   "codemirror_mode": {
    "name": "ipython",
    "version": 3
   },
   "file_extension": ".py",
   "mimetype": "text/x-python",
   "name": "python",
   "nbconvert_exporter": "python",
   "pygments_lexer": "ipython3",
   "version": "3.7.6"
  }
 },
 "nbformat": 4,
 "nbformat_minor": 4
}
